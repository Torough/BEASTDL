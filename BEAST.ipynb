{
  "nbformat": 4,
  "nbformat_minor": 0,
  "metadata": {
    "colab": {
      "name": "BEAST",
      "version": "0.3.2",
      "provenance": [],
      "collapsed_sections": [
        "RFmhx9NwvfNz",
        "Xq_cdbVuvJRS",
        "dPRu-TDzvN9_",
        "jVDpihV6DHHV",
        "OtPvlXJwXFDn",
        "GEclpfd67T_0",
        "5PzUKc1sXSRU",
        "JLllkrgoXbF2",
        "7Z-UTObgX3o0",
        "QMD2CzqRHFDB",
        "QzlzlapOPTzW",
        "w-ZJFw44wLBv",
        "-HQ7l_75Wr8T"
      ],
      "include_colab_link": true
    },
    "kernelspec": {
      "name": "python3",
      "display_name": "Python 3"
    }
  },
  "cells": [
    {
      "cell_type": "markdown",
      "metadata": {
        "id": "view-in-github",
        "colab_type": "text"
      },
      "source": [
        "<a href=\"https://colab.research.google.com/github/Torough/BEASTDL/blob/master/BEAST.ipynb\" target=\"_parent\"><img src=\"https://colab.research.google.com/assets/colab-badge.svg\" alt=\"Open In Colab\"/></a>"
      ]
    },
    {
      "cell_type": "markdown",
      "metadata": {
        "id": "oti8Br8fr6tL",
        "colab_type": "text"
      },
      "source": [
        "##Mount Images From Google Drive"
      ]
    },
    {
      "cell_type": "code",
      "metadata": {
        "id": "AQwf6klOt5to",
        "colab_type": "code",
        "colab": {}
      },
      "source": [
        "#Plot Neural Network layers\n",
        "#https://www.analyticsvidhya.com/blog/2019/05/understanding-visualizing-neural-networks/"
      ],
      "execution_count": 0,
      "outputs": []
    },
    {
      "cell_type": "code",
      "metadata": {
        "id": "4T75EIS1whC2",
        "colab_type": "code",
        "outputId": "0d46a99d-d912-4bca-816f-dd9719f65f19",
        "colab": {
          "base_uri": "https://localhost:8080/",
          "height": 128
        }
      },
      "source": [
        "from google.colab import drive\n",
        "drive.mount('/content/gdrive'\n",
        "           )"
      ],
      "execution_count": 1,
      "outputs": [
        {
          "output_type": "stream",
          "text": [
            "Go to this URL in a browser: https://accounts.google.com/o/oauth2/auth?client_id=947318989803-6bn6qk8qdgf4n4g3pfee6491hc0brc4i.apps.googleusercontent.com&redirect_uri=urn%3Aietf%3Awg%3Aoauth%3A2.0%3Aoob&scope=email%20https%3A%2F%2Fwww.googleapis.com%2Fauth%2Fdocs.test%20https%3A%2F%2Fwww.googleapis.com%2Fauth%2Fdrive%20https%3A%2F%2Fwww.googleapis.com%2Fauth%2Fdrive.photos.readonly%20https%3A%2F%2Fwww.googleapis.com%2Fauth%2Fpeopleapi.readonly&response_type=code\n",
            "\n",
            "Enter your authorization code:\n",
            "··········\n",
            "Mounted at /content/gdrive\n"
          ],
          "name": "stdout"
        }
      ]
    },
    {
      "cell_type": "markdown",
      "metadata": {
        "id": "62a9-mZWsFPv",
        "colab_type": "text"
      },
      "source": [
        "##IMPORTS"
      ]
    },
    {
      "cell_type": "code",
      "metadata": {
        "id": "LDlWAXHU4SYh",
        "colab_type": "code",
        "colab": {
          "base_uri": "https://localhost:8080/",
          "height": 35
        },
        "outputId": "e5f1fc14-5692-485c-f4b6-1e04eb9bb87b"
      },
      "source": [
        "import os\n",
        "import numpy as np\n",
        "import seaborn as sns\n",
        "import matplotlib.pyplot as plt\n",
        "import random\n",
        "import keras\n",
        "import sys, cv2, glob, os, time\n",
        "from tqdm import tqdm\n",
        "from sklearn import metrics, svm, metrics\n",
        "from keras import backend as K\n",
        "from keras.models import Sequential, Model\n",
        "from keras.layers import Conv2D, Dense, Flatten, Input, BatchNormalization, Activation, Dropout\n",
        "\n",
        "from keras.layers import  MaxPooling2D, GlobalAveragePooling2D\n",
        "from keras.optimizers import Adam\n",
        "from keras.applications.vgg16 import VGG16\n",
        "from keras.applications.vgg19 import VGG19\n",
        "from keras.applications.resnet50 import ResNet50\n",
        "from keras.applications.mobilenet import MobileNet\n",
        "\n",
        "import matplotlib.pyplot as plt\n",
        "from os import listdir\n",
        "from PIL import Image\n",
        "from keras.preprocessing.image import load_img, img_to_array, ImageDataGenerator\n",
        "import copy"
      ],
      "execution_count": 3,
      "outputs": [
        {
          "output_type": "stream",
          "text": [
            "Using TensorFlow backend.\n"
          ],
          "name": "stderr"
        }
      ]
    },
    {
      "cell_type": "code",
      "metadata": {
        "id": "mkp_PPv53jFL",
        "colab_type": "code",
        "colab": {
          "base_uri": "https://localhost:8080/",
          "height": 35
        },
        "outputId": "a9d32905-29c2-4338-c6e6-dd601e0ee9e4"
      },
      "source": [
        "print (cv2.__version__)\n"
      ],
      "execution_count": 24,
      "outputs": [
        {
          "output_type": "stream",
          "text": [
            "3.4.3\n"
          ],
          "name": "stdout"
        }
      ]
    },
    {
      "cell_type": "markdown",
      "metadata": {
        "id": "JEb8xjSBsaah",
        "colab_type": "text"
      },
      "source": [
        "##Log Gabor Filter"
      ]
    },
    {
      "cell_type": "code",
      "metadata": {
        "id": "_sZ6KArf9k4Y",
        "colab_type": "code",
        "outputId": "fa9fe87c-1693-4c5d-f0bc-e6b21454540e",
        "colab": {
          "base_uri": "https://localhost:8080/",
          "height": 323
        }
      },
      "source": [
        "!pip install LogGabor\n",
        "from LogGabor import LogGabor"
      ],
      "execution_count": 0,
      "outputs": [
        {
          "output_type": "stream",
          "text": [
            "Collecting LogGabor\n",
            "  Downloading https://files.pythonhosted.org/packages/ca/e2/55bb5ba67e4ce51749b7ec34ce0318c5ca2363f4f754ea56fdfbd2fe88b1/LogGabor-20171205-py3-none-any.whl\n",
            "Collecting SLIP (from LogGabor)\n",
            "  Downloading https://files.pythonhosted.org/packages/9a/09/dc12385f9c98a784f60f8dd142c1d2f9239c13e9525171f96bf1df74108c/SLIP-20171205-py3-none-any.whl\n",
            "Requirement already satisfied: imageio in /usr/local/lib/python3.6/dist-packages (from SLIP->LogGabor) (2.4.1)\n",
            "Requirement already satisfied: numpy in /usr/local/lib/python3.6/dist-packages (from SLIP->LogGabor) (1.16.4)\n",
            "Collecting NeuroTools (from SLIP->LogGabor)\n",
            "\u001b[?25l  Downloading https://files.pythonhosted.org/packages/8c/63/0f81493c290ff10f7dd2aaa35d4826c000087127d09ded5a48a41c1cd425/NeuroTools-0.3.1.tar.gz (172kB)\n",
            "\u001b[K     |████████████████████████████████| 174kB 7.8MB/s \n",
            "\u001b[?25hRequirement already satisfied: pillow in /usr/local/lib/python3.6/dist-packages (from imageio->SLIP->LogGabor) (4.3.0)\n",
            "Requirement already satisfied: olefile in /usr/local/lib/python3.6/dist-packages (from pillow->imageio->SLIP->LogGabor) (0.46)\n",
            "Building wheels for collected packages: NeuroTools\n",
            "  Building wheel for NeuroTools (setup.py) ... \u001b[?25l\u001b[?25hdone\n",
            "  Created wheel for NeuroTools: filename=NeuroTools-0.3.1-cp36-none-any.whl size=120979 sha256=f6e6e874bb21680687fc81b8e79cc591bf1a771386791691cc841b0230faa909\n",
            "  Stored in directory: /root/.cache/pip/wheels/15/a0/b8/d9a594c2a83d0d4f19bf28673a2df51f374f2f2a9360e43f69\n",
            "Successfully built NeuroTools\n",
            "Installing collected packages: NeuroTools, SLIP, LogGabor\n",
            "Successfully installed LogGabor-20171205 NeuroTools-0.3.1 SLIP-20171205\n"
          ],
          "name": "stdout"
        }
      ]
    },
    {
      "cell_type": "markdown",
      "metadata": {
        "id": "2TSRBTtLsnXR",
        "colab_type": "text"
      },
      "source": [
        "##Initial Data Generator"
      ]
    },
    {
      "cell_type": "code",
      "metadata": {
        "id": "x1ZcFc8d6WdE",
        "colab_type": "code",
        "colab": {}
      },
      "source": [
        "'''path = \"/content/gdrive/My Drive/project/BEAST1/Anger/\"\n",
        "\n",
        "\n",
        "def loadImages(path):\n",
        "    count = 1\n",
        "    images = []\n",
        "    imageList = sorted(listdir(path))\n",
        "    for i in imageList:\n",
        "        image = load_img(path + i)\n",
        "        image = img_to_array(image)\n",
        "        images.append(image)\n",
        "        if (count % 100 == 0):\n",
        "            print(\"Processing image\", count)\n",
        "        count += 1\n",
        "    print(\"Done.\")\n",
        "    return np.asarray(images, dtype='float')\n",
        "    \n",
        "    \n",
        "#loadImages(path)\n",
        "\n"
      ],
      "execution_count": 0,
      "outputs": []
    },
    {
      "cell_type": "markdown",
      "metadata": {
        "id": "xKxljZ6mszXJ",
        "colab_type": "text"
      },
      "source": [
        "##Data Directory (Plot)"
      ]
    },
    {
      "cell_type": "code",
      "metadata": {
        "id": "W5e_LQzOTFCD",
        "colab_type": "code",
        "colab": {}
      },
      "source": [
        "'''for category in CATEGORIES: \n",
        "    path = os.path.join(DATADIR,category) \n",
        "    for img in os.listdir(path):  \n",
        "        img_array = cv2.imread(os.path.join(path,img))  # convert to array\n",
        "        plt.imshow(img_array, cmap='gray')  # graph it\n",
        "        plt.show()  # display!\n",
        "\n",
        "        break  # we just want one for now so break\n",
        "    break  #...and one more!\n",
        "'''    \n",
        "  "
      ],
      "execution_count": 0,
      "outputs": []
    },
    {
      "cell_type": "code",
      "metadata": {
        "id": "6Sf7-Lpk61sA",
        "colab_type": "code",
        "outputId": "39effc19-84a2-451c-b7fb-af34ae751920",
        "colab": {
          "base_uri": "https://localhost:8080/",
          "height": 55
        }
      },
      "source": [
        "listdir(\"/content/gdrive/My Drive/project/BEAST1/Anger/\")\n",
        "\n",
        "DATADIR = \"/content/gdrive/My Drive/project/BEAST1/\"\n",
        "\n",
        "CATEGORIES = [\"Anger\", \"Fear\", \"Happy\", \"Sad\"]\n",
        "\n",
        "'''for category in CATEGORIES: \n",
        "    path = os.path.join(DATADIR,category) \n",
        "    for img in os.listdir(path):  \n",
        "        img_array = cv2.imread(os.path.join(path,img))  # convert to array\n",
        "        plt.imshow(img_array, cmap='gray')  # graph it\n",
        "        plt.show()  # display!\n",
        "\n",
        "        break  # we just want one for now so break\n",
        "    break  #...and one more!\n",
        "'''    \n",
        "  "
      ],
      "execution_count": 5,
      "outputs": [
        {
          "output_type": "execute_result",
          "data": {
            "text/plain": [
              "\"for category in CATEGORIES: \\n    path = os.path.join(DATADIR,category) \\n    for img in os.listdir(path):  \\n        img_array = cv2.imread(os.path.join(path,img))  # convert to array\\n        plt.imshow(img_array, cmap='gray')  # graph it\\n        plt.show()  # display!\\n\\n        break  # we just want one for now so break\\n    break  #...and one more!\\n\""
            ]
          },
          "metadata": {
            "tags": []
          },
          "execution_count": 5
        }
      ]
    },
    {
      "cell_type": "code",
      "metadata": {
        "id": "uTsRIPmTivlW",
        "colab_type": "code",
        "colab": {}
      },
      "source": [
        ""
      ],
      "execution_count": 0,
      "outputs": []
    },
    {
      "cell_type": "markdown",
      "metadata": {
        "id": "scDLwCqptJ_I",
        "colab_type": "text"
      },
      "source": [
        "##Data Generator"
      ]
    },
    {
      "cell_type": "code",
      "metadata": {
        "id": "8IL_c_uKkAsd",
        "colab_type": "code",
        "outputId": "255503e0-d716-4a03-e4ec-4620945d8618",
        "colab": {
          "base_uri": "https://localhost:8080/",
          "height": 108
        }
      },
      "source": [
        "training_data = []\n",
        "\n",
        "def create_training_data():\n",
        "    for category in CATEGORIES:  # \n",
        "\n",
        "        path = os.path.join(DATADIR,category)  # create path to Emotion categories\n",
        "        class_num = CATEGORIES.index(category)  # get the classification  (0 or a 1). 0=dog 1=cat\n",
        "\n",
        "        for img in tqdm(os.listdir(path)):  # iterate over each image per dogs and cats\n",
        "            \n",
        "                #img_array = cv2.imread(os.path.join(path,img)) \n",
        "                img_array = cv2.imread(os.path.join(path,img) )  # convert to array\n",
        "                #img_array = cv2.imread(os.path.join(path,img) ,cv2.IMREAD_GRAYSCALE)  # convert to array\n",
        "                new_array = cv2.resize(img_array, (224, 224))  # resize to normalize data size\n",
        "                #new_array = cv2.resize(img_array, (138, 310))  # resize to normalize data size\n",
        "                training_data.append([new_array, class_num])  # add this to our training_data\n",
        "            #except Exception as e:  # in the interest in keeping the output clean...\n",
        "            #   pass\n",
        "            #except OSError as e:\n",
        "            #    print(\"OSErrroBad img most likely\", e, os.path.join(path,img))\n",
        "            #except Exception as e:\n",
        "            #    print(\"general exception\", e, os.path.join(path,img))\n",
        "\n",
        "create_training_data()\n",
        "\n",
        "print(len(training_data))\n",
        "\n",
        "\n"
      ],
      "execution_count": 6,
      "outputs": [
        {
          "output_type": "stream",
          "text": [
            "100%|██████████| 64/64 [00:00<00:00, 252.97it/s]\n",
            "100%|██████████| 67/67 [00:00<00:00, 222.17it/s]\n",
            "100%|██████████| 61/61 [00:00<00:00, 231.11it/s]\n",
            "100%|██████████| 62/62 [00:00<00:00, 233.57it/s]"
          ],
          "name": "stderr"
        },
        {
          "output_type": "stream",
          "text": [
            "254\n"
          ],
          "name": "stdout"
        },
        {
          "output_type": "stream",
          "text": [
            "\n"
          ],
          "name": "stderr"
        }
      ]
    },
    {
      "cell_type": "code",
      "metadata": {
        "id": "2sxjuPYdkEXE",
        "colab_type": "code",
        "outputId": "d2db720f-55d7-4ae7-ea0c-2465508db8fe",
        "colab": {
          "base_uri": "https://localhost:8080/",
          "height": 35
        }
      },
      "source": [
        "#training_data\n",
        "len(training_data)\n"
      ],
      "execution_count": 8,
      "outputs": [
        {
          "output_type": "execute_result",
          "data": {
            "text/plain": [
              "254"
            ]
          },
          "metadata": {
            "tags": []
          },
          "execution_count": 8
        }
      ]
    },
    {
      "cell_type": "code",
      "metadata": {
        "id": "py7aQWdAoRTB",
        "colab_type": "code",
        "colab": {}
      },
      "source": [
        "\n",
        "random.shuffle(training_data)\n",
        "\n"
      ],
      "execution_count": 0,
      "outputs": []
    },
    {
      "cell_type": "markdown",
      "metadata": {
        "id": "DjGbYLy6ti0Q",
        "colab_type": "text"
      },
      "source": [
        "##Creation and Reshaping of training Data"
      ]
    },
    {
      "cell_type": "code",
      "metadata": {
        "id": "h34SIRoD1bXM",
        "colab_type": "code",
        "colab": {}
      },
      "source": [
        "Features = []\n",
        "y = []\n",
        "\n",
        "for features,label in training_data:\n",
        "    Features.append(features)\n",
        "    y.append(label)\n",
        "\n",
        "#print(X[0].reshape(-1, 138, 310, 1))\n",
        "\n"
      ],
      "execution_count": 0,
      "outputs": []
    },
    {
      "cell_type": "markdown",
      "metadata": {
        "id": "AZ7u53QkI4VB",
        "colab_type": "text"
      },
      "source": [
        "##Reshaping Data (SVM and VGG models) "
      ]
    },
    {
      "cell_type": "code",
      "metadata": {
        "id": "csbAL8I6I2-f",
        "colab_type": "code",
        "colab": {}
      },
      "source": [
        "X = np.array(Features).reshape(-3, 224, 224, 3)"
      ],
      "execution_count": 0,
      "outputs": []
    },
    {
      "cell_type": "markdown",
      "metadata": {
        "id": "bkBGbj2ytp_g",
        "colab_type": "text"
      },
      "source": [
        "##One hot "
      ]
    },
    {
      "cell_type": "code",
      "metadata": {
        "id": "Z5fz4zAjO94A",
        "colab_type": "code",
        "colab": {}
      },
      "source": [
        "from numpy import array\n",
        "from numpy import argmax\n",
        "from keras.utils import to_categorical\n",
        "# define example\n",
        "\n",
        "y = array(y)\n",
        "svm_y = copy.copy(y)\n",
        "# one hot encode\n",
        "y = to_categorical(y)\n",
        "\n",
        "\n"
      ],
      "execution_count": 0,
      "outputs": []
    },
    {
      "cell_type": "markdown",
      "metadata": {
        "id": "bfa09K0XuUlN",
        "colab_type": "text"
      },
      "source": [
        "##Split Data into train and test "
      ]
    },
    {
      "cell_type": "code",
      "metadata": {
        "id": "ANIQfKpDB2tE",
        "colab_type": "code",
        "colab": {}
      },
      "source": [
        "from sklearn.model_selection import train_test_split\n",
        "X_train, X_test, y_train, y_test = train_test_split(X, y, stratify=y, test_size=0.25, random_state=42)\n"
      ],
      "execution_count": 0,
      "outputs": []
    },
    {
      "cell_type": "code",
      "metadata": {
        "id": "CLzDWVHBVOVg",
        "colab_type": "code",
        "colab": {
          "base_uri": "https://localhost:8080/",
          "height": 287
        },
        "outputId": "2e38933f-7030-4f53-c369-2e67cc5837bb"
      },
      "source": [
        "image = X[0]\n",
        "plt. imshow(X[0], cmap=\"gray\")"
      ],
      "execution_count": 88,
      "outputs": [
        {
          "output_type": "execute_result",
          "data": {
            "text/plain": [
              "<matplotlib.image.AxesImage at 0x7faa97ce2f98>"
            ]
          },
          "metadata": {
            "tags": []
          },
          "execution_count": 88
        },
        {
          "output_type": "display_data",
          "data": {
            "image/png": "[encoded data removed]",
            "text/plain": [
              "<Figure size 432x288 with 1 Axes>"
            ]
          },
          "metadata": {
            "tags": []
          }
        }
      ]
    },
    {
      "cell_type": "code",
      "metadata": {
        "id": "WbjdriafxLY4",
        "colab_type": "code",
        "colab": {}
      },
      "source": [
        "y_test"
      ],
      "execution_count": 0,
      "outputs": []
    },
    {
      "cell_type": "code",
      "metadata": {
        "id": "mMSNrTH22SiY",
        "colab_type": "code",
        "outputId": "d19ff8c9-f4a1-4c96-d47e-cb5379241b44",
        "colab": {
          "base_uri": "https://localhost:8080/",
          "height": 34
        }
      },
      "source": [
        "X.shape"
      ],
      "execution_count": 0,
      "outputs": [
        {
          "output_type": "execute_result",
          "data": {
            "text/plain": [
              "(254, 224, 224, 3)"
            ]
          },
          "metadata": {
            "tags": []
          },
          "execution_count": 26
        }
      ]
    },
    {
      "cell_type": "code",
      "metadata": {
        "id": "J8N-XCWXVAtp",
        "colab_type": "code",
        "colab": {}
      },
      "source": [
        "from collections import Counter\n",
        "len(y_train)\n"
      ],
      "execution_count": 0,
      "outputs": []
    },
    {
      "cell_type": "markdown",
      "metadata": {
        "id": "RFmhx9NwvfNz",
        "colab_type": "text"
      },
      "source": [
        "#SVM"
      ]
    },
    {
      "cell_type": "code",
      "metadata": {
        "id": "bkLSI__r6P5i",
        "colab_type": "code",
        "colab": {}
      },
      "source": [
        ""
      ],
      "execution_count": 0,
      "outputs": []
    },
    {
      "cell_type": "code",
      "metadata": {
        "id": "wSlP9dlRxwLO",
        "colab_type": "code",
        "colab": {}
      },
      "source": [
        "\n",
        "\n",
        "to_two_dimensional = np.array(Features).reshape(-3, 224, 224, 3)\n",
        "n_samples = len(to_two_dimensional)\n",
        "#flattened = np.array(Features).reshape((n_samples,-1))\n",
        "flattened = np.array(to_two_dimensional).reshape((n_samples,-1))"
      ],
      "execution_count": 0,
      "outputs": []
    },
    {
      "cell_type": "code",
      "metadata": {
        "id": "5NpCRUMzzoEW",
        "colab_type": "code",
        "outputId": "c25cdf7e-4d66-492f-8194-ee24a83e1906",
        "colab": {
          "base_uri": "https://localhost:8080/",
          "height": 35
        }
      },
      "source": [
        "flattened.shape"
      ],
      "execution_count": 51,
      "outputs": [
        {
          "output_type": "execute_result",
          "data": {
            "text/plain": [
              "(254, 150528)"
            ]
          },
          "metadata": {
            "tags": []
          },
          "execution_count": 51
        }
      ]
    },
    {
      "cell_type": "code",
      "metadata": {
        "id": "Qr4MZthQCQz8",
        "colab_type": "code",
        "colab": {}
      },
      "source": [
        "# one hot encode\n",
        "\n",
        "#svm_y = array(y)\n",
        "\n",
        "#svm_y = to_categorical(svm_y)\n",
        "#svm_y = np.argmax(svm_y, axis=1)\n",
        "\n",
        "\n",
        "X_trains, X_tests, y_trains, y_tests = train_test_split(flattened, svm_y, stratify=svm_y, test_size=0.25, random_state=42)\n",
        "\n"
      ],
      "execution_count": 0,
      "outputs": []
    },
    {
      "cell_type": "code",
      "metadata": {
        "id": "T-2k8yzhCQ2n",
        "colab_type": "code",
        "outputId": "63c1b65c-0413-4682-97ab-5770a954ff76",
        "colab": {
          "base_uri": "https://localhost:8080/",
          "height": 90
        }
      },
      "source": [
        "\n",
        "print('Training data and target sizes: \\n{}, {}'.format(X_trains.shape,y_trains.shape))\n",
        "print('Test data and target sizes: \\n{}, {}'.format(X_tests.shape,y_tests.shape))"
      ],
      "execution_count": 27,
      "outputs": [
        {
          "output_type": "stream",
          "text": [
            "Training data and target sizes: \n",
            "(190, 150528), (190, 4)\n",
            "Test data and target sizes: \n",
            "(64, 150528), (64, 4)\n"
          ],
          "name": "stdout"
        }
      ]
    },
    {
      "cell_type": "code",
      "metadata": {
        "id": "xLU0XJZUW0Pm",
        "colab_type": "code",
        "colab": {
          "base_uri": "https://localhost:8080/",
          "height": 35
        },
        "outputId": "f5a8c9c2-3643-467e-84f1-665743ecfb08"
      },
      "source": [
        "X_trains[0].shape"
      ],
      "execution_count": 37,
      "outputs": [
        {
          "output_type": "execute_result",
          "data": {
            "text/plain": [
              "(150528,)"
            ]
          },
          "metadata": {
            "tags": []
          },
          "execution_count": 37
        }
      ]
    },
    {
      "cell_type": "code",
      "metadata": {
        "id": "fOeHWesgz_OM",
        "colab_type": "code",
        "outputId": "91965777-dc60-4e76-aba5-202cc01225f1",
        "colab": {
          "base_uri": "https://localhost:8080/",
          "height": 244
        }
      },
      "source": [
        "classifier = svm.SVC(gamma=0.001)\n",
        "classifier_two = svm.LinearSVC()\n",
        "\n",
        "classifier.fit(X_trains,y_trains)\n",
        "classifier_two.fit(X_trains,y_trains)\n",
        "\n",
        "y_pred = classifier.predict(X_tests)\n",
        "y_pred_two = classifier_two.predict(X_tests)\n",
        "\n",
        "\n",
        "print(\"Classification report for classifier %s:\\n%s\\n\"\n",
        "      % (classifier, metrics.classification_report(y_tests, y_pred)))\n",
        "print(\"Confusion matrix:\\n%s\" % metrics.confusion_matrix(y_tests, y_pred))"
      ],
      "execution_count": 2,
      "outputs": [
        {
          "output_type": "error",
          "ename": "NameError",
          "evalue": "ignored",
          "traceback": [
            "\u001b[0;31m---------------------------------------------------------------------------\u001b[0m",
            "\u001b[0;31mNameError\u001b[0m                                 Traceback (most recent call last)",
            "\u001b[0;32m<ipython-input-2-ee8a91f94d1f>\u001b[0m in \u001b[0;36m<module>\u001b[0;34m()\u001b[0m\n\u001b[0;32m----> 1\u001b[0;31m \u001b[0mclassifier\u001b[0m \u001b[0;34m=\u001b[0m \u001b[0msvm\u001b[0m\u001b[0;34m.\u001b[0m\u001b[0mSVC\u001b[0m\u001b[0;34m(\u001b[0m\u001b[0mgamma\u001b[0m\u001b[0;34m=\u001b[0m\u001b[0;36m0.001\u001b[0m\u001b[0;34m)\u001b[0m\u001b[0;34m\u001b[0m\u001b[0;34m\u001b[0m\u001b[0m\n\u001b[0m\u001b[1;32m      2\u001b[0m \u001b[0mclassifier_two\u001b[0m \u001b[0;34m=\u001b[0m \u001b[0msvm\u001b[0m\u001b[0;34m.\u001b[0m\u001b[0mLinearSVC\u001b[0m\u001b[0;34m(\u001b[0m\u001b[0;34m)\u001b[0m\u001b[0;34m\u001b[0m\u001b[0;34m\u001b[0m\u001b[0m\n\u001b[1;32m      3\u001b[0m \u001b[0;34m\u001b[0m\u001b[0m\n\u001b[1;32m      4\u001b[0m \u001b[0mclassifier\u001b[0m\u001b[0;34m.\u001b[0m\u001b[0mfit\u001b[0m\u001b[0;34m(\u001b[0m\u001b[0mX_trains\u001b[0m\u001b[0;34m,\u001b[0m\u001b[0my_trains\u001b[0m\u001b[0;34m)\u001b[0m\u001b[0;34m\u001b[0m\u001b[0;34m\u001b[0m\u001b[0m\n\u001b[1;32m      5\u001b[0m \u001b[0mclassifier_two\u001b[0m\u001b[0;34m.\u001b[0m\u001b[0mfit\u001b[0m\u001b[0;34m(\u001b[0m\u001b[0mX_trains\u001b[0m\u001b[0;34m,\u001b[0m\u001b[0my_trains\u001b[0m\u001b[0;34m)\u001b[0m\u001b[0;34m\u001b[0m\u001b[0;34m\u001b[0m\u001b[0m\n",
            "\u001b[0;31mNameError\u001b[0m: name 'svm' is not defined"
          ]
        }
      ]
    },
    {
      "cell_type": "code",
      "metadata": {
        "id": "_xn3hJrcCQ5W",
        "colab_type": "code",
        "outputId": "d29263a1-3bf9-4a33-aa88-6f5577180d1e",
        "colab": {
          "base_uri": "https://localhost:8080/",
          "height": 286
        }
      },
      "source": [
        "sns.heatmap(metrics.confusion_matrix(y_tests, y_pred))"
      ],
      "execution_count": 0,
      "outputs": [
        {
          "output_type": "execute_result",
          "data": {
            "text/plain": [
              "<matplotlib.axes._subplots.AxesSubplot at 0x7f3db37621d0>"
            ]
          },
          "metadata": {
            "tags": []
          },
          "execution_count": 100
        },
        {
          "output_type": "display_data",
          "data": {
            "image/png": "[encoded data removed]",
            "text/plain": [
              "<Figure size 432x288 with 2 Axes>"
            ]
          },
          "metadata": {
            "tags": []
          }
        }
      ]
    },
    {
      "cell_type": "markdown",
      "metadata": {
        "id": "Xq_cdbVuvJRS",
        "colab_type": "text"
      },
      "source": [
        "#Base CNN Model"
      ]
    },
    {
      "cell_type": "code",
      "metadata": {
        "id": "9ODXeCBRM3VW",
        "colab_type": "code",
        "outputId": "ae7a6efb-478a-4fdf-8169-0b42281e8662",
        "colab": {
          "base_uri": "https://localhost:8080/",
          "height": 34
        }
      },
      "source": [
        ""
      ],
      "execution_count": 0,
      "outputs": [
        {
          "output_type": "execute_result",
          "data": {
            "text/plain": [
              "numpy.ndarray"
            ]
          },
          "metadata": {
            "tags": []
          },
          "execution_count": 153
        }
      ]
    },
    {
      "cell_type": "code",
      "metadata": {
        "id": "2PoRpIXgLliA",
        "colab_type": "code",
        "colab": {}
      },
      "source": [
        ""
      ],
      "execution_count": 0,
      "outputs": []
    },
    {
      "cell_type": "code",
      "metadata": {
        "id": "JCSsn8nz9OlW",
        "colab_type": "code",
        "outputId": "93768a35-f253-4928-bd43-092c2c105612",
        "colab": {
          "base_uri": "https://localhost:8080/",
          "height": 88
        }
      },
      "source": [
        "model = keras.models.Sequential()\n",
        "model.add(keras.layers.Conv2D(64, (5, 5), input_shape=(244, 244, 3)))\n",
        "model.add(keras.layers.BatchNormalization())\n",
        "model.add(keras.layers.LeakyReLU(alpha=0.3))\n",
        "model.add(keras.layers.Flatten())\n",
        "\n",
        "model.add(keras.layers.Dense(4, activation='sigmoid'))\n",
        "opt = keras.optimizers.Adam(0.001)\n",
        "model.compile(optimizer=opt, loss='binary_crossentropy', metrics=['accuracy'])"
      ],
      "execution_count": 0,
      "outputs": [
        {
          "output_type": "stream",
          "text": [
            "W0731 02:58:17.167218 139698713438080 deprecation.py:323] From /usr/local/lib/python3.6/dist-packages/tensorflow/python/ops/nn_impl.py:180: add_dispatch_support.<locals>.wrapper (from tensorflow.python.ops.array_ops) is deprecated and will be removed in a future version.\n",
            "Instructions for updating:\n",
            "Use tf.where in 2.0, which has the same broadcast rule as np.where\n"
          ],
          "name": "stderr"
        }
      ]
    },
    {
      "cell_type": "code",
      "metadata": {
        "id": "2erHun05TcPb",
        "colab_type": "code",
        "outputId": "e41535fa-5abc-44bb-bbec-fddaff267fb7",
        "colab": {
          "base_uri": "https://localhost:8080/",
          "height": 306
        }
      },
      "source": [
        "model.summary()"
      ],
      "execution_count": 0,
      "outputs": [
        {
          "output_type": "stream",
          "text": [
            "_________________________________________________________________\n",
            "Layer (type)                 Output Shape              Param #   \n",
            "=================================================================\n",
            "conv2d_16 (Conv2D)           (None, 240, 240, 64)      4864      \n",
            "_________________________________________________________________\n",
            "batch_normalization_4 (Batch (None, 240, 240, 64)      256       \n",
            "_________________________________________________________________\n",
            "leaky_re_lu_4 (LeakyReLU)    (None, 240, 240, 64)      0         \n",
            "_________________________________________________________________\n",
            "flatten_9 (Flatten)          (None, 3686400)           0         \n",
            "_________________________________________________________________\n",
            "dense_14 (Dense)             (None, 4)                 14745604  \n",
            "=================================================================\n",
            "Total params: 14,750,724\n",
            "Trainable params: 14,750,596\n",
            "Non-trainable params: 128\n",
            "_________________________________________________________________\n"
          ],
          "name": "stdout"
        }
      ]
    },
    {
      "cell_type": "code",
      "metadata": {
        "id": "VLM0jGdvCcf6",
        "colab_type": "code",
        "colab": {}
      },
      "source": [
        "base = model.fit(X_train,y_train,\n",
        "          batch_size=16,\n",
        "          epochs=3,\n",
        "          \n",
        "          )"
      ],
      "execution_count": 0,
      "outputs": []
    },
    {
      "cell_type": "code",
      "metadata": {
        "id": "LkRF2hH_THIl",
        "colab_type": "code",
        "outputId": "b91d3edd-2138-42cf-8381-0ec4b3ca02b3",
        "colab": {
          "base_uri": "https://localhost:8080/",
          "height": 51
        }
      },
      "source": [
        "test_score = model.evaluate(X_test, y_test)\n",
        "print('Test loss {:.4f}, accuracy {:.2f}%'.format(test_score[0], test_score[1] * 100))"
      ],
      "execution_count": 0,
      "outputs": [
        {
          "output_type": "stream",
          "text": [
            "84/84 [==============================] - 4s 44ms/step\n",
            "Test loss 4.0295, accuracy 75.00%\n"
          ],
          "name": "stdout"
        }
      ]
    },
    {
      "cell_type": "markdown",
      "metadata": {
        "id": "dPRu-TDzvN9_",
        "colab_type": "text"
      },
      "source": [
        "#Lecun CNN Model"
      ]
    },
    {
      "cell_type": "code",
      "metadata": {
        "id": "s7NTyU23oJoX",
        "colab_type": "code",
        "outputId": "3fc745cc-c205-4ca6-c7f2-0596fa9907bd",
        "colab": {
          "base_uri": "https://localhost:8080/",
          "height": 71
        }
      },
      "source": [
        "#Lecun Model\n",
        "#Instantiate an empty model\n",
        "from keras import layers\n",
        "modell = Sequential()\n",
        "\n",
        "# C1 Convolutional Layer\n",
        "modell.add(layers.Conv2D(6, kernel_size=(5, 5), strides=(1, 1), activation='relu', input_shape=(244, 244, 3)))\n",
        "\n",
        "# S2 Pooling Layer\n",
        "modell.add(layers.AveragePooling2D(pool_size=(2, 2), strides=(1, 1), padding='valid'))\n",
        "\n",
        "# C3 Convolutional Layer\n",
        "modell.add(layers.Conv2D(16, kernel_size=(5, 5), strides=(1, 1), activation='relu', padding='valid'))\n",
        "\n",
        "# S4 Pooling Layer\n",
        "modell.add(layers.AveragePooling2D(pool_size=(2, 2), strides=(2, 2), padding='valid'))\n",
        "\n",
        "# C5 Fully Connected Convolutional Layer\n",
        "modell.add(layers.Conv2D(120, kernel_size=(5, 5), strides=(1, 1), activation='relu', padding='valid'))\n",
        "#Flatten the CNN output so that we can connect it with fully connected layers\n",
        "modell.add(layers.Flatten())\n",
        "\n",
        "# FC6 Fully Connected Layer\n",
        "modell.add(layers.Dense(84, activation='relu'))\n",
        "\n",
        "#Output Layer with softmax activation\n",
        "modell.add(layers.Dense(4, activation='softmax'))\n",
        "\n",
        "# Compile the model\n",
        "modell.compile(loss=keras.losses.categorical_crossentropy, optimizer='SGD', metrics=['accuracy'])"
      ],
      "execution_count": 0,
      "outputs": [
        {
          "output_type": "stream",
          "text": [
            "W0731 02:58:23.645202 139698713438080 deprecation_wrapper.py:119] From /usr/local/lib/python3.6/dist-packages/keras/backend/tensorflow_backend.py:3980: The name tf.nn.avg_pool is deprecated. Please use tf.nn.avg_pool2d instead.\n",
            "\n"
          ],
          "name": "stderr"
        }
      ]
    },
    {
      "cell_type": "code",
      "metadata": {
        "id": "_z7JbRXbRD6P",
        "colab_type": "code",
        "outputId": "0ff4336c-1153-4201-ab39-c602e3aa6dc6",
        "colab": {
          "base_uri": "https://localhost:8080/",
          "height": 408
        }
      },
      "source": [
        "modell.summary()"
      ],
      "execution_count": 0,
      "outputs": [
        {
          "output_type": "stream",
          "text": [
            "_________________________________________________________________\n",
            "Layer (type)                 Output Shape              Param #   \n",
            "=================================================================\n",
            "conv2d_17 (Conv2D)           (None, 240, 240, 6)       456       \n",
            "_________________________________________________________________\n",
            "average_pooling2d_9 (Average (None, 239, 239, 6)       0         \n",
            "_________________________________________________________________\n",
            "conv2d_18 (Conv2D)           (None, 235, 235, 16)      2416      \n",
            "_________________________________________________________________\n",
            "average_pooling2d_10 (Averag (None, 117, 117, 16)      0         \n",
            "_________________________________________________________________\n",
            "conv2d_19 (Conv2D)           (None, 113, 113, 120)     48120     \n",
            "_________________________________________________________________\n",
            "flatten_10 (Flatten)         (None, 1532280)           0         \n",
            "_________________________________________________________________\n",
            "dense_15 (Dense)             (None, 84)                128711604 \n",
            "_________________________________________________________________\n",
            "dense_16 (Dense)             (None, 4)                 340       \n",
            "=================================================================\n",
            "Total params: 128,762,936\n",
            "Trainable params: 128,762,936\n",
            "Non-trainable params: 0\n",
            "_________________________________________________________________\n"
          ],
          "name": "stdout"
        }
      ]
    },
    {
      "cell_type": "code",
      "metadata": {
        "id": "B8RVcTEOou9x",
        "colab_type": "code",
        "colab": {}
      },
      "source": [
        "modell.fit(x=X_train,y=y_train, epochs=30, batch_size=32, validation_data=(X_test, y_test), verbose=1)\n",
        "test_score = modell.evaluate(X_test, y_test)\n",
        "print('Test loss {:.4f}, accuracy {:.2f}%'.format(test_score[0], test_score[1] * 100))"
      ],
      "execution_count": 0,
      "outputs": []
    },
    {
      "cell_type": "code",
      "metadata": {
        "id": "Z33-qb1uqwQy",
        "colab_type": "code",
        "colab": {}
      },
      "source": [
        ""
      ],
      "execution_count": 0,
      "outputs": []
    },
    {
      "cell_type": "code",
      "metadata": {
        "id": "MfuTTbY_PF-4",
        "colab_type": "code",
        "colab": {}
      },
      "source": [
        ""
      ],
      "execution_count": 0,
      "outputs": []
    },
    {
      "cell_type": "code",
      "metadata": {
        "id": "MKPmsitXt6w3",
        "colab_type": "code",
        "colab": {}
      },
      "source": [
        ""
      ],
      "execution_count": 0,
      "outputs": []
    },
    {
      "cell_type": "code",
      "metadata": {
        "id": "xPONbN5wuBHO",
        "colab_type": "code",
        "colab": {}
      },
      "source": [
        ""
      ],
      "execution_count": 0,
      "outputs": []
    },
    {
      "cell_type": "markdown",
      "metadata": {
        "id": "jVDpihV6DHHV",
        "colab_type": "text"
      },
      "source": [
        "#DataGen"
      ]
    },
    {
      "cell_type": "code",
      "metadata": {
        "id": "eYHUPmwDCaOF",
        "colab_type": "code",
        "colab": {}
      },
      "source": [
        "datagen = ImageDataGenerator(\n",
        "    featurewise_center=True,\n",
        "    featurewise_std_normalization=True,\n",
        "    rotation_range=20,\n",
        "    width_shift_range=0.2,\n",
        "    height_shift_range=0.2,\n",
        "    horizontal_flip=True)\n",
        "\n",
        "# compute quantities required for featurewise normalization\n",
        "# (std, mean, and principal components if ZCA whitening is applied)\n",
        "datagen.fit(x_train)\n",
        "\n",
        "# fits the model on batches with real-time data augmentation:\n",
        "model.fit_generator(datagen.flow(x_train, y_train, batch_size=32),\n",
        "                    steps_per_epoch=len(x_train) / 32, epochs=epochs)\n",
        "\n",
        "# here's a more \"manual\" example\n",
        "for e in range(epochs):\n",
        "    print('Epoch', e)\n",
        "    batches = 0\n",
        "    for x_batch, y_batch in datagen.flow(x_train, y_train, batch_size=32):\n",
        "        model.fit(x_batch, y_batch)\n",
        "        batches += 1\n",
        "        if batches >= len(x_train) / 32:\n",
        "            # we need to break the loop by hand because\n",
        "            # the generator loops indefinitely\n",
        "            break"
      ],
      "execution_count": 0,
      "outputs": []
    },
    {
      "cell_type": "markdown",
      "metadata": {
        "id": "OtPvlXJwXFDn",
        "colab_type": "text"
      },
      "source": [
        "##Horizontal Shift"
      ]
    },
    {
      "cell_type": "code",
      "metadata": {
        "id": "6c2ByojeMYU2",
        "colab_type": "code",
        "outputId": "29d7e6bd-8da4-4205-d08c-b98f7106b8f2",
        "colab": {
          "base_uri": "https://localhost:8080/",
          "height": 269
        }
      },
      "source": [
        "# example of vertical shift image augmentation\n",
        "from numpy import expand_dims\n",
        "from keras.preprocessing.image import load_img\n",
        "from keras.preprocessing.image import img_to_array\n",
        "from keras.preprocessing.image import ImageDataGenerator\n",
        "from matplotlib import pyplot\n",
        "# load the image\n",
        "img = load_img('/content/gdrive/My Drive/project/BEAST1/Anger/F01AN.bmp')\n",
        "# convert to numpy array\n",
        "data = img_to_array(img)\n",
        "# expand dimension to one sample\n",
        "samples = expand_dims(data, 0)\n",
        "# create image data augmentation generator\n",
        "datagen_height = ImageDataGenerator(height_shift_range=0.5)\n",
        "# prepare iterator\n",
        "it = datagen_height.flow(samples, batch_size=1)\n",
        "# generate samples and plot\n",
        "for i in range(9):\n",
        "\t# define subplot\n",
        "\tpyplot.subplot(330 + 1 + i)\n",
        "\t# generate batch of images\n",
        "\tbatch = it.next()\n",
        "\t# convert to unsigned integers for viewing\n",
        "\timage = batch[0].astype('uint8')\n",
        "\t# plot raw pixel data\n",
        "\tpyplot.imshow(image)\n",
        "# show the figure\n",
        "pyplot.show()"
      ],
      "execution_count": 0,
      "outputs": [
        {
          "output_type": "display_data",
          "data": {
            "image/png": "[encoded data removed]",
            "text/plain": [
              "<Figure size 432x288 with 9 Axes>"
            ]
          },
          "metadata": {
            "tags": []
          }
        }
      ]
    },
    {
      "cell_type": "code",
      "metadata": {
        "id": "bHzoigXc7U4L",
        "colab_type": "code",
        "outputId": "8b54a90f-22c5-40d1-943e-e3ebd35306d0",
        "colab": {
          "base_uri": "https://localhost:8080/",
          "height": 391
        }
      },
      "source": [
        "\n",
        "# compute quantities required for featurewise normalization\n",
        "# (std, mean, and principal components if ZCA whitening is applied)\n",
        "datagen_height.fit(X_train)\n",
        "\n",
        "# fits the model on batches with real-time data augmentation:\n",
        "modell.fit_generator(datagen_height.flow(X_train, y_train, batch_size=32),\n",
        "                    steps_per_epoch=len(X_train) / 32, epochs=10)\n",
        "\n",
        "test_score = modell.evaluate(X_test, y_test)\n",
        "print('Test loss {:.4f}, accuracy {:.2f}%'.format(test_score[0], test_score[1] * 100))\n"
      ],
      "execution_count": 0,
      "outputs": [
        {
          "output_type": "stream",
          "text": [
            "Epoch 1/10\n",
            "6/5 [==============================] - 34s 6s/step - loss: 11.9869 - acc: 0.2313\n",
            "Epoch 2/10\n",
            "6/5 [==============================] - 30s 5s/step - loss: 12.2075 - acc: 0.2426\n",
            "Epoch 3/10\n",
            "6/5 [==============================] - 30s 5s/step - loss: 12.2171 - acc: 0.2420\n",
            "Epoch 4/10\n",
            "6/5 [==============================] - 30s 5s/step - loss: 12.2219 - acc: 0.2417\n",
            "Epoch 5/10\n",
            "6/5 [==============================] - 30s 5s/step - loss: 12.2171 - acc: 0.2420\n",
            "Epoch 6/10\n",
            "6/5 [==============================] - 30s 5s/step - loss: 12.2267 - acc: 0.2414\n",
            "Epoch 7/10\n",
            "6/5 [==============================] - 30s 5s/step - loss: 12.2267 - acc: 0.2414\n",
            "Epoch 8/10\n",
            "6/5 [==============================] - 30s 5s/step - loss: 12.2219 - acc: 0.2417\n",
            "Epoch 9/10\n",
            "6/5 [==============================] - 30s 5s/step - loss: 12.2363 - acc: 0.2408\n",
            "Epoch 10/10\n",
            "6/5 [==============================] - 30s 5s/step - loss: 12.2219 - acc: 0.2417\n",
            "64/64 [==============================] - 3s 41ms/step\n",
            "Test loss 12.3404, accuracy 23.44%\n"
          ],
          "name": "stdout"
        }
      ]
    },
    {
      "cell_type": "markdown",
      "metadata": {
        "id": "GEclpfd67T_0",
        "colab_type": "text"
      },
      "source": [
        "##Vertical Shift"
      ]
    },
    {
      "cell_type": "code",
      "metadata": {
        "id": "wHmt6mScOmgq",
        "colab_type": "code",
        "outputId": "95ba6ae1-94f2-4938-b705-93eb23b144ef",
        "colab": {
          "base_uri": "https://localhost:8080/",
          "height": 269
        }
      },
      "source": [
        "\n",
        "# example of vertical shift image augmentation\n",
        "# load the image\n",
        "img = load_img('/content/gdrive/My Drive/project/BEAST1/Anger/F01AN.bmp')\n",
        "# convert to numpy array\n",
        "data = img_to_array(img)\n",
        "# expand dimension to one sample\n",
        "samples = expand_dims(data, 0)\n",
        "# create image data augmentation generator\n",
        "datagen = ImageDataGenerator(width_shift_range=[-50,50])\n",
        "# prepare iterator\n",
        "it = datagen.flow(samples, batch_size=1)\n",
        "# generate samples and plot\n",
        "for i in range(9):\n",
        "\t# define subplot\n",
        "\tpyplot.subplot(330 + 1 + i)\n",
        "\t# generate batch of images\n",
        "\tbatch = it.next()\n",
        "\t# convert to unsigned integers for viewing\n",
        "\timage = batch[0].astype('uint8')\n",
        "\t# plot raw pixel data\n",
        "\tpyplot.imshow(image)\n",
        "# show the figure\n",
        "pyplot.show()"
      ],
      "execution_count": 0,
      "outputs": [
        {
          "output_type": "display_data",
          "data": {
            "image/png": "[encoded data removed]",
            "text/plain": [
              "<Figure size 432x288 with 9 Axes>"
            ]
          },
          "metadata": {
            "tags": []
          }
        }
      ]
    },
    {
      "cell_type": "markdown",
      "metadata": {
        "id": "G8r-ZLXmXNOX",
        "colab_type": "text"
      },
      "source": [
        "##Horizontal Flip"
      ]
    },
    {
      "cell_type": "code",
      "metadata": {
        "id": "rp3G8a1MMm80",
        "colab_type": "code",
        "outputId": "fd498211-bddb-47f5-b89a-e096038a3e27",
        "colab": {
          "base_uri": "https://localhost:8080/",
          "height": 269
        }
      },
      "source": [
        "`# example of horizontal flip image augmentation\n",
        "\n",
        "from matplotlib import pyplot\n",
        "# load the image\n",
        "img = load_img('/content/gdrive/My Drive/project/BEAST1/Anger/F01AN.bmp')\n",
        "# convert to numpy array\n",
        "data = img_to_array(img)\n",
        "# expand dimension to one sample\n",
        "samples = expand_dims(data, 0)\n",
        "# create image data augmentation generator\n",
        "datagen = ImageDataGenerator(horizontal_flip=True)\n",
        "# prepare iterator\n",
        "it = datagen.flow(samples, batch_size=1)\n",
        "# generate samples and plot\n",
        "for i in range(9):\n",
        "\t# define subplot\n",
        "\tpyplot.subplot(330 + 1 + i)\n",
        "\t# generate batch of images\n",
        "\tbatch = it.next()\n",
        "\t# convert to unsigned integers for viewing\n",
        "\timage = batch[0].astype('uint8')\n",
        "\t# plot raw pixel data\n",
        "\tpyplot.imshow(image)\n",
        "# show the figure\n",
        "pyplot.show()"
      ],
      "execution_count": 0,
      "outputs": [
        {
          "output_type": "display_data",
          "data": {
            "image/png": "[encoded data removed]",
            "text/plain": [
              "<Figure size 432x288 with 9 Axes>"
            ]
          },
          "metadata": {
            "tags": []
          }
        }
      ]
    },
    {
      "cell_type": "markdown",
      "metadata": {
        "id": "5PzUKc1sXSRU",
        "colab_type": "text"
      },
      "source": [
        "##Rotate"
      ]
    },
    {
      "cell_type": "code",
      "metadata": {
        "id": "x6c26vMuNKyD",
        "colab_type": "code",
        "outputId": "43c0ef0b-aecf-4ef9-a7a8-e77ab28d9513",
        "colab": {
          "base_uri": "https://localhost:8080/",
          "height": 269
        }
      },
      "source": [
        "# example of horizontal flip image augmentation\n",
        "\n",
        "from matplotlib import pyplot\n",
        "# load the image\n",
        "img = load_img('/content/gdrive/My Drive/project/BEAST1/Anger/F01AN.bmp')\n",
        "# convert to numpy array\n",
        "data = img_to_array(img)\n",
        "# expand dimension to one sample\n",
        "samples = expand_dims(data, 0)\n",
        "# create image data augmentation generator\n",
        "datagen = ImageDataGenerator(rotation_range=90)\n",
        "# prepare iterator\n",
        "it = datagen.flow(samples, batch_size=1)\n",
        "# generate samples and plot\n",
        "for i in range(9):\n",
        "\t# define subplot\n",
        "\tpyplot.subplot(330 + 1 + i)\n",
        "\t# generate batch of images\n",
        "\tbatch = it.next()\n",
        "\t# convert to unsigned integers for viewing\n",
        "\timage = batch[0].astype('uint8')\n",
        "\t# plot raw pixel data\n",
        "\tpyplot.imshow(image)\n",
        "# show the figure\n",
        "pyplot.show()"
      ],
      "execution_count": 0,
      "outputs": [
        {
          "output_type": "display_data",
          "data": {
            "image/png": "[encoded data removed]",
            "text/plain": [
              "<Figure size 432x288 with 9 Axes>"
            ]
          },
          "metadata": {
            "tags": []
          }
        }
      ]
    },
    {
      "cell_type": "markdown",
      "metadata": {
        "id": "JLllkrgoXbF2",
        "colab_type": "text"
      },
      "source": [
        "##Random Brightness"
      ]
    },
    {
      "cell_type": "code",
      "metadata": {
        "id": "NqpJ7oZcNcmi",
        "colab_type": "code",
        "outputId": "78829260-2a10-44a2-84da-5b488a23101d",
        "colab": {
          "base_uri": "https://localhost:8080/",
          "height": 269
        }
      },
      "source": [
        "# example of horizontal flip image augmentation\n",
        "\n",
        "from matplotlib import pyplot\n",
        "# load the image\n",
        "img = load_img('/content/gdrive/My Drive/project/BEAST1/Anger/F01AN.bmp')\n",
        "# convert to numpy array\n",
        "data = img_to_array(img)\n",
        "# expand dimension to one sample\n",
        "samples = expand_dims(data, 0)\n",
        "# create image data augmentation generator\n",
        "datagen = ImageDataGenerator(brightness_range=[0.2,1.0])\n",
        "# prepare iterator\n",
        "it = datagen.flow(samples, batch_size=1)\n",
        "# generate samples and plot\n",
        "for i in range(9):\n",
        "\t# define subplot\n",
        "\tpyplot.subplot(330 + 1 + i)\n",
        "\t# generate batch of images\n",
        "\tbatch = it.next()\n",
        "\t# convert to unsigned integers for viewing\n",
        "\timage = batch[0].astype('uint8')\n",
        "\t# plot raw pixel data\n",
        "\tpyplot.imshow(image)\n",
        "# show the figure\n",
        "pyplot.show()"
      ],
      "execution_count": 0,
      "outputs": [
        {
          "output_type": "display_data",
          "data": {
            "image/png": "[encoded data removed]",
            "text/plain": [
              "<Figure size 432x288 with 9 Axes>"
            ]
          },
          "metadata": {
            "tags": []
          }
        }
      ]
    },
    {
      "cell_type": "markdown",
      "metadata": {
        "id": "tWwA2JU_XjDl",
        "colab_type": "text"
      },
      "source": [
        "##Zoom"
      ]
    },
    {
      "cell_type": "code",
      "metadata": {
        "id": "BXkkglnhNxKz",
        "colab_type": "code",
        "outputId": "a2f290db-653f-4858-cb32-58752665ddd6",
        "colab": {
          "base_uri": "https://localhost:8080/",
          "height": 269
        }
      },
      "source": [
        "# example of horizontal flip image augmentation\n",
        "\n",
        "from matplotlib import pyplot\n",
        "# load the image\n",
        "img = load_img('/content/gdrive/My Drive/project/BEAST1/Anger/F01AN.bmp')\n",
        "# convert to numpy array\n",
        "data = img_to_array(img)\n",
        "# expand dimension to one sample\n",
        "samples = expand_dims(data, 0)\n",
        "# create image data augmentation generator\n",
        "datagen = ImageDataGenerator(zoom_range=[0.5,1.0])\n",
        "# prepare iterator\n",
        "it = datagen.flow(samples, batch_size=1)\n",
        "# generate samples and plot\n",
        "for i in range(9):\n",
        "\t# define subplot\n",
        "\tpyplot.subplot(330 + 1 + i)\n",
        "\t# generate batch of images\n",
        "\tbatch = it.next()\n",
        "\t# convert to unsigned integers for viewing\n",
        "\timage = batch[0].astype('uint8')\n",
        "\t# plot raw pixel data\n",
        "\tpyplot.imshow(image)\n",
        "# show the figure\n",
        "pyplot.show()\n"
      ],
      "execution_count": 0,
      "outputs": [
        {
          "output_type": "display_data",
          "data": {
            "image/png": "[encoded data removed]",
            "text/plain": [
              "<Figure size 432x288 with 9 Axes>"
            ]
          },
          "metadata": {
            "tags": []
          }
        }
      ]
    },
    {
      "cell_type": "code",
      "metadata": {
        "id": "gLaEvBIwN_9C",
        "colab_type": "code",
        "colab": {}
      },
      "source": [
        ""
      ],
      "execution_count": 0,
      "outputs": []
    },
    {
      "cell_type": "code",
      "metadata": {
        "id": "yXIfQcksBQuB",
        "colab_type": "code",
        "colab": {}
      },
      "source": [
        "!df -h"
      ],
      "execution_count": 0,
      "outputs": []
    },
    {
      "cell_type": "code",
      "metadata": {
        "id": "fJG5LfrBBROp",
        "colab_type": "code",
        "colab": {}
      },
      "source": [
        "!cat /proc/cpuinfo"
      ],
      "execution_count": 0,
      "outputs": []
    },
    {
      "cell_type": "code",
      "metadata": {
        "id": "Ly2Zf2qBBfMZ",
        "colab_type": "code",
        "colab": {}
      },
      "source": [
        "!cat /proc/meminfo"
      ],
      "execution_count": 0,
      "outputs": []
    },
    {
      "cell_type": "markdown",
      "metadata": {
        "id": "7Z-UTObgX3o0",
        "colab_type": "text"
      },
      "source": [
        "##Feature Standardization"
      ]
    },
    {
      "cell_type": "code",
      "metadata": {
        "id": "Hw0xikN6BouY",
        "colab_type": "code",
        "outputId": "631f08b3-12be-4055-9a1f-a5304462a297",
        "colab": {
          "base_uri": "https://localhost:8080/",
          "height": 357
        }
      },
      "source": [
        "# example of horizontal flip image augmentation\n",
        "\n",
        "from matplotlib import pyplot\n",
        "# load the image\n",
        "img = load_img('/content/gdrive/My Drive/project/BEAST1/Anger/F01AN.bmp')\n",
        "# convert to numpy array\n",
        "data = img_to_array(img)\n",
        "# expand dimension to one sample\n",
        "samples = expand_dims(data, 0)\n",
        "# create image data augmentation generator\n",
        "datagen = ImageDataGenerator(featurewise_center=True, featurewise_std_normalization=True)\n",
        "# prepare iterator\n",
        "it = datagen.flow(samples, batch_size=1)\n",
        "# generate samples and plot\n",
        "for i in range(9):\n",
        "\t# define subplot\n",
        "\tpyplot.subplot(330 + 1 + i)\n",
        "\t# generate batch of images\n",
        "\tbatch = it.next()\n",
        "\t# convert to unsigned integers for viewing\n",
        "\timage = batch[0].astype('uint8')\n",
        "\t# plot raw pixel data\n",
        "\tpyplot.imshow(image)\n",
        "# show the figure\n",
        "pyplot.show()\n",
        "\n"
      ],
      "execution_count": 0,
      "outputs": [
        {
          "output_type": "stream",
          "text": [
            "/usr/local/lib/python3.6/dist-packages/keras_preprocessing/image/image_data_generator.py:716: UserWarning: This ImageDataGenerator specifies `featurewise_center`, but it hasn't been fit on any training data. Fit it first by calling `.fit(numpy_data)`.\n",
            "  warnings.warn('This ImageDataGenerator specifies '\n",
            "/usr/local/lib/python3.6/dist-packages/keras_preprocessing/image/image_data_generator.py:724: UserWarning: This ImageDataGenerator specifies `featurewise_std_normalization`, but it hasn't been fit on any training data. Fit it first by calling `.fit(numpy_data)`.\n",
            "  warnings.warn('This ImageDataGenerator specifies '\n"
          ],
          "name": "stderr"
        },
        {
          "output_type": "display_data",
          "data": {
            "image/png": "[encoded data removed]",
            "text/plain": [
              "<Figure size 432x288 with 9 Axes>"
            ]
          },
          "metadata": {
            "tags": []
          }
        }
      ]
    },
    {
      "cell_type": "markdown",
      "metadata": {
        "id": "2FKVMBDrX8Ac",
        "colab_type": "text"
      },
      "source": [
        "##ZCA WHITENING"
      ]
    },
    {
      "cell_type": "code",
      "metadata": {
        "id": "-bUe-R-2DyZL",
        "colab_type": "code",
        "outputId": "7dce5576-3ab2-42e6-802c-1c65f70fb28f",
        "colab": {
          "base_uri": "https://localhost:8080/",
          "height": 391
        }
      },
      "source": [
        "# example of horizontal flip image augmentation\n",
        "\n",
        "from matplotlib import pyplot\n",
        "# load the image\n",
        "img = load_img('/content/gdrive/My Drive/project/BEAST1/Anger/F01AN.bmp')\n",
        "# convert to numpy array\n",
        "data = img_to_array(img)\n",
        "# expand dimension to one sample\n",
        "samples = expand_dims(data, 0)\n",
        "# create image data augmentation generator\n",
        "datagen = ImageDataGenerator(zca_whitening=True)\n",
        "# prepare iterator\n",
        "it = datagen.flow(samples, batch_size=1)\n",
        "# generate samples and plot\n",
        "for i in range(9):\n",
        "\t# define subplot\n",
        "\tpyplot.subplot(330 + 1 + i)\n",
        "\t# generate batch of images\n",
        "\tbatch = it.next()\n",
        "\t# convert to unsigned integers for viewing\n",
        "\timage = batch[0].astype('uint8')\n",
        "\t# plot raw pixel data\n",
        "\tpyplot.imshow(image)\n",
        "# show the figure\n",
        "pyplot.show()\n",
        "\n"
      ],
      "execution_count": 0,
      "outputs": [
        {
          "output_type": "stream",
          "text": [
            "/usr/local/lib/python3.6/dist-packages/keras_preprocessing/image/image_data_generator.py:336: UserWarning: This ImageDataGenerator specifies `zca_whitening`, which overrides setting of `featurewise_center`.\n",
            "  warnings.warn('This ImageDataGenerator specifies '\n",
            "/usr/local/lib/python3.6/dist-packages/keras_preprocessing/image/image_data_generator.py:716: UserWarning: This ImageDataGenerator specifies `featurewise_center`, but it hasn't been fit on any training data. Fit it first by calling `.fit(numpy_data)`.\n",
            "  warnings.warn('This ImageDataGenerator specifies '\n",
            "/usr/local/lib/python3.6/dist-packages/keras_preprocessing/image/image_data_generator.py:735: UserWarning: This ImageDataGenerator specifies `zca_whitening`, but it hasn't been fit on any training data. Fit it first by calling `.fit(numpy_data)`.\n",
            "  warnings.warn('This ImageDataGenerator specifies '\n"
          ],
          "name": "stderr"
        },
        {
          "output_type": "display_data",
          "data": {
            "image/png": "[encoded data removed]",
            "text/plain": [
              "<Figure size 432x288 with 9 Axes>"
            ]
          },
          "metadata": {
            "tags": []
          }
        }
      ]
    },
    {
      "cell_type": "code",
      "metadata": {
        "id": "VevFOOJKEH_h",
        "colab_type": "code",
        "colab": {}
      },
      "source": [
        ""
      ],
      "execution_count": 0,
      "outputs": []
    },
    {
      "cell_type": "markdown",
      "metadata": {
        "id": "xEFymRE6HXTk",
        "colab_type": "text"
      },
      "source": [
        "#VGG 16"
      ]
    },
    {
      "cell_type": "code",
      "metadata": {
        "id": "6LxIfG1oHJWC",
        "colab_type": "code",
        "outputId": "665aaef2-e904-4490-cdee-1aa4e1c32354",
        "colab": {
          "base_uri": "https://localhost:8080/",
          "height": 310
        }
      },
      "source": [
        "this = VGG16(weights='imagenet',include_top=False, input_shape=(224, 224, 3))"
      ],
      "execution_count": 155,
      "outputs": [
        {
          "output_type": "stream",
          "text": [
            "WARNING: Logging before flag parsing goes to stderr.\n",
            "W0805 20:59:26.777440 140372021569408 deprecation_wrapper.py:119] From /usr/local/lib/python3.6/dist-packages/keras/backend/tensorflow_backend.py:74: The name tf.get_default_graph is deprecated. Please use tf.compat.v1.get_default_graph instead.\n",
            "\n",
            "W0805 20:59:26.842494 140372021569408 deprecation_wrapper.py:119] From /usr/local/lib/python3.6/dist-packages/keras/backend/tensorflow_backend.py:517: The name tf.placeholder is deprecated. Please use tf.compat.v1.placeholder instead.\n",
            "\n",
            "W0805 20:59:26.853689 140372021569408 deprecation_wrapper.py:119] From /usr/local/lib/python3.6/dist-packages/keras/backend/tensorflow_backend.py:4138: The name tf.random_uniform is deprecated. Please use tf.random.uniform instead.\n",
            "\n",
            "W0805 20:59:26.923669 140372021569408 deprecation_wrapper.py:119] From /usr/local/lib/python3.6/dist-packages/keras/backend/tensorflow_backend.py:3976: The name tf.nn.max_pool is deprecated. Please use tf.nn.max_pool2d instead.\n",
            "\n"
          ],
          "name": "stderr"
        },
        {
          "output_type": "stream",
          "text": [
            "Downloading data from https://github.com/fchollet/deep-learning-models/releases/download/v0.1/vgg16_weights_tf_dim_ordering_tf_kernels_notop.h5\n",
            "58892288/58889256 [==============================] - 1s 0us/step\n"
          ],
          "name": "stdout"
        },
        {
          "output_type": "stream",
          "text": [
            "W0805 20:59:28.295691 140372021569408 deprecation_wrapper.py:119] From /usr/local/lib/python3.6/dist-packages/keras/backend/tensorflow_backend.py:174: The name tf.get_default_session is deprecated. Please use tf.compat.v1.get_default_session instead.\n",
            "\n",
            "W0805 20:59:28.297136 140372021569408 deprecation_wrapper.py:119] From /usr/local/lib/python3.6/dist-packages/keras/backend/tensorflow_backend.py:181: The name tf.ConfigProto is deprecated. Please use tf.compat.v1.ConfigProto instead.\n",
            "\n"
          ],
          "name": "stderr"
        }
      ]
    },
    {
      "cell_type": "markdown",
      "metadata": {
        "id": "3Z7p_6LzHjyH",
        "colab_type": "text"
      },
      "source": [
        "##Fine Tuning model"
      ]
    },
    {
      "cell_type": "code",
      "metadata": {
        "id": "GbU4s1icHKuH",
        "colab_type": "code",
        "outputId": "4a9a26c8-b36f-406a-a051-0b3d9db2c3f4",
        "colab": {
          "base_uri": "https://localhost:8080/",
          "height": 363
        }
      },
      "source": [
        "for layer in this.layers[:-4]:\n",
        "    layer.trainable = False\n",
        " \n",
        "# Check the trainable status of the individual layers\n",
        "for layer in this.layers:\n",
        "    print(layer, layer.trainable)"
      ],
      "execution_count": 156,
      "outputs": [
        {
          "output_type": "stream",
          "text": [
            "<keras.engine.input_layer.InputLayer object at 0x7faa968b16a0> False\n",
            "<keras.layers.convolutional.Conv2D object at 0x7faa9679c4e0> False\n",
            "<keras.layers.convolutional.Conv2D object at 0x7faa9679ce80> False\n",
            "<keras.layers.pooling.MaxPooling2D object at 0x7faa967a91d0> False\n",
            "<keras.layers.convolutional.Conv2D object at 0x7faa967a9550> False\n",
            "<keras.layers.convolutional.Conv2D object at 0x7faa967175f8> False\n",
            "<keras.layers.pooling.MaxPooling2D object at 0x7faa96723dd8> False\n",
            "<keras.layers.convolutional.Conv2D object at 0x7faa967239e8> False\n",
            "<keras.layers.convolutional.Conv2D object at 0x7faa966ca470> False\n",
            "<keras.layers.convolutional.Conv2D object at 0x7faa966cae48> False\n",
            "<keras.layers.pooling.MaxPooling2D object at 0x7faa9667cd30> False\n",
            "<keras.layers.convolutional.Conv2D object at 0x7faa9667c320> False\n",
            "<keras.layers.convolutional.Conv2D object at 0x7faa966a87f0> False\n",
            "<keras.layers.convolutional.Conv2D object at 0x7faa9663ff98> False\n",
            "<keras.layers.pooling.MaxPooling2D object at 0x7faa966555c0> False\n",
            "<keras.layers.convolutional.Conv2D object at 0x7faa96655898> True\n",
            "<keras.layers.convolutional.Conv2D object at 0x7faa96605c88> True\n",
            "<keras.layers.convolutional.Conv2D object at 0x7faa9661af60> True\n",
            "<keras.layers.pooling.MaxPooling2D object at 0x7faa9662ba90> True\n"
          ],
          "name": "stdout"
        }
      ]
    },
    {
      "cell_type": "code",
      "metadata": {
        "id": "hoMsx8EGEFqm",
        "colab_type": "code",
        "colab": {
          "base_uri": "https://localhost:8080/",
          "height": 401
        },
        "outputId": "440b075f-155a-4af4-91e2-d678534825b0"
      },
      "source": [
        "from keras import models\n",
        "from keras import layers\n",
        "from keras import optimizers\n",
        " \n",
        "# Create the model\n",
        "trainer = models.Sequential()\n",
        " \n",
        "# Add the vgg convolutional base model\n",
        "trainer.add(this)\n",
        " \n",
        "# Add new layers\n",
        "trainer.add(layers.Flatten())\n",
        "trainer.add(layers.Dense(1024, activation='relu'))\n",
        "trainer.add(layers.Dropout(0.5))\n",
        "trainer.add(layers.Dense(4, activation='softmax'))\n",
        " \n",
        "# Show a summary of the model. Check the number of trainable parameters\n",
        "trainer.summary()"
      ],
      "execution_count": 157,
      "outputs": [
        {
          "output_type": "stream",
          "text": [
            "W0805 20:59:33.820443 140372021569408 deprecation.py:506] From /usr/local/lib/python3.6/dist-packages/keras/backend/tensorflow_backend.py:3445: calling dropout (from tensorflow.python.ops.nn_ops) with keep_prob is deprecated and will be removed in a future version.\n",
            "Instructions for updating:\n",
            "Please use `rate` instead of `keep_prob`. Rate should be set to `rate = 1 - keep_prob`.\n"
          ],
          "name": "stderr"
        },
        {
          "output_type": "stream",
          "text": [
            "_________________________________________________________________\n",
            "Layer (type)                 Output Shape              Param #   \n",
            "=================================================================\n",
            "vgg16 (Model)                (None, 7, 7, 512)         14714688  \n",
            "_________________________________________________________________\n",
            "flatten_1 (Flatten)          (None, 25088)             0         \n",
            "_________________________________________________________________\n",
            "dense_1 (Dense)              (None, 1024)              25691136  \n",
            "_________________________________________________________________\n",
            "dropout_1 (Dropout)          (None, 1024)              0         \n",
            "_________________________________________________________________\n",
            "dense_2 (Dense)              (None, 4)                 4100      \n",
            "=================================================================\n",
            "Total params: 40,409,924\n",
            "Trainable params: 32,774,660\n",
            "Non-trainable params: 7,635,264\n",
            "_________________________________________________________________\n"
          ],
          "name": "stdout"
        }
      ]
    },
    {
      "cell_type": "code",
      "metadata": {
        "id": "w7PAO3PNFWU1",
        "colab_type": "code",
        "outputId": "ab7e2b11-b6e9-4161-bce0-e8c40afed22d",
        "colab": {
          "base_uri": "https://localhost:8080/",
          "height": 92
        }
      },
      "source": [
        "trainer.compile(loss='categorical_crossentropy',\n",
        "              optimizer=optimizers.RMSprop(lr=1e-4),\n",
        "              metrics=['acc'])\n",
        "'''# Train the model\n",
        "history = model.fit_generator(\n",
        "      train_generator,\n",
        "      steps_per_epoch=train_generator.samples/train_generator.batch_size ,\n",
        "      epochs=30,\n",
        "      validation_data=validation_generator,\n",
        "      validation_steps=validation_generator.samples/validation_generator.batch_size,\n",
        "      verbose=1)\n",
        " \n",
        "# Save the model\n",
        "model.save('small_last4.h5')'''"
      ],
      "execution_count": 158,
      "outputs": [
        {
          "output_type": "stream",
          "text": [
            "W0805 20:59:38.630682 140372021569408 deprecation_wrapper.py:119] From /usr/local/lib/python3.6/dist-packages/keras/optimizers.py:790: The name tf.train.Optimizer is deprecated. Please use tf.compat.v1.train.Optimizer instead.\n",
            "\n"
          ],
          "name": "stderr"
        },
        {
          "output_type": "execute_result",
          "data": {
            "text/plain": [
              "\"# Train the model\\nhistory = model.fit_generator(\\n      train_generator,\\n      steps_per_epoch=train_generator.samples/train_generator.batch_size ,\\n      epochs=30,\\n      validation_data=validation_generator,\\n      validation_steps=validation_generator.samples/validation_generator.batch_size,\\n      verbose=1)\\n \\n# Save the model\\nmodel.save('small_last4.h5')\""
            ]
          },
          "metadata": {
            "tags": []
          },
          "execution_count": 158
        }
      ]
    },
    {
      "cell_type": "code",
      "metadata": {
        "id": "4IY_i21kR5iG",
        "colab_type": "code",
        "outputId": "7350e56b-b639-4605-9c63-d6d80b4c1775",
        "colab": {
          "base_uri": "https://localhost:8080/",
          "height": 326
        }
      },
      "source": [
        "trainer.summary()"
      ],
      "execution_count": 159,
      "outputs": [
        {
          "output_type": "stream",
          "text": [
            "_________________________________________________________________\n",
            "Layer (type)                 Output Shape              Param #   \n",
            "=================================================================\n",
            "vgg16 (Model)                (None, 7, 7, 512)         14714688  \n",
            "_________________________________________________________________\n",
            "flatten_1 (Flatten)          (None, 25088)             0         \n",
            "_________________________________________________________________\n",
            "dense_1 (Dense)              (None, 1024)              25691136  \n",
            "_________________________________________________________________\n",
            "dropout_1 (Dropout)          (None, 1024)              0         \n",
            "_________________________________________________________________\n",
            "dense_2 (Dense)              (None, 4)                 4100      \n",
            "=================================================================\n",
            "Total params: 40,409,924\n",
            "Trainable params: 32,774,660\n",
            "Non-trainable params: 7,635,264\n",
            "_________________________________________________________________\n"
          ],
          "name": "stdout"
        }
      ]
    },
    {
      "cell_type": "markdown",
      "metadata": {
        "id": "_3VgoDc7HSOk",
        "colab_type": "text"
      },
      "source": [
        "##Fitting Model"
      ]
    },
    {
      "cell_type": "code",
      "metadata": {
        "id": "o3Ao8PAYHdiK",
        "colab_type": "code",
        "outputId": "16119779-f3f0-4e65-caea-d332619a9cca",
        "colab": {
          "base_uri": "https://localhost:8080/",
          "height": 802
        }
      },
      "source": [
        "datagen = ImageDataGenerator(\n",
        "    featurewise_center=True,\n",
        "    featurewise_std_normalization=True,\n",
        "    rotation_range=20,\n",
        "    width_shift_range=0.2,\n",
        "    height_shift_range=0.2,\n",
        "    horizontal_flip=True)\n",
        "\n",
        "# compute quantities required for featurewise normalization\n",
        "# (std, mean, and principal components if ZCA whitening is applied)\n",
        "datagen.fit(X_train)\n",
        "\n",
        "# fits the model on batches with real-time data augmentation:\n",
        "\n",
        "\n",
        "trainer.fit_generator(datagen.flow(X_train, y_train, batch_size=32),\n",
        "                    steps_per_epoch=len(X_train) / 32, epochs=20)\n",
        "\n",
        "test_score = trainer.evaluate(X_test, y_test)\n",
        "print('Test loss {:.4f}, accuracy {:.2f}%'.format(test_score[0], test_score[1] * 100))\n"
      ],
      "execution_count": 0,
      "outputs": [
        {
          "output_type": "stream",
          "text": [
            "W0730 16:35:39.139922 139904425928576 deprecation.py:323] From /usr/local/lib/python3.6/dist-packages/tensorflow/python/ops/math_grad.py:1250: add_dispatch_support.<locals>.wrapper (from tensorflow.python.ops.array_ops) is deprecated and will be removed in a future version.\n",
            "Instructions for updating:\n",
            "Use tf.where in 2.0, which has the same broadcast rule as np.where\n"
          ],
          "name": "stderr"
        },
        {
          "output_type": "stream",
          "text": [
            "Epoch 1/20\n",
            "6/5 [==============================] - 127s 21s/step - loss: 3.2007 - acc: 0.2785\n",
            "Epoch 2/20\n",
            "6/5 [==============================] - 123s 20s/step - loss: 1.3777 - acc: 0.3414\n",
            "Epoch 3/20\n",
            "6/5 [==============================] - 123s 21s/step - loss: 1.1066 - acc: 0.5107\n",
            "Epoch 4/20\n",
            "6/5 [==============================] - 122s 20s/step - loss: 0.9570 - acc: 0.5896\n",
            "Epoch 5/20\n",
            "6/5 [==============================] - 123s 21s/step - loss: 1.0050 - acc: 0.6328\n",
            "Epoch 6/20\n",
            "6/5 [==============================] - 123s 20s/step - loss: 0.7068 - acc: 0.7000\n",
            "Epoch 7/20\n",
            "6/5 [==============================] - 123s 20s/step - loss: 0.8115 - acc: 0.6528\n",
            "Epoch 8/20\n",
            "6/5 [==============================] - 123s 20s/step - loss: 0.5609 - acc: 0.7736\n",
            "Epoch 9/20\n",
            "6/5 [==============================] - 123s 20s/step - loss: 0.9070 - acc: 0.6960\n",
            "Epoch 10/20\n",
            "6/5 [==============================] - 123s 20s/step - loss: 0.6428 - acc: 0.6852\n",
            "Epoch 11/20\n",
            "6/5 [==============================] - 123s 20s/step - loss: 0.4556 - acc: 0.8215\n",
            "Epoch 12/20\n",
            "6/5 [==============================] - 123s 20s/step - loss: 0.4696 - acc: 0.7942\n",
            "Epoch 13/20\n",
            "6/5 [==============================] - 123s 20s/step - loss: 0.5049 - acc: 0.7469\n",
            "Epoch 14/20\n",
            "6/5 [==============================] - 123s 20s/step - loss: 1.0345 - acc: 0.7188\n",
            "Epoch 15/20\n",
            "6/5 [==============================] - 123s 21s/step - loss: 0.9576 - acc: 0.6536\n",
            "Epoch 16/20\n",
            "6/5 [==============================] - 123s 20s/step - loss: 0.4669 - acc: 0.7844\n",
            "Epoch 17/20\n",
            "6/5 [==============================] - 123s 20s/step - loss: 0.6575 - acc: 0.7429\n",
            "Epoch 18/20\n",
            "6/5 [==============================] - 123s 20s/step - loss: 0.2701 - acc: 0.9052\n",
            "Epoch 19/20\n",
            "6/5 [==============================] - 123s 20s/step - loss: 0.4956 - acc: 0.7899\n",
            "Epoch 20/20\n",
            "6/5 [==============================] - 123s 20s/step - loss: 0.3164 - acc: 0.8687\n",
            "64/64 [==============================] - 32s 502ms/step\n",
            "Test loss 2.1281, accuracy 85.94%\n"
          ],
          "name": "stdout"
        }
      ]
    },
    {
      "cell_type": "code",
      "metadata": {
        "id": "P_163xBTExRW",
        "colab_type": "code",
        "colab": {}
      },
      "source": [
        "#https://www.learnopencv.com/keras-tutorial-fine-tuning-using-pre-trained-models/"
      ],
      "execution_count": 0,
      "outputs": []
    },
    {
      "cell_type": "code",
      "metadata": {
        "id": "MoJQqmhYBmMl",
        "colab_type": "code",
        "colab": {}
      },
      "source": [
        ""
      ],
      "execution_count": 0,
      "outputs": []
    },
    {
      "cell_type": "markdown",
      "metadata": {
        "id": "QMD2CzqRHFDB",
        "colab_type": "text"
      },
      "source": [
        "##Confusion Matrix"
      ]
    },
    {
      "cell_type": "code",
      "metadata": {
        "id": "ZGbGhMITuK3w",
        "colab_type": "code",
        "colab": {}
      },
      "source": [
        " "
      ],
      "execution_count": 0,
      "outputs": []
    },
    {
      "cell_type": "code",
      "metadata": {
        "id": "1Q3_6iuwcjuP",
        "colab_type": "code",
        "outputId": "56fb37de-6dde-4b83-901e-0c0351445acb",
        "colab": {
          "base_uri": "https://localhost:8080/",
          "height": 85
        }
      },
      "source": [
        "#predictions = predicted values, mistakenly deleted the cell\n",
        "\n",
        "matrix = metrics.confusion_matrix(y_test.argmax(axis=1), predictions.argmax(axis=1))\n",
        "print(matrix)"
      ],
      "execution_count": 0,
      "outputs": [
        {
          "output_type": "stream",
          "text": [
            "[[13  0  0  3]\n",
            " [ 2 13  1  1]\n",
            " [ 1  0 13  1]\n",
            " [ 0  0  0 16]]\n"
          ],
          "name": "stdout"
        }
      ]
    },
    {
      "cell_type": "code",
      "metadata": {
        "id": "M-hKWhWgdW0c",
        "colab_type": "code",
        "outputId": "563cf316-5fbe-4678-e1ed-8c3586d9ed94",
        "colab": {
          "base_uri": "https://localhost:8080/",
          "height": 286
        }
      },
      "source": [
        "sns.heatmap(matrix,annot=True,fmt='.5g')"
      ],
      "execution_count": 0,
      "outputs": [
        {
          "output_type": "execute_result",
          "data": {
            "text/plain": [
              "<matplotlib.axes._subplots.AxesSubplot at 0x7f3db4df97f0>"
            ]
          },
          "metadata": {
            "tags": []
          },
          "execution_count": 37
        },
        {
          "output_type": "display_data",
          "data": {
            "image/png": "[encoded data removed]",
            "text/plain": [
              "<Figure size 432x288 with 2 Axes>"
            ]
          },
          "metadata": {
            "tags": []
          }
        }
      ]
    },
    {
      "cell_type": "code",
      "metadata": {
        "id": "hCIl3_P8dsHd",
        "colab_type": "code",
        "colab": {}
      },
      "source": [
        "#save model\n",
        "trainer.save('/content/gdrive/My Drive/project/models/Vgg16_20epochs.h5')\n",
        "\n",
        "\n",
        "\n",
        "#load model\n",
        "#from keras import load_model\n",
        "#new_model = load_model('/content/gdrive/My Drive/project/models/Vgg16_20epochs.h5')"
      ],
      "execution_count": 0,
      "outputs": []
    },
    {
      "cell_type": "code",
      "metadata": {
        "id": "G93TEprqg97Q",
        "colab_type": "code",
        "outputId": "902842c7-bd0e-4032-a987-a7cd447fc0de",
        "colab": {
          "base_uri": "https://localhost:8080/",
          "height": 34
        }
      },
      "source": [
        ""
      ],
      "execution_count": 0,
      "outputs": [
        {
          "output_type": "execute_result",
          "data": {
            "text/plain": [
              "<keras.engine.sequential.Sequential at 0x7f3dc30902e8>"
            ]
          },
          "metadata": {
            "tags": []
          },
          "execution_count": 39
        }
      ]
    },
    {
      "cell_type": "markdown",
      "metadata": {
        "id": "aV2JpXJ8HMf7",
        "colab_type": "text"
      },
      "source": [
        "##Train Accuracy Plot"
      ]
    },
    {
      "cell_type": "code",
      "metadata": {
        "id": "qNlfUxeshulN",
        "colab_type": "code",
        "outputId": "e02708c6-e8da-4347-a0cd-c7a4db7fe406",
        "colab": {
          "base_uri": "https://localhost:8080/",
          "height": 545
        }
      },
      "source": [
        "acc = trainer.history.history['acc']\n",
        "loss = trainer.history.history['loss']\n",
        "\n",
        " \n",
        "epochs = range(len(acc))\n",
        " \n",
        "plt.plot(epochs, acc, 'b', label='Training acc')\n",
        "plt.title('Training accuracy')\n",
        "plt.legend()\n",
        " \n",
        "plt.figure()\n",
        " \n",
        "plt.plot(epochs, loss, 'b', label='Training loss')\n",
        "plt.title('Training  loss')\n",
        "plt.legend()\n",
        " \n",
        "plt.show()"
      ],
      "execution_count": 0,
      "outputs": [
        {
          "output_type": "display_data",
          "data": {
            "image/png": "[encoded data removed]",
            "text/plain": [
              "<Figure size 432x288 with 1 Axes>"
            ]
          },
          "metadata": {
            "tags": []
          }
        },
        {
          "output_type": "display_data",
          "data": {
            "image/png": "[encoded data removed]",
            "text/plain": [
              "<Figure size 432x288 with 1 Axes>"
            ]
          },
          "metadata": {
            "tags": []
          }
        }
      ]
    },
    {
      "cell_type": "code",
      "metadata": {
        "id": "OElGmZIMLPKM",
        "colab_type": "code",
        "colab": {}
      },
      "source": [
        ""
      ],
      "execution_count": 0,
      "outputs": []
    },
    {
      "cell_type": "markdown",
      "metadata": {
        "id": "QzlzlapOPTzW",
        "colab_type": "text"
      },
      "source": [
        "#VGG 19"
      ]
    },
    {
      "cell_type": "code",
      "metadata": {
        "id": "SaRF5lZlPVve",
        "colab_type": "code",
        "outputId": "b14d740c-ecfc-4536-ae94-eff947da924a",
        "colab": {
          "base_uri": "https://localhost:8080/",
          "height": 51
        }
      },
      "source": [
        "vgg19 = VGG19(weights='imagenet',include_top=False, input_shape=(224, 224, 3))"
      ],
      "execution_count": 0,
      "outputs": [
        {
          "output_type": "stream",
          "text": [
            "Downloading data from https://github.com/fchollet/deep-learning-models/releases/download/v0.1/vgg19_weights_tf_dim_ordering_tf_kernels_notop.h5\n",
            "80142336/80134624 [==============================] - 2s 0us/step\n"
          ],
          "name": "stdout"
        }
      ]
    },
    {
      "cell_type": "code",
      "metadata": {
        "id": "yvcaZtiAPrdV",
        "colab_type": "code",
        "outputId": "8cac2174-0b18-4cf5-8659-852f783bb920",
        "colab": {
          "base_uri": "https://localhost:8080/",
          "height": 884
        }
      },
      "source": [
        "vgg19.summary()"
      ],
      "execution_count": 0,
      "outputs": [
        {
          "output_type": "stream",
          "text": [
            "_________________________________________________________________\n",
            "Layer (type)                 Output Shape              Param #   \n",
            "=================================================================\n",
            "input_2 (InputLayer)         (None, 224, 224, 3)       0         \n",
            "_________________________________________________________________\n",
            "block1_conv1 (Conv2D)        (None, 224, 224, 64)      1792      \n",
            "_________________________________________________________________\n",
            "block1_conv2 (Conv2D)        (None, 224, 224, 64)      36928     \n",
            "_________________________________________________________________\n",
            "block1_pool (MaxPooling2D)   (None, 112, 112, 64)      0         \n",
            "_________________________________________________________________\n",
            "block2_conv1 (Conv2D)        (None, 112, 112, 128)     73856     \n",
            "_________________________________________________________________\n",
            "block2_conv2 (Conv2D)        (None, 112, 112, 128)     147584    \n",
            "_________________________________________________________________\n",
            "block2_pool (MaxPooling2D)   (None, 56, 56, 128)       0         \n",
            "_________________________________________________________________\n",
            "block3_conv1 (Conv2D)        (None, 56, 56, 256)       295168    \n",
            "_________________________________________________________________\n",
            "block3_conv2 (Conv2D)        (None, 56, 56, 256)       590080    \n",
            "_________________________________________________________________\n",
            "block3_conv3 (Conv2D)        (None, 56, 56, 256)       590080    \n",
            "_________________________________________________________________\n",
            "block3_conv4 (Conv2D)        (None, 56, 56, 256)       590080    \n",
            "_________________________________________________________________\n",
            "block3_pool (MaxPooling2D)   (None, 28, 28, 256)       0         \n",
            "_________________________________________________________________\n",
            "block4_conv1 (Conv2D)        (None, 28, 28, 512)       1180160   \n",
            "_________________________________________________________________\n",
            "block4_conv2 (Conv2D)        (None, 28, 28, 512)       2359808   \n",
            "_________________________________________________________________\n",
            "block4_conv3 (Conv2D)        (None, 28, 28, 512)       2359808   \n",
            "_________________________________________________________________\n",
            "block4_conv4 (Conv2D)        (None, 28, 28, 512)       2359808   \n",
            "_________________________________________________________________\n",
            "block4_pool (MaxPooling2D)   (None, 14, 14, 512)       0         \n",
            "_________________________________________________________________\n",
            "block5_conv1 (Conv2D)        (None, 14, 14, 512)       2359808   \n",
            "_________________________________________________________________\n",
            "block5_conv2 (Conv2D)        (None, 14, 14, 512)       2359808   \n",
            "_________________________________________________________________\n",
            "block5_conv3 (Conv2D)        (None, 14, 14, 512)       2359808   \n",
            "_________________________________________________________________\n",
            "block5_conv4 (Conv2D)        (None, 14, 14, 512)       2359808   \n",
            "_________________________________________________________________\n",
            "block5_pool (MaxPooling2D)   (None, 7, 7, 512)         0         \n",
            "=================================================================\n",
            "Total params: 20,024,384\n",
            "Trainable params: 20,024,384\n",
            "Non-trainable params: 0\n",
            "_________________________________________________________________\n"
          ],
          "name": "stdout"
        }
      ]
    },
    {
      "cell_type": "code",
      "metadata": {
        "id": "g0kHkdieQAyo",
        "colab_type": "code",
        "colab": {}
      },
      "source": [
        "from keras import optimizers\n",
        "vgg19.compile(loss='categorical_crossentropy',\n",
        "              optimizer=optimizers.RMSprop(lr=1e-4),\n",
        "              metrics=['acc'])"
      ],
      "execution_count": 0,
      "outputs": []
    },
    {
      "cell_type": "code",
      "metadata": {
        "id": "xAV5WBpLT4j3",
        "colab_type": "code",
        "colab": {}
      },
      "source": [
        ""
      ],
      "execution_count": 0,
      "outputs": []
    },
    {
      "cell_type": "markdown",
      "metadata": {
        "id": "AgyMdBYVtdnJ",
        "colab_type": "text"
      },
      "source": [
        "##Fine Tuning model"
      ]
    },
    {
      "cell_type": "code",
      "metadata": {
        "id": "h7H1E546TypE",
        "colab_type": "code",
        "outputId": "e1fb4062-82dc-4db6-998b-ffae8862180f",
        "colab": {
          "base_uri": "https://localhost:8080/",
          "height": 391
        }
      },
      "source": [
        "for layer in vgg19.layers[:-5]:\n",
        "    layer.trainable = False\n",
        " \n",
        "# Check the trainable status of the individual layers\n",
        "for layer in vgg19.layers:\n",
        "    print(layer, layer.trainable)"
      ],
      "execution_count": 0,
      "outputs": [
        {
          "output_type": "stream",
          "text": [
            "<keras.engine.input_layer.InputLayer object at 0x7f0dd0d219b0> False\n",
            "<keras.layers.convolutional.Conv2D object at 0x7f0dd0d21860> False\n",
            "<keras.layers.convolutional.Conv2D object at 0x7f0dd0d21a90> False\n",
            "<keras.layers.pooling.MaxPooling2D object at 0x7f0dd0d216d8> False\n",
            "<keras.layers.convolutional.Conv2D object at 0x7f0dd0d33400> False\n",
            "<keras.layers.convolutional.Conv2D object at 0x7f0dd0ac7358> False\n",
            "<keras.layers.pooling.MaxPooling2D object at 0x7f0dd0ae12b0> False\n",
            "<keras.layers.convolutional.Conv2D object at 0x7f0dd0ac7b38> False\n",
            "<keras.layers.convolutional.Conv2D object at 0x7f0dd0a8f160> False\n",
            "<keras.layers.convolutional.Conv2D object at 0x7f0dd0a8f9e8> False\n",
            "<keras.layers.convolutional.Conv2D object at 0x7f0dd0a419b0> False\n",
            "<keras.layers.pooling.MaxPooling2D object at 0x7f0dd0a53fd0> False\n",
            "<keras.layers.convolutional.Conv2D object at 0x7f0dd0a53780> False\n",
            "<keras.layers.convolutional.Conv2D object at 0x7f0dd0a05ac8> False\n",
            "<keras.layers.convolutional.Conv2D object at 0x7f0dd0a1ad30> False\n",
            "<keras.layers.convolutional.Conv2D object at 0x7f0dd09aea90> False\n",
            "<keras.layers.pooling.MaxPooling2D object at 0x7f0dd09c7f28> False\n",
            "<keras.layers.convolutional.Conv2D object at 0x7f0dd09e16a0> True\n",
            "<keras.layers.convolutional.Conv2D object at 0x7f0dd098e358> True\n",
            "<keras.layers.convolutional.Conv2D object at 0x7f0dd098ebe0> True\n",
            "<keras.layers.convolutional.Conv2D object at 0x7f0dd093fba8> True\n",
            "<keras.layers.pooling.MaxPooling2D object at 0x7f0dd0953710> True\n"
          ],
          "name": "stdout"
        }
      ]
    },
    {
      "cell_type": "code",
      "metadata": {
        "id": "WZG2nQOoT_wR",
        "colab_type": "code",
        "colab": {}
      },
      "source": [
        ""
      ],
      "execution_count": 0,
      "outputs": []
    },
    {
      "cell_type": "code",
      "metadata": {
        "id": "oNBopebvTyb-",
        "colab_type": "code",
        "outputId": "d06532d7-92db-451f-8c58-548e43b39c54",
        "colab": {
          "base_uri": "https://localhost:8080/",
          "height": 88
        }
      },
      "source": [
        "from keras import models\n",
        "from keras import layers\n",
        "from keras import optimizers\n",
        " \n",
        "# Create the model\n",
        "trainer_nineteen = models.Sequential()\n",
        " \n",
        "# Add the vgg convolutional base model\n",
        "trainer_nineteen.add(vgg19)\n",
        " \n",
        "\n",
        "  \n",
        "# Add new layers\n",
        "trainer_nineteen.add(layers.Flatten())\n",
        "trainer_nineteen.add(layers.Dense(1024, activation='relu'))\n",
        "trainer_nineteen.add(layers.Dropout(0.5))\n",
        "trainer_nineteen.add(layers.Dense(4, activation='softmax'))"
      ],
      "execution_count": 0,
      "outputs": [
        {
          "output_type": "stream",
          "text": [
            "W0731 02:59:19.914990 139698713438080 deprecation.py:506] From /usr/local/lib/python3.6/dist-packages/keras/backend/tensorflow_backend.py:3445: calling dropout (from tensorflow.python.ops.nn_ops) with keep_prob is deprecated and will be removed in a future version.\n",
            "Instructions for updating:\n",
            "Please use `rate` instead of `keep_prob`. Rate should be set to `rate = 1 - keep_prob`.\n"
          ],
          "name": "stderr"
        }
      ]
    },
    {
      "cell_type": "code",
      "metadata": {
        "id": "ECUSjPeXT-3C",
        "colab_type": "code",
        "colab": {}
      },
      "source": [
        "trainer_nineteen.compile(loss='categorical_crossentropy',\n",
        "              optimizer=optimizers.RMSprop(lr=1e-4),\n",
        "              metrics=['acc'])"
      ],
      "execution_count": 0,
      "outputs": []
    },
    {
      "cell_type": "code",
      "metadata": {
        "id": "RJHjVsAzT_Sk",
        "colab_type": "code",
        "colab": {}
      },
      "source": [
        ""
      ],
      "execution_count": 0,
      "outputs": []
    },
    {
      "cell_type": "markdown",
      "metadata": {
        "id": "cT7gtjbqtpkR",
        "colab_type": "text"
      },
      "source": [
        "##Fitting data"
      ]
    },
    {
      "cell_type": "code",
      "metadata": {
        "id": "Adrr06wbRU6V",
        "colab_type": "code",
        "outputId": "8a13d55e-a941-4bb7-bc5f-27f066ae1316",
        "colab": {
          "base_uri": "https://localhost:8080/",
          "height": 731
        }
      },
      "source": [
        "vdatagen = ImageDataGenerator(\n",
        "    featurewise_center=True,\n",
        "    featurewise_std_normalization=True,\n",
        "    rotation_range=20,\n",
        "    width_shift_range=0.2,\n",
        "    height_shift_range=0.2,\n",
        "    horizontal_flip=True)\n",
        "# compute quantities required for featurewise normalization\n",
        "# (std, mean, and principal components if ZCA whitening is applied)\n",
        "vdatagen.fit(X_train)\n",
        "# fits the model on batches with real-time data augmentation:\n",
        "\n",
        "\n",
        "trainer_nineteen.fit_generator(vdatagen.flow(X_train, y_train, batch_size=32),\n",
        "                    steps_per_epoch=len(X_train) / 32, epochs=20)\n",
        "\n",
        "test_score = trainer_nineteen.evaluate(X_test, y_test)\n",
        "print('Test loss {:.4f}, accuracy {:.2f}%'.format(test_score[0], test_score[1] * 100))\n"
      ],
      "execution_count": 0,
      "outputs": [
        {
          "output_type": "stream",
          "text": [
            "Epoch 1/20\n",
            "6/5 [==============================] - 160s 27s/step - loss: 2.8706 - acc: 0.2374\n",
            "Epoch 2/20\n",
            "6/5 [==============================] - 154s 26s/step - loss: 1.3916 - acc: 0.2785\n",
            "Epoch 3/20\n",
            "6/5 [==============================] - 154s 26s/step - loss: 1.3824 - acc: 0.2939\n",
            "Epoch 4/20\n",
            "6/5 [==============================] - 154s 26s/step - loss: 1.3805 - acc: 0.2835\n",
            "Epoch 5/20\n",
            "6/5 [==============================] - 154s 26s/step - loss: 1.3658 - acc: 0.2948\n",
            "Epoch 6/20\n",
            "6/5 [==============================] - 154s 26s/step - loss: 1.4325 - acc: 0.3000\n",
            "Epoch 7/20\n",
            "6/5 [==============================] - 154s 26s/step - loss: 1.3963 - acc: 0.3156\n",
            "Epoch 8/20\n",
            "6/5 [==============================] - 154s 26s/step - loss: 1.3697 - acc: 0.2899\n",
            "Epoch 9/20\n",
            "6/5 [==============================] - 154s 26s/step - loss: 1.3557 - acc: 0.3475\n",
            "Epoch 10/20\n",
            "6/5 [==============================] - 154s 26s/step - loss: 1.7314 - acc: 0.3461\n",
            "Epoch 11/20\n",
            "6/5 [==============================] - 154s 26s/step - loss: 1.3461 - acc: 0.3215\n",
            "Epoch 12/20\n",
            "6/5 [==============================] - 154s 26s/step - loss: 1.2736 - acc: 0.4098\n",
            "Epoch 13/20\n",
            "6/5 [==============================] - 154s 26s/step - loss: 1.3508 - acc: 0.4218\n",
            "Epoch 14/20\n",
            "6/5 [==============================] - 154s 26s/step - loss: 1.1140 - acc: 0.4800\n",
            "Epoch 15/20\n",
            "6/5 [==============================] - 153s 26s/step - loss: 1.0863 - acc: 0.5003\n",
            "Epoch 16/20\n",
            "6/5 [==============================] - 154s 26s/step - loss: 1.0898 - acc: 0.4626\n",
            "Epoch 17/20\n",
            "6/5 [==============================] - 153s 25s/step - loss: 0.9861 - acc: 0.5571\n",
            "Epoch 18/20\n",
            "6/5 [==============================] - 153s 26s/step - loss: 1.0513 - acc: 0.5371\n",
            "Epoch 19/20\n",
            "6/5 [==============================] - 152s 25s/step - loss: 1.0493 - acc: 0.5957\n",
            "Epoch 20/20\n",
            "6/5 [==============================] - 152s 25s/step - loss: 0.9885 - acc: 0.5420\n",
            "64/64 [==============================] - 40s 627ms/step\n",
            "Test loss 1.4792, accuracy 57.81%\n"
          ],
          "name": "stdout"
        }
      ]
    },
    {
      "cell_type": "code",
      "metadata": {
        "id": "KoHIoWZ5Rn27",
        "colab_type": "code",
        "outputId": "cf5c3266-df6b-4c03-9ecf-08954307590e",
        "colab": {
          "base_uri": "https://localhost:8080/",
          "height": 306
        }
      },
      "source": [
        "trainer_nineteen.summary()"
      ],
      "execution_count": 0,
      "outputs": [
        {
          "output_type": "stream",
          "text": [
            "_________________________________________________________________\n",
            "Layer (type)                 Output Shape              Param #   \n",
            "=================================================================\n",
            "vgg19 (Model)                (None, 7, 7, 512)         20024384  \n",
            "_________________________________________________________________\n",
            "flatten_3 (Flatten)          (None, 25088)             0         \n",
            "_________________________________________________________________\n",
            "dense_4 (Dense)              (None, 1024)              25691136  \n",
            "_________________________________________________________________\n",
            "dropout_1 (Dropout)          (None, 1024)              0         \n",
            "_________________________________________________________________\n",
            "dense_5 (Dense)              (None, 4)                 4100      \n",
            "=================================================================\n",
            "Total params: 45,719,620\n",
            "Trainable params: 35,134,468\n",
            "Non-trainable params: 10,585,152\n",
            "_________________________________________________________________\n"
          ],
          "name": "stdout"
        }
      ]
    },
    {
      "cell_type": "markdown",
      "metadata": {
        "id": "QhE1BXgqtlIw",
        "colab_type": "text"
      },
      "source": [
        "##Confusion Matrix"
      ]
    },
    {
      "cell_type": "code",
      "metadata": {
        "id": "RAFyO3JGTHCx",
        "colab_type": "code",
        "colab": {}
      },
      "source": [
        "predictions =  trainer_nineteen.predict(X_test)\n"
      ],
      "execution_count": 0,
      "outputs": []
    },
    {
      "cell_type": "code",
      "metadata": {
        "id": "JT17PssgKeOZ",
        "colab_type": "code",
        "colab": {}
      },
      "source": [
        "import seaborn as sns"
      ],
      "execution_count": 0,
      "outputs": []
    },
    {
      "cell_type": "code",
      "metadata": {
        "id": "wBV4k-3Ptxj-",
        "colab_type": "code",
        "outputId": "2211d931-81c1-45a5-adb4-174b22d54a25",
        "colab": {
          "base_uri": "https://localhost:8080/",
          "height": 85
        }
      },
      "source": [
        "from sklearn import metrics, svm, metrics\n",
        "matrix = metrics.confusion_matrix(y_test.argmax(axis=1), predictions.argmax(axis=1))\n",
        "print(matrix)"
      ],
      "execution_count": 0,
      "outputs": [
        {
          "output_type": "stream",
          "text": [
            "[[12  0  0  4]\n",
            " [ 8  4  2  3]\n",
            " [ 9  1  5  0]\n",
            " [ 0  0  0 16]]\n"
          ],
          "name": "stdout"
        }
      ]
    },
    {
      "cell_type": "code",
      "metadata": {
        "id": "fUjhz2s-u0Ab",
        "colab_type": "code",
        "outputId": "35e56a07-4557-4d4a-ae7e-62f7ae3ecf96",
        "colab": {
          "base_uri": "https://localhost:8080/",
          "height": 286
        }
      },
      "source": [
        "sns.heatmap(matrix,annot=True,fmt='.5g')"
      ],
      "execution_count": 0,
      "outputs": [
        {
          "output_type": "execute_result",
          "data": {
            "text/plain": [
              "<matplotlib.axes._subplots.AxesSubplot at 0x7f0dcbee8ef0>"
            ]
          },
          "metadata": {
            "tags": []
          },
          "execution_count": 46
        },
        {
          "output_type": "display_data",
          "data": {
            "image/png": "[encoded data removed]",
            "text/plain": [
              "<Figure size 432x288 with 2 Axes>"
            ]
          },
          "metadata": {
            "tags": []
          }
        }
      ]
    },
    {
      "cell_type": "code",
      "metadata": {
        "id": "UrSSMMz9u_TV",
        "colab_type": "code",
        "colab": {}
      },
      "source": [
        "#save model\n",
        "trainer_nineteen.save('/content/gdrive/My Drive/project/models/Vgg19_20epochs.h5')"
      ],
      "execution_count": 0,
      "outputs": []
    },
    {
      "cell_type": "markdown",
      "metadata": {
        "id": "Wv4pYCgiv6Uh",
        "colab_type": "text"
      },
      "source": [
        "##Train Accuracy Plot"
      ]
    },
    {
      "cell_type": "code",
      "metadata": {
        "id": "2ge2RmoZv1W2",
        "colab_type": "code",
        "outputId": "782abbf5-5060-4dcc-907e-d89676c7489b",
        "colab": {
          "base_uri": "https://localhost:8080/",
          "height": 545
        }
      },
      "source": [
        "acc = trainer_nineteen.history.history['acc']\n",
        "loss = trainer_nineteen.history.history['loss']\n",
        "\n",
        " \n",
        "epochs = range(len(acc))\n",
        " \n",
        "plt.plot(epochs, acc, 'b', label='Training acc')\n",
        "plt.title('Training accuracy')\n",
        "plt.legend()\n",
        " \n",
        "plt.figure()\n",
        " \n",
        "plt.plot(epochs, loss, 'b', label='Training loss')\n",
        "plt.title('Training  loss')\n",
        "plt.legend()\n",
        " \n",
        "plt.show()"
      ],
      "execution_count": 0,
      "outputs": [
        {
          "output_type": "display_data",
          "data": {
            "image/png": "[encoded data removed]",
            "text/plain": [
              "<Figure size 432x288 with 1 Axes>"
            ]
          },
          "metadata": {
            "tags": []
          }
        },
        {
          "output_type": "display_data",
          "data": {
            "image/png": "[encoded data removed]",
            "text/plain": [
              "<Figure size 432x288 with 1 Axes>"
            ]
          },
          "metadata": {
            "tags": []
          }
        }
      ]
    },
    {
      "cell_type": "code",
      "metadata": {
        "id": "JIJ8XXEiwFou",
        "colab_type": "code",
        "colab": {}
      },
      "source": [
        ""
      ],
      "execution_count": 0,
      "outputs": []
    },
    {
      "cell_type": "markdown",
      "metadata": {
        "id": "w-ZJFw44wLBv",
        "colab_type": "text"
      },
      "source": [
        "#ResNet 50"
      ]
    },
    {
      "cell_type": "code",
      "metadata": {
        "id": "lI8V6r-dxf90",
        "colab_type": "code",
        "outputId": "e5a8c717-708f-4e54-e51d-b329b2fec06e",
        "colab": {
          "base_uri": "https://localhost:8080/",
          "height": 105
        }
      },
      "source": [
        "ResNet50 = ResNet50(weights='imagenet',include_top=False, input_shape=(224,224, 3))"
      ],
      "execution_count": 0,
      "outputs": [
        {
          "output_type": "stream",
          "text": [
            "W0804 23:49:15.586697 140181831206784 deprecation_wrapper.py:119] From /usr/local/lib/python3.6/dist-packages/keras/backend/tensorflow_backend.py:3976: The name tf.nn.max_pool is deprecated. Please use tf.nn.max_pool2d instead.\n",
            "\n"
          ],
          "name": "stderr"
        },
        {
          "output_type": "stream",
          "text": [
            "Downloading data from https://github.com/fchollet/deep-learning-models/releases/download/v0.2/resnet50_weights_tf_dim_ordering_tf_kernels_notop.h5\n",
            "94658560/94653016 [==============================] - 3s 0us/step\n"
          ],
          "name": "stdout"
        }
      ]
    },
    {
      "cell_type": "code",
      "metadata": {
        "id": "8QY9PnTS3UPM",
        "colab_type": "code",
        "outputId": "b8cb83ed-e9d6-4d50-b242-dc2dfa295cc4",
        "colab": {
          "base_uri": "https://localhost:8080/",
          "height": 1000
        }
      },
      "source": [
        "ResNet50.summary()"
      ],
      "execution_count": 0,
      "outputs": [
        {
          "output_type": "stream",
          "text": [
            "__________________________________________________________________________________________________\n",
            "Layer (type)                    Output Shape         Param #     Connected to                     \n",
            "==================================================================================================\n",
            "input_2 (InputLayer)            (None, 224, 224, 3)  0                                            \n",
            "__________________________________________________________________________________________________\n",
            "conv1_pad (ZeroPadding2D)       (None, 230, 230, 3)  0           input_2[0][0]                    \n",
            "__________________________________________________________________________________________________\n",
            "conv1 (Conv2D)                  (None, 112, 112, 64) 9472        conv1_pad[0][0]                  \n",
            "__________________________________________________________________________________________________\n",
            "bn_conv1 (BatchNormalization)   (None, 112, 112, 64) 256         conv1[0][0]                      \n",
            "__________________________________________________________________________________________________\n",
            "activation_1 (Activation)       (None, 112, 112, 64) 0           bn_conv1[0][0]                   \n",
            "__________________________________________________________________________________________________\n",
            "pool1_pad (ZeroPadding2D)       (None, 114, 114, 64) 0           activation_1[0][0]               \n",
            "__________________________________________________________________________________________________\n",
            "max_pooling2d_1 (MaxPooling2D)  (None, 56, 56, 64)   0           pool1_pad[0][0]                  \n",
            "__________________________________________________________________________________________________\n",
            "res2a_branch2a (Conv2D)         (None, 56, 56, 64)   4160        max_pooling2d_1[0][0]            \n",
            "__________________________________________________________________________________________________\n",
            "bn2a_branch2a (BatchNormalizati (None, 56, 56, 64)   256         res2a_branch2a[0][0]             \n",
            "__________________________________________________________________________________________________\n",
            "activation_2 (Activation)       (None, 56, 56, 64)   0           bn2a_branch2a[0][0]              \n",
            "__________________________________________________________________________________________________\n",
            "res2a_branch2b (Conv2D)         (None, 56, 56, 64)   36928       activation_2[0][0]               \n",
            "__________________________________________________________________________________________________\n",
            "bn2a_branch2b (BatchNormalizati (None, 56, 56, 64)   256         res2a_branch2b[0][0]             \n",
            "__________________________________________________________________________________________________\n",
            "activation_3 (Activation)       (None, 56, 56, 64)   0           bn2a_branch2b[0][0]              \n",
            "__________________________________________________________________________________________________\n",
            "res2a_branch2c (Conv2D)         (None, 56, 56, 256)  16640       activation_3[0][0]               \n",
            "__________________________________________________________________________________________________\n",
            "res2a_branch1 (Conv2D)          (None, 56, 56, 256)  16640       max_pooling2d_1[0][0]            \n",
            "__________________________________________________________________________________________________\n",
            "bn2a_branch2c (BatchNormalizati (None, 56, 56, 256)  1024        res2a_branch2c[0][0]             \n",
            "__________________________________________________________________________________________________\n",
            "bn2a_branch1 (BatchNormalizatio (None, 56, 56, 256)  1024        res2a_branch1[0][0]              \n",
            "__________________________________________________________________________________________________\n",
            "add_1 (Add)                     (None, 56, 56, 256)  0           bn2a_branch2c[0][0]              \n",
            "                                                                 bn2a_branch1[0][0]               \n",
            "__________________________________________________________________________________________________\n",
            "activation_4 (Activation)       (None, 56, 56, 256)  0           add_1[0][0]                      \n",
            "__________________________________________________________________________________________________\n",
            "res2b_branch2a (Conv2D)         (None, 56, 56, 64)   16448       activation_4[0][0]               \n",
            "__________________________________________________________________________________________________\n",
            "bn2b_branch2a (BatchNormalizati (None, 56, 56, 64)   256         res2b_branch2a[0][0]             \n",
            "__________________________________________________________________________________________________\n",
            "activation_5 (Activation)       (None, 56, 56, 64)   0           bn2b_branch2a[0][0]              \n",
            "__________________________________________________________________________________________________\n",
            "res2b_branch2b (Conv2D)         (None, 56, 56, 64)   36928       activation_5[0][0]               \n",
            "__________________________________________________________________________________________________\n",
            "bn2b_branch2b (BatchNormalizati (None, 56, 56, 64)   256         res2b_branch2b[0][0]             \n",
            "__________________________________________________________________________________________________\n",
            "activation_6 (Activation)       (None, 56, 56, 64)   0           bn2b_branch2b[0][0]              \n",
            "__________________________________________________________________________________________________\n",
            "res2b_branch2c (Conv2D)         (None, 56, 56, 256)  16640       activation_6[0][0]               \n",
            "__________________________________________________________________________________________________\n",
            "bn2b_branch2c (BatchNormalizati (None, 56, 56, 256)  1024        res2b_branch2c[0][0]             \n",
            "__________________________________________________________________________________________________\n",
            "add_2 (Add)                     (None, 56, 56, 256)  0           bn2b_branch2c[0][0]              \n",
            "                                                                 activation_4[0][0]               \n",
            "__________________________________________________________________________________________________\n",
            "activation_7 (Activation)       (None, 56, 56, 256)  0           add_2[0][0]                      \n",
            "__________________________________________________________________________________________________\n",
            "res2c_branch2a (Conv2D)         (None, 56, 56, 64)   16448       activation_7[0][0]               \n",
            "__________________________________________________________________________________________________\n",
            "bn2c_branch2a (BatchNormalizati (None, 56, 56, 64)   256         res2c_branch2a[0][0]             \n",
            "__________________________________________________________________________________________________\n",
            "activation_8 (Activation)       (None, 56, 56, 64)   0           bn2c_branch2a[0][0]              \n",
            "__________________________________________________________________________________________________\n",
            "res2c_branch2b (Conv2D)         (None, 56, 56, 64)   36928       activation_8[0][0]               \n",
            "__________________________________________________________________________________________________\n",
            "bn2c_branch2b (BatchNormalizati (None, 56, 56, 64)   256         res2c_branch2b[0][0]             \n",
            "__________________________________________________________________________________________________\n",
            "activation_9 (Activation)       (None, 56, 56, 64)   0           bn2c_branch2b[0][0]              \n",
            "__________________________________________________________________________________________________\n",
            "res2c_branch2c (Conv2D)         (None, 56, 56, 256)  16640       activation_9[0][0]               \n",
            "__________________________________________________________________________________________________\n",
            "bn2c_branch2c (BatchNormalizati (None, 56, 56, 256)  1024        res2c_branch2c[0][0]             \n",
            "__________________________________________________________________________________________________\n",
            "add_3 (Add)                     (None, 56, 56, 256)  0           bn2c_branch2c[0][0]              \n",
            "                                                                 activation_7[0][0]               \n",
            "__________________________________________________________________________________________________\n",
            "activation_10 (Activation)      (None, 56, 56, 256)  0           add_3[0][0]                      \n",
            "__________________________________________________________________________________________________\n",
            "res3a_branch2a (Conv2D)         (None, 28, 28, 128)  32896       activation_10[0][0]              \n",
            "__________________________________________________________________________________________________\n",
            "bn3a_branch2a (BatchNormalizati (None, 28, 28, 128)  512         res3a_branch2a[0][0]             \n",
            "__________________________________________________________________________________________________\n",
            "activation_11 (Activation)      (None, 28, 28, 128)  0           bn3a_branch2a[0][0]              \n",
            "__________________________________________________________________________________________________\n",
            "res3a_branch2b (Conv2D)         (None, 28, 28, 128)  147584      activation_11[0][0]              \n",
            "__________________________________________________________________________________________________\n",
            "bn3a_branch2b (BatchNormalizati (None, 28, 28, 128)  512         res3a_branch2b[0][0]             \n",
            "__________________________________________________________________________________________________\n",
            "activation_12 (Activation)      (None, 28, 28, 128)  0           bn3a_branch2b[0][0]              \n",
            "__________________________________________________________________________________________________\n",
            "res3a_branch2c (Conv2D)         (None, 28, 28, 512)  66048       activation_12[0][0]              \n",
            "__________________________________________________________________________________________________\n",
            "res3a_branch1 (Conv2D)          (None, 28, 28, 512)  131584      activation_10[0][0]              \n",
            "__________________________________________________________________________________________________\n",
            "bn3a_branch2c (BatchNormalizati (None, 28, 28, 512)  2048        res3a_branch2c[0][0]             \n",
            "__________________________________________________________________________________________________\n",
            "bn3a_branch1 (BatchNormalizatio (None, 28, 28, 512)  2048        res3a_branch1[0][0]              \n",
            "__________________________________________________________________________________________________\n",
            "add_4 (Add)                     (None, 28, 28, 512)  0           bn3a_branch2c[0][0]              \n",
            "                                                                 bn3a_branch1[0][0]               \n",
            "__________________________________________________________________________________________________\n",
            "activation_13 (Activation)      (None, 28, 28, 512)  0           add_4[0][0]                      \n",
            "__________________________________________________________________________________________________\n",
            "res3b_branch2a (Conv2D)         (None, 28, 28, 128)  65664       activation_13[0][0]              \n",
            "__________________________________________________________________________________________________\n",
            "bn3b_branch2a (BatchNormalizati (None, 28, 28, 128)  512         res3b_branch2a[0][0]             \n",
            "__________________________________________________________________________________________________\n",
            "activation_14 (Activation)      (None, 28, 28, 128)  0           bn3b_branch2a[0][0]              \n",
            "__________________________________________________________________________________________________\n",
            "res3b_branch2b (Conv2D)         (None, 28, 28, 128)  147584      activation_14[0][0]              \n",
            "__________________________________________________________________________________________________\n",
            "bn3b_branch2b (BatchNormalizati (None, 28, 28, 128)  512         res3b_branch2b[0][0]             \n",
            "__________________________________________________________________________________________________\n",
            "activation_15 (Activation)      (None, 28, 28, 128)  0           bn3b_branch2b[0][0]              \n",
            "__________________________________________________________________________________________________\n",
            "res3b_branch2c (Conv2D)         (None, 28, 28, 512)  66048       activation_15[0][0]              \n",
            "__________________________________________________________________________________________________\n",
            "bn3b_branch2c (BatchNormalizati (None, 28, 28, 512)  2048        res3b_branch2c[0][0]             \n",
            "__________________________________________________________________________________________________\n",
            "add_5 (Add)                     (None, 28, 28, 512)  0           bn3b_branch2c[0][0]              \n",
            "                                                                 activation_13[0][0]              \n",
            "__________________________________________________________________________________________________\n",
            "activation_16 (Activation)      (None, 28, 28, 512)  0           add_5[0][0]                      \n",
            "__________________________________________________________________________________________________\n",
            "res3c_branch2a (Conv2D)         (None, 28, 28, 128)  65664       activation_16[0][0]              \n",
            "__________________________________________________________________________________________________\n",
            "bn3c_branch2a (BatchNormalizati (None, 28, 28, 128)  512         res3c_branch2a[0][0]             \n",
            "__________________________________________________________________________________________________\n",
            "activation_17 (Activation)      (None, 28, 28, 128)  0           bn3c_branch2a[0][0]              \n",
            "__________________________________________________________________________________________________\n",
            "res3c_branch2b (Conv2D)         (None, 28, 28, 128)  147584      activation_17[0][0]              \n",
            "__________________________________________________________________________________________________\n",
            "bn3c_branch2b (BatchNormalizati (None, 28, 28, 128)  512         res3c_branch2b[0][0]             \n",
            "__________________________________________________________________________________________________\n",
            "activation_18 (Activation)      (None, 28, 28, 128)  0           bn3c_branch2b[0][0]              \n",
            "__________________________________________________________________________________________________\n",
            "res3c_branch2c (Conv2D)         (None, 28, 28, 512)  66048       activation_18[0][0]              \n",
            "__________________________________________________________________________________________________\n",
            "bn3c_branch2c (BatchNormalizati (None, 28, 28, 512)  2048        res3c_branch2c[0][0]             \n",
            "__________________________________________________________________________________________________\n",
            "add_6 (Add)                     (None, 28, 28, 512)  0           bn3c_branch2c[0][0]              \n",
            "                                                                 activation_16[0][0]              \n",
            "__________________________________________________________________________________________________\n",
            "activation_19 (Activation)      (None, 28, 28, 512)  0           add_6[0][0]                      \n",
            "__________________________________________________________________________________________________\n",
            "res3d_branch2a (Conv2D)         (None, 28, 28, 128)  65664       activation_19[0][0]              \n",
            "__________________________________________________________________________________________________\n",
            "bn3d_branch2a (BatchNormalizati (None, 28, 28, 128)  512         res3d_branch2a[0][0]             \n",
            "__________________________________________________________________________________________________\n",
            "activation_20 (Activation)      (None, 28, 28, 128)  0           bn3d_branch2a[0][0]              \n",
            "__________________________________________________________________________________________________\n",
            "res3d_branch2b (Conv2D)         (None, 28, 28, 128)  147584      activation_20[0][0]              \n",
            "__________________________________________________________________________________________________\n",
            "bn3d_branch2b (BatchNormalizati (None, 28, 28, 128)  512         res3d_branch2b[0][0]             \n",
            "__________________________________________________________________________________________________\n",
            "activation_21 (Activation)      (None, 28, 28, 128)  0           bn3d_branch2b[0][0]              \n",
            "__________________________________________________________________________________________________\n",
            "res3d_branch2c (Conv2D)         (None, 28, 28, 512)  66048       activation_21[0][0]              \n",
            "__________________________________________________________________________________________________\n",
            "bn3d_branch2c (BatchNormalizati (None, 28, 28, 512)  2048        res3d_branch2c[0][0]             \n",
            "__________________________________________________________________________________________________\n",
            "add_7 (Add)                     (None, 28, 28, 512)  0           bn3d_branch2c[0][0]              \n",
            "                                                                 activation_19[0][0]              \n",
            "__________________________________________________________________________________________________\n",
            "activation_22 (Activation)      (None, 28, 28, 512)  0           add_7[0][0]                      \n",
            "__________________________________________________________________________________________________\n",
            "res4a_branch2a (Conv2D)         (None, 14, 14, 256)  131328      activation_22[0][0]              \n",
            "__________________________________________________________________________________________________\n",
            "bn4a_branch2a (BatchNormalizati (None, 14, 14, 256)  1024        res4a_branch2a[0][0]             \n",
            "__________________________________________________________________________________________________\n",
            "activation_23 (Activation)      (None, 14, 14, 256)  0           bn4a_branch2a[0][0]              \n",
            "__________________________________________________________________________________________________\n",
            "res4a_branch2b (Conv2D)         (None, 14, 14, 256)  590080      activation_23[0][0]              \n",
            "__________________________________________________________________________________________________\n",
            "bn4a_branch2b (BatchNormalizati (None, 14, 14, 256)  1024        res4a_branch2b[0][0]             \n",
            "__________________________________________________________________________________________________\n",
            "activation_24 (Activation)      (None, 14, 14, 256)  0           bn4a_branch2b[0][0]              \n",
            "__________________________________________________________________________________________________\n",
            "res4a_branch2c (Conv2D)         (None, 14, 14, 1024) 263168      activation_24[0][0]              \n",
            "__________________________________________________________________________________________________\n",
            "res4a_branch1 (Conv2D)          (None, 14, 14, 1024) 525312      activation_22[0][0]              \n",
            "__________________________________________________________________________________________________\n",
            "bn4a_branch2c (BatchNormalizati (None, 14, 14, 1024) 4096        res4a_branch2c[0][0]             \n",
            "__________________________________________________________________________________________________\n",
            "bn4a_branch1 (BatchNormalizatio (None, 14, 14, 1024) 4096        res4a_branch1[0][0]              \n",
            "__________________________________________________________________________________________________\n",
            "add_8 (Add)                     (None, 14, 14, 1024) 0           bn4a_branch2c[0][0]              \n",
            "                                                                 bn4a_branch1[0][0]               \n",
            "__________________________________________________________________________________________________\n",
            "activation_25 (Activation)      (None, 14, 14, 1024) 0           add_8[0][0]                      \n",
            "__________________________________________________________________________________________________\n",
            "res4b_branch2a (Conv2D)         (None, 14, 14, 256)  262400      activation_25[0][0]              \n",
            "__________________________________________________________________________________________________\n",
            "bn4b_branch2a (BatchNormalizati (None, 14, 14, 256)  1024        res4b_branch2a[0][0]             \n",
            "__________________________________________________________________________________________________\n",
            "activation_26 (Activation)      (None, 14, 14, 256)  0           bn4b_branch2a[0][0]              \n",
            "__________________________________________________________________________________________________\n",
            "res4b_branch2b (Conv2D)         (None, 14, 14, 256)  590080      activation_26[0][0]              \n",
            "__________________________________________________________________________________________________\n",
            "bn4b_branch2b (BatchNormalizati (None, 14, 14, 256)  1024        res4b_branch2b[0][0]             \n",
            "__________________________________________________________________________________________________\n",
            "activation_27 (Activation)      (None, 14, 14, 256)  0           bn4b_branch2b[0][0]              \n",
            "__________________________________________________________________________________________________\n",
            "res4b_branch2c (Conv2D)         (None, 14, 14, 1024) 263168      activation_27[0][0]              \n",
            "__________________________________________________________________________________________________\n",
            "bn4b_branch2c (BatchNormalizati (None, 14, 14, 1024) 4096        res4b_branch2c[0][0]             \n",
            "__________________________________________________________________________________________________\n",
            "add_9 (Add)                     (None, 14, 14, 1024) 0           bn4b_branch2c[0][0]              \n",
            "                                                                 activation_25[0][0]              \n",
            "__________________________________________________________________________________________________\n",
            "activation_28 (Activation)      (None, 14, 14, 1024) 0           add_9[0][0]                      \n",
            "__________________________________________________________________________________________________\n",
            "res4c_branch2a (Conv2D)         (None, 14, 14, 256)  262400      activation_28[0][0]              \n",
            "__________________________________________________________________________________________________\n",
            "bn4c_branch2a (BatchNormalizati (None, 14, 14, 256)  1024        res4c_branch2a[0][0]             \n",
            "__________________________________________________________________________________________________\n",
            "activation_29 (Activation)      (None, 14, 14, 256)  0           bn4c_branch2a[0][0]              \n",
            "__________________________________________________________________________________________________\n",
            "res4c_branch2b (Conv2D)         (None, 14, 14, 256)  590080      activation_29[0][0]              \n",
            "__________________________________________________________________________________________________\n",
            "bn4c_branch2b (BatchNormalizati (None, 14, 14, 256)  1024        res4c_branch2b[0][0]             \n",
            "__________________________________________________________________________________________________\n",
            "activation_30 (Activation)      (None, 14, 14, 256)  0           bn4c_branch2b[0][0]              \n",
            "__________________________________________________________________________________________________\n",
            "res4c_branch2c (Conv2D)         (None, 14, 14, 1024) 263168      activation_30[0][0]              \n",
            "__________________________________________________________________________________________________\n",
            "bn4c_branch2c (BatchNormalizati (None, 14, 14, 1024) 4096        res4c_branch2c[0][0]             \n",
            "__________________________________________________________________________________________________\n",
            "add_10 (Add)                    (None, 14, 14, 1024) 0           bn4c_branch2c[0][0]              \n",
            "                                                                 activation_28[0][0]              \n",
            "__________________________________________________________________________________________________\n",
            "activation_31 (Activation)      (None, 14, 14, 1024) 0           add_10[0][0]                     \n",
            "__________________________________________________________________________________________________\n",
            "res4d_branch2a (Conv2D)         (None, 14, 14, 256)  262400      activation_31[0][0]              \n",
            "__________________________________________________________________________________________________\n",
            "bn4d_branch2a (BatchNormalizati (None, 14, 14, 256)  1024        res4d_branch2a[0][0]             \n",
            "__________________________________________________________________________________________________\n",
            "activation_32 (Activation)      (None, 14, 14, 256)  0           bn4d_branch2a[0][0]              \n",
            "__________________________________________________________________________________________________\n",
            "res4d_branch2b (Conv2D)         (None, 14, 14, 256)  590080      activation_32[0][0]              \n",
            "__________________________________________________________________________________________________\n",
            "bn4d_branch2b (BatchNormalizati (None, 14, 14, 256)  1024        res4d_branch2b[0][0]             \n",
            "__________________________________________________________________________________________________\n",
            "activation_33 (Activation)      (None, 14, 14, 256)  0           bn4d_branch2b[0][0]              \n",
            "__________________________________________________________________________________________________\n",
            "res4d_branch2c (Conv2D)         (None, 14, 14, 1024) 263168      activation_33[0][0]              \n",
            "__________________________________________________________________________________________________\n",
            "bn4d_branch2c (BatchNormalizati (None, 14, 14, 1024) 4096        res4d_branch2c[0][0]             \n",
            "__________________________________________________________________________________________________\n",
            "add_11 (Add)                    (None, 14, 14, 1024) 0           bn4d_branch2c[0][0]              \n",
            "                                                                 activation_31[0][0]              \n",
            "__________________________________________________________________________________________________\n",
            "activation_34 (Activation)      (None, 14, 14, 1024) 0           add_11[0][0]                     \n",
            "__________________________________________________________________________________________________\n",
            "res4e_branch2a (Conv2D)         (None, 14, 14, 256)  262400      activation_34[0][0]              \n",
            "__________________________________________________________________________________________________\n",
            "bn4e_branch2a (BatchNormalizati (None, 14, 14, 256)  1024        res4e_branch2a[0][0]             \n",
            "__________________________________________________________________________________________________\n",
            "activation_35 (Activation)      (None, 14, 14, 256)  0           bn4e_branch2a[0][0]              \n",
            "__________________________________________________________________________________________________\n",
            "res4e_branch2b (Conv2D)         (None, 14, 14, 256)  590080      activation_35[0][0]              \n",
            "__________________________________________________________________________________________________\n",
            "bn4e_branch2b (BatchNormalizati (None, 14, 14, 256)  1024        res4e_branch2b[0][0]             \n",
            "__________________________________________________________________________________________________\n",
            "activation_36 (Activation)      (None, 14, 14, 256)  0           bn4e_branch2b[0][0]              \n",
            "__________________________________________________________________________________________________\n",
            "res4e_branch2c (Conv2D)         (None, 14, 14, 1024) 263168      activation_36[0][0]              \n",
            "__________________________________________________________________________________________________\n",
            "bn4e_branch2c (BatchNormalizati (None, 14, 14, 1024) 4096        res4e_branch2c[0][0]             \n",
            "__________________________________________________________________________________________________\n",
            "add_12 (Add)                    (None, 14, 14, 1024) 0           bn4e_branch2c[0][0]              \n",
            "                                                                 activation_34[0][0]              \n",
            "__________________________________________________________________________________________________\n",
            "activation_37 (Activation)      (None, 14, 14, 1024) 0           add_12[0][0]                     \n",
            "__________________________________________________________________________________________________\n",
            "res4f_branch2a (Conv2D)         (None, 14, 14, 256)  262400      activation_37[0][0]              \n",
            "__________________________________________________________________________________________________\n",
            "bn4f_branch2a (BatchNormalizati (None, 14, 14, 256)  1024        res4f_branch2a[0][0]             \n",
            "__________________________________________________________________________________________________\n",
            "activation_38 (Activation)      (None, 14, 14, 256)  0           bn4f_branch2a[0][0]              \n",
            "__________________________________________________________________________________________________\n",
            "res4f_branch2b (Conv2D)         (None, 14, 14, 256)  590080      activation_38[0][0]              \n",
            "__________________________________________________________________________________________________\n",
            "bn4f_branch2b (BatchNormalizati (None, 14, 14, 256)  1024        res4f_branch2b[0][0]             \n",
            "__________________________________________________________________________________________________\n",
            "activation_39 (Activation)      (None, 14, 14, 256)  0           bn4f_branch2b[0][0]              \n",
            "__________________________________________________________________________________________________\n",
            "res4f_branch2c (Conv2D)         (None, 14, 14, 1024) 263168      activation_39[0][0]              \n",
            "__________________________________________________________________________________________________\n",
            "bn4f_branch2c (BatchNormalizati (None, 14, 14, 1024) 4096        res4f_branch2c[0][0]             \n",
            "__________________________________________________________________________________________________\n",
            "add_13 (Add)                    (None, 14, 14, 1024) 0           bn4f_branch2c[0][0]              \n",
            "                                                                 activation_37[0][0]              \n",
            "__________________________________________________________________________________________________\n",
            "activation_40 (Activation)      (None, 14, 14, 1024) 0           add_13[0][0]                     \n",
            "__________________________________________________________________________________________________\n",
            "res5a_branch2a (Conv2D)         (None, 7, 7, 512)    524800      activation_40[0][0]              \n",
            "__________________________________________________________________________________________________\n",
            "bn5a_branch2a (BatchNormalizati (None, 7, 7, 512)    2048        res5a_branch2a[0][0]             \n",
            "__________________________________________________________________________________________________\n",
            "activation_41 (Activation)      (None, 7, 7, 512)    0           bn5a_branch2a[0][0]              \n",
            "__________________________________________________________________________________________________\n",
            "res5a_branch2b (Conv2D)         (None, 7, 7, 512)    2359808     activation_41[0][0]              \n",
            "__________________________________________________________________________________________________\n",
            "bn5a_branch2b (BatchNormalizati (None, 7, 7, 512)    2048        res5a_branch2b[0][0]             \n",
            "__________________________________________________________________________________________________\n",
            "activation_42 (Activation)      (None, 7, 7, 512)    0           bn5a_branch2b[0][0]              \n",
            "__________________________________________________________________________________________________\n",
            "res5a_branch2c (Conv2D)         (None, 7, 7, 2048)   1050624     activation_42[0][0]              \n",
            "__________________________________________________________________________________________________\n",
            "res5a_branch1 (Conv2D)          (None, 7, 7, 2048)   2099200     activation_40[0][0]              \n",
            "__________________________________________________________________________________________________\n",
            "bn5a_branch2c (BatchNormalizati (None, 7, 7, 2048)   8192        res5a_branch2c[0][0]             \n",
            "__________________________________________________________________________________________________\n",
            "bn5a_branch1 (BatchNormalizatio (None, 7, 7, 2048)   8192        res5a_branch1[0][0]              \n",
            "__________________________________________________________________________________________________\n",
            "add_14 (Add)                    (None, 7, 7, 2048)   0           bn5a_branch2c[0][0]              \n",
            "                                                                 bn5a_branch1[0][0]               \n",
            "__________________________________________________________________________________________________\n",
            "activation_43 (Activation)      (None, 7, 7, 2048)   0           add_14[0][0]                     \n",
            "__________________________________________________________________________________________________\n",
            "res5b_branch2a (Conv2D)         (None, 7, 7, 512)    1049088     activation_43[0][0]              \n",
            "__________________________________________________________________________________________________\n",
            "bn5b_branch2a (BatchNormalizati (None, 7, 7, 512)    2048        res5b_branch2a[0][0]             \n",
            "__________________________________________________________________________________________________\n",
            "activation_44 (Activation)      (None, 7, 7, 512)    0           bn5b_branch2a[0][0]              \n",
            "__________________________________________________________________________________________________\n",
            "res5b_branch2b (Conv2D)         (None, 7, 7, 512)    2359808     activation_44[0][0]              \n",
            "__________________________________________________________________________________________________\n",
            "bn5b_branch2b (BatchNormalizati (None, 7, 7, 512)    2048        res5b_branch2b[0][0]             \n",
            "__________________________________________________________________________________________________\n",
            "activation_45 (Activation)      (None, 7, 7, 512)    0           bn5b_branch2b[0][0]              \n",
            "__________________________________________________________________________________________________\n",
            "res5b_branch2c (Conv2D)         (None, 7, 7, 2048)   1050624     activation_45[0][0]              \n",
            "__________________________________________________________________________________________________\n",
            "bn5b_branch2c (BatchNormalizati (None, 7, 7, 2048)   8192        res5b_branch2c[0][0]             \n",
            "__________________________________________________________________________________________________\n",
            "add_15 (Add)                    (None, 7, 7, 2048)   0           bn5b_branch2c[0][0]              \n",
            "                                                                 activation_43[0][0]              \n",
            "__________________________________________________________________________________________________\n",
            "activation_46 (Activation)      (None, 7, 7, 2048)   0           add_15[0][0]                     \n",
            "__________________________________________________________________________________________________\n",
            "res5c_branch2a (Conv2D)         (None, 7, 7, 512)    1049088     activation_46[0][0]              \n",
            "__________________________________________________________________________________________________\n",
            "bn5c_branch2a (BatchNormalizati (None, 7, 7, 512)    2048        res5c_branch2a[0][0]             \n",
            "__________________________________________________________________________________________________\n",
            "activation_47 (Activation)      (None, 7, 7, 512)    0           bn5c_branch2a[0][0]              \n",
            "__________________________________________________________________________________________________\n",
            "res5c_branch2b (Conv2D)         (None, 7, 7, 512)    2359808     activation_47[0][0]              \n",
            "__________________________________________________________________________________________________\n",
            "bn5c_branch2b (BatchNormalizati (None, 7, 7, 512)    2048        res5c_branch2b[0][0]             \n",
            "__________________________________________________________________________________________________\n",
            "activation_48 (Activation)      (None, 7, 7, 512)    0           bn5c_branch2b[0][0]              \n",
            "__________________________________________________________________________________________________\n",
            "res5c_branch2c (Conv2D)         (None, 7, 7, 2048)   1050624     activation_48[0][0]              \n",
            "__________________________________________________________________________________________________\n",
            "bn5c_branch2c (BatchNormalizati (None, 7, 7, 2048)   8192        res5c_branch2c[0][0]             \n",
            "__________________________________________________________________________________________________\n",
            "add_16 (Add)                    (None, 7, 7, 2048)   0           bn5c_branch2c[0][0]              \n",
            "                                                                 activation_46[0][0]              \n",
            "__________________________________________________________________________________________________\n",
            "activation_49 (Activation)      (None, 7, 7, 2048)   0           add_16[0][0]                     \n",
            "==================================================================================================\n",
            "Total params: 23,587,712\n",
            "Trainable params: 23,534,592\n",
            "Non-trainable params: 53,120\n",
            "__________________________________________________________________________________________________\n"
          ],
          "name": "stdout"
        }
      ]
    },
    {
      "cell_type": "markdown",
      "metadata": {
        "id": "_cxFh9k_xZww",
        "colab_type": "text"
      },
      "source": [
        "##Fine Tuning Model"
      ]
    },
    {
      "cell_type": "code",
      "metadata": {
        "id": "zBMKktM85Hto",
        "colab_type": "code",
        "colab": {}
      },
      "source": [
        "\n",
        "x = ResNet50.output\n",
        "x = Flatten(name='flatten')(x)\n",
        "predictions = Dense(4, activation='softmax', name='predictions')(x)\n",
        "Res = Model(inputs=ResNet50.input, outputs=predictions)\n",
        "\n",
        "for layer in Res.layers[0:141]:\n",
        "    layer.trainable = False\n",
        "\n",
        "#https://github.com/keras-team/keras/issues/7177\n"
      ],
      "execution_count": 0,
      "outputs": []
    },
    {
      "cell_type": "code",
      "metadata": {
        "id": "jw4och2h6aR8",
        "colab_type": "code",
        "colab": {}
      },
      "source": [
        "Res.summary()"
      ],
      "execution_count": 0,
      "outputs": []
    },
    {
      "cell_type": "markdown",
      "metadata": {
        "id": "stBcHOPx79QL",
        "colab_type": "text"
      },
      "source": [
        "##Compile Model"
      ]
    },
    {
      "cell_type": "code",
      "metadata": {
        "id": "25NJSsP-6Qjc",
        "colab_type": "code",
        "colab": {}
      },
      "source": [
        "'''Res.compile(loss='categorical_crossentropy',\n",
        "              optimizer=optimizers.RMSprop(lr=1e-4),\n",
        "              metrics=['acc'])'''\n",
        "Res.compile(optimizer='rmsprop', loss='categorical_crossentropy', metrics=['acc'])"
      ],
      "execution_count": 0,
      "outputs": []
    },
    {
      "cell_type": "markdown",
      "metadata": {
        "id": "rrJnEDcj8HKY",
        "colab_type": "text"
      },
      "source": [
        "##Fitting Model"
      ]
    },
    {
      "cell_type": "code",
      "metadata": {
        "id": "dN-L3xJW8Gsj",
        "colab_type": "code",
        "outputId": "b4d73081-dec2-4531-c1b6-35a1b270febe",
        "colab": {
          "base_uri": "https://localhost:8080/",
          "height": 731
        }
      },
      "source": [
        "Rdatagen = ImageDataGenerator(\n",
        "    featurewise_center=True,\n",
        "    featurewise_std_normalization=True,\n",
        "    rotation_range=20,\n",
        "    width_shift_range=0.2,\n",
        "    height_shift_range=0.2,\n",
        "    horizontal_flip=True)\n",
        "# compute quantities required for featurewise normalization\n",
        "# (std, mean, and principal components if ZCA whitening is applied)\n",
        "Rdatagen.fit(X_train)\n",
        "# fits the model on batches with real-time data augmentation:\n",
        "\n",
        "\n",
        "Res.fit_generator(Rdatagen.flow(X_train, y_train, batch_size=32),\n",
        "                    steps_per_epoch=len(X_train) / 32, epochs=20)\n",
        "\n",
        "test_score = Res.evaluate(X_test, y_test)\n",
        "print('Test loss {:.4f}, accuracy {:.2f}%'.format(test_score[0], test_score[1] * 100))\n"
      ],
      "execution_count": 0,
      "outputs": [
        {
          "output_type": "stream",
          "text": [
            "Epoch 1/20\n",
            "6/5 [==============================] - 72s 12s/step - loss: 8.6165 - acc: 0.2844\n",
            "Epoch 2/20\n",
            "6/5 [==============================] - 67s 11s/step - loss: 9.0348 - acc: 0.3267\n",
            "Epoch 3/20\n",
            "6/5 [==============================] - 67s 11s/step - loss: 7.3418 - acc: 0.4429\n",
            "Epoch 4/20\n",
            "6/5 [==============================] - 67s 11s/step - loss: 4.9929 - acc: 0.5644\n",
            "Epoch 5/20\n",
            "6/5 [==============================] - 67s 11s/step - loss: 3.0484 - acc: 0.6586\n",
            "Epoch 6/20\n",
            "6/5 [==============================] - 67s 11s/step - loss: 2.2588 - acc: 0.7098\n",
            "Epoch 7/20\n",
            "6/5 [==============================] - 67s 11s/step - loss: 2.2830 - acc: 0.7276\n",
            "Epoch 8/20\n",
            "6/5 [==============================] - 67s 11s/step - loss: 2.6039 - acc: 0.7009\n",
            "Epoch 9/20\n",
            "6/5 [==============================] - 67s 11s/step - loss: 2.7761 - acc: 0.7203\n",
            "Epoch 10/20\n",
            "6/5 [==============================] - 68s 11s/step - loss: 1.1017 - acc: 0.8414\n",
            "Epoch 11/20\n",
            "6/5 [==============================] - 68s 11s/step - loss: 1.4876 - acc: 0.8061\n",
            "Epoch 12/20\n",
            "6/5 [==============================] - 68s 11s/step - loss: 1.9553 - acc: 0.7835\n",
            "Epoch 13/20\n",
            "6/5 [==============================] - 68s 11s/step - loss: 1.3563 - acc: 0.8681\n",
            "Epoch 14/20\n",
            "6/5 [==============================] - 67s 11s/step - loss: 1.8681 - acc: 0.7890\n",
            "Epoch 15/20\n",
            "6/5 [==============================] - 67s 11s/step - loss: 1.5488 - acc: 0.8472\n",
            "Epoch 16/20\n",
            "6/5 [==============================] - 68s 11s/step - loss: 1.6070 - acc: 0.8525\n",
            "Epoch 17/20\n",
            "6/5 [==============================] - 67s 11s/step - loss: 1.3955 - acc: 0.8475\n",
            "Epoch 18/20\n",
            "6/5 [==============================] - 67s 11s/step - loss: 1.3664 - acc: 0.8368\n",
            "Epoch 19/20\n",
            "6/5 [==============================] - 67s 11s/step - loss: 1.6363 - acc: 0.8212\n",
            "Epoch 20/20\n",
            "6/5 [==============================] - 67s 11s/step - loss: 1.3798 - acc: 0.8319\n",
            "64/64 [==============================] - 19s 293ms/step\n",
            "Test loss 3.5631, accuracy 62.50%\n"
          ],
          "name": "stdout"
        }
      ]
    },
    {
      "cell_type": "markdown",
      "metadata": {
        "id": "m0mwLqMH-Oa4",
        "colab_type": "text"
      },
      "source": [
        "##Confusion Matrix"
      ]
    },
    {
      "cell_type": "code",
      "metadata": {
        "id": "1V862IRV-T46",
        "colab_type": "code",
        "colab": {
          "base_uri": "https://localhost:8080/",
          "height": 163
        },
        "outputId": "b323a1fb-000c-4675-d859-ea544966a3c5"
      },
      "source": [
        "predictions =  Res.predict(X_test)"
      ],
      "execution_count": 63,
      "outputs": [
        {
          "output_type": "error",
          "ename": "NameError",
          "evalue": "ignored",
          "traceback": [
            "\u001b[0;31m---------------------------------------------------------------------------\u001b[0m",
            "\u001b[0;31mNameError\u001b[0m                                 Traceback (most recent call last)",
            "\u001b[0;32m<ipython-input-63-76fc4f76b15b>\u001b[0m in \u001b[0;36m<module>\u001b[0;34m()\u001b[0m\n\u001b[0;32m----> 1\u001b[0;31m \u001b[0mpredictions\u001b[0m \u001b[0;34m=\u001b[0m  \u001b[0mRes\u001b[0m\u001b[0;34m.\u001b[0m\u001b[0mpredict\u001b[0m\u001b[0;34m(\u001b[0m\u001b[0mX_test\u001b[0m\u001b[0;34m)\u001b[0m\u001b[0;34m\u001b[0m\u001b[0;34m\u001b[0m\u001b[0m\n\u001b[0m",
            "\u001b[0;31mNameError\u001b[0m: name 'Res' is not defined"
          ]
        }
      ]
    },
    {
      "cell_type": "code",
      "metadata": {
        "id": "k2dJwEZR-UXK",
        "colab_type": "code",
        "outputId": "6ffada09-4e4d-498d-c351-fb26b9d3cb2d",
        "colab": {
          "base_uri": "https://localhost:8080/",
          "height": 85
        }
      },
      "source": [
        "from sklearn import  metrics\n",
        "matrix = metrics.confusion_matrix(y_test.argmax(axis=1), predictions.argmax(axis=1))\n",
        "print(matrix)"
      ],
      "execution_count": 0,
      "outputs": [
        {
          "output_type": "stream",
          "text": [
            "[[ 3  1 12  0]\n",
            " [ 0  1 16  0]\n",
            " [ 0  0 15  0]\n",
            " [ 0  0 15  1]]\n"
          ],
          "name": "stdout"
        }
      ]
    },
    {
      "cell_type": "code",
      "metadata": {
        "id": "lHLpBRIQ-lLc",
        "colab_type": "code",
        "outputId": "692860b5-8f26-419f-ade9-9b3ff85fe7d9",
        "colab": {
          "base_uri": "https://localhost:8080/",
          "height": 286
        }
      },
      "source": [
        "sns.heatmap(matrix,annot=True,fmt='.5g')"
      ],
      "execution_count": 0,
      "outputs": [
        {
          "output_type": "execute_result",
          "data": {
            "text/plain": [
              "<matplotlib.axes._subplots.AxesSubplot at 0x7f0dc6151d30>"
            ]
          },
          "metadata": {
            "tags": []
          },
          "execution_count": 56
        },
        {
          "output_type": "display_data",
          "data": {
            "image/png": "[encoded data removed]",
            "text/plain": [
              "<Figure size 432x288 with 2 Axes>"
            ]
          },
          "metadata": {
            "tags": []
          }
        }
      ]
    },
    {
      "cell_type": "code",
      "metadata": {
        "id": "xTPBNTY1-6ZE",
        "colab_type": "code",
        "colab": {}
      },
      "source": [
        "#save model\n",
        "Res.save('/content/gdrive/My Drive/project/models/ResNet50_20epochs.h5')"
      ],
      "execution_count": 0,
      "outputs": []
    },
    {
      "cell_type": "markdown",
      "metadata": {
        "id": "IEBsayYRGOfB",
        "colab_type": "text"
      },
      "source": [
        "##Train Accuracy Plot"
      ]
    },
    {
      "cell_type": "code",
      "metadata": {
        "id": "fWatb0sFGb2m",
        "colab_type": "code",
        "outputId": "b886bfb0-735b-40cb-d2c9-0dd0a072ef78",
        "colab": {
          "base_uri": "https://localhost:8080/",
          "height": 545
        }
      },
      "source": [
        "acc = Res.history.history['acc']\n",
        "loss = Res.history.history['loss']\n",
        "\n",
        " \n",
        "epochs = range(len(acc))\n",
        " \n",
        "plt.plot(epochs, acc, 'b', label='Training acc')\n",
        "plt.title('Training accuracy')\n",
        "plt.legend()\n",
        " \n",
        "plt.figure()\n",
        " \n",
        "plt.plot(epochs, loss, 'b', label='Training loss')\n",
        "plt.title('Training  loss')\n",
        "plt.legend()\n",
        " \n",
        "plt.show()"
      ],
      "execution_count": 0,
      "outputs": [
        {
          "output_type": "display_data",
          "data": {
            "image/png": "[encoded data removed]",
            "text/plain": [
              "<Figure size 432x288 with 1 Axes>"
            ]
          },
          "metadata": {
            "tags": []
          }
        },
        {
          "output_type": "display_data",
          "data": {
            "image/png": "[encoded data removed]",
            "text/plain": [
              "<Figure size 432x288 with 1 Axes>"
            ]
          },
          "metadata": {
            "tags": []
          }
        }
      ]
    },
    {
      "cell_type": "markdown",
      "metadata": {
        "id": "MAX_eBJQ2bSi",
        "colab_type": "text"
      },
      "source": [
        "#MobileNet"
      ]
    },
    {
      "cell_type": "code",
      "metadata": {
        "id": "olqFVgMHUfTU",
        "colab_type": "code",
        "colab": {}
      },
      "source": [
        "img_shape = (224,224,3)"
      ],
      "execution_count": 0,
      "outputs": []
    },
    {
      "cell_type": "code",
      "metadata": {
        "id": "1Nf9RkGlxXiJ",
        "colab_type": "code",
        "colab": {}
      },
      "source": [
        "MobileNet = MobileNet(input_shape=img_shape, alpha=1.0, depth_multiplier=1, dropout=1e-3, include_top=False, weights='imagenet', input_tensor=None, pooling=None, classes=1000)"
      ],
      "execution_count": 0,
      "outputs": []
    },
    {
      "cell_type": "code",
      "metadata": {
        "id": "iHblXo_KU__B",
        "colab_type": "code",
        "outputId": "5bf52187-fb42-42f2-80e5-daaa6cfcfc84",
        "colab": {
          "base_uri": "https://localhost:8080/",
          "height": 1000
        }
      },
      "source": [
        "MobileNet.summary()"
      ],
      "execution_count": 0,
      "outputs": [
        {
          "output_type": "stream",
          "text": [
            "_________________________________________________________________\n",
            "Layer (type)                 Output Shape              Param #   \n",
            "=================================================================\n",
            "input_3 (InputLayer)         (None, 224, 224, 3)       0         \n",
            "_________________________________________________________________\n",
            "conv1_pad (ZeroPadding2D)    (None, 225, 225, 3)       0         \n",
            "_________________________________________________________________\n",
            "conv1 (Conv2D)               (None, 112, 112, 32)      864       \n",
            "_________________________________________________________________\n",
            "conv1_bn (BatchNormalization (None, 112, 112, 32)      128       \n",
            "_________________________________________________________________\n",
            "conv1_relu (ReLU)            (None, 112, 112, 32)      0         \n",
            "_________________________________________________________________\n",
            "conv_dw_1 (DepthwiseConv2D)  (None, 112, 112, 32)      288       \n",
            "_________________________________________________________________\n",
            "conv_dw_1_bn (BatchNormaliza (None, 112, 112, 32)      128       \n",
            "_________________________________________________________________\n",
            "conv_dw_1_relu (ReLU)        (None, 112, 112, 32)      0         \n",
            "_________________________________________________________________\n",
            "conv_pw_1 (Conv2D)           (None, 112, 112, 64)      2048      \n",
            "_________________________________________________________________\n",
            "conv_pw_1_bn (BatchNormaliza (None, 112, 112, 64)      256       \n",
            "_________________________________________________________________\n",
            "conv_pw_1_relu (ReLU)        (None, 112, 112, 64)      0         \n",
            "_________________________________________________________________\n",
            "conv_pad_2 (ZeroPadding2D)   (None, 113, 113, 64)      0         \n",
            "_________________________________________________________________\n",
            "conv_dw_2 (DepthwiseConv2D)  (None, 56, 56, 64)        576       \n",
            "_________________________________________________________________\n",
            "conv_dw_2_bn (BatchNormaliza (None, 56, 56, 64)        256       \n",
            "_________________________________________________________________\n",
            "conv_dw_2_relu (ReLU)        (None, 56, 56, 64)        0         \n",
            "_________________________________________________________________\n",
            "conv_pw_2 (Conv2D)           (None, 56, 56, 128)       8192      \n",
            "_________________________________________________________________\n",
            "conv_pw_2_bn (BatchNormaliza (None, 56, 56, 128)       512       \n",
            "_________________________________________________________________\n",
            "conv_pw_2_relu (ReLU)        (None, 56, 56, 128)       0         \n",
            "_________________________________________________________________\n",
            "conv_dw_3 (DepthwiseConv2D)  (None, 56, 56, 128)       1152      \n",
            "_________________________________________________________________\n",
            "conv_dw_3_bn (BatchNormaliza (None, 56, 56, 128)       512       \n",
            "_________________________________________________________________\n",
            "conv_dw_3_relu (ReLU)        (None, 56, 56, 128)       0         \n",
            "_________________________________________________________________\n",
            "conv_pw_3 (Conv2D)           (None, 56, 56, 128)       16384     \n",
            "_________________________________________________________________\n",
            "conv_pw_3_bn (BatchNormaliza (None, 56, 56, 128)       512       \n",
            "_________________________________________________________________\n",
            "conv_pw_3_relu (ReLU)        (None, 56, 56, 128)       0         \n",
            "_________________________________________________________________\n",
            "conv_pad_4 (ZeroPadding2D)   (None, 57, 57, 128)       0         \n",
            "_________________________________________________________________\n",
            "conv_dw_4 (DepthwiseConv2D)  (None, 28, 28, 128)       1152      \n",
            "_________________________________________________________________\n",
            "conv_dw_4_bn (BatchNormaliza (None, 28, 28, 128)       512       \n",
            "_________________________________________________________________\n",
            "conv_dw_4_relu (ReLU)        (None, 28, 28, 128)       0         \n",
            "_________________________________________________________________\n",
            "conv_pw_4 (Conv2D)           (None, 28, 28, 256)       32768     \n",
            "_________________________________________________________________\n",
            "conv_pw_4_bn (BatchNormaliza (None, 28, 28, 256)       1024      \n",
            "_________________________________________________________________\n",
            "conv_pw_4_relu (ReLU)        (None, 28, 28, 256)       0         \n",
            "_________________________________________________________________\n",
            "conv_dw_5 (DepthwiseConv2D)  (None, 28, 28, 256)       2304      \n",
            "_________________________________________________________________\n",
            "conv_dw_5_bn (BatchNormaliza (None, 28, 28, 256)       1024      \n",
            "_________________________________________________________________\n",
            "conv_dw_5_relu (ReLU)        (None, 28, 28, 256)       0         \n",
            "_________________________________________________________________\n",
            "conv_pw_5 (Conv2D)           (None, 28, 28, 256)       65536     \n",
            "_________________________________________________________________\n",
            "conv_pw_5_bn (BatchNormaliza (None, 28, 28, 256)       1024      \n",
            "_________________________________________________________________\n",
            "conv_pw_5_relu (ReLU)        (None, 28, 28, 256)       0         \n",
            "_________________________________________________________________\n",
            "conv_pad_6 (ZeroPadding2D)   (None, 29, 29, 256)       0         \n",
            "_________________________________________________________________\n",
            "conv_dw_6 (DepthwiseConv2D)  (None, 14, 14, 256)       2304      \n",
            "_________________________________________________________________\n",
            "conv_dw_6_bn (BatchNormaliza (None, 14, 14, 256)       1024      \n",
            "_________________________________________________________________\n",
            "conv_dw_6_relu (ReLU)        (None, 14, 14, 256)       0         \n",
            "_________________________________________________________________\n",
            "conv_pw_6 (Conv2D)           (None, 14, 14, 512)       131072    \n",
            "_________________________________________________________________\n",
            "conv_pw_6_bn (BatchNormaliza (None, 14, 14, 512)       2048      \n",
            "_________________________________________________________________\n",
            "conv_pw_6_relu (ReLU)        (None, 14, 14, 512)       0         \n",
            "_________________________________________________________________\n",
            "conv_dw_7 (DepthwiseConv2D)  (None, 14, 14, 512)       4608      \n",
            "_________________________________________________________________\n",
            "conv_dw_7_bn (BatchNormaliza (None, 14, 14, 512)       2048      \n",
            "_________________________________________________________________\n",
            "conv_dw_7_relu (ReLU)        (None, 14, 14, 512)       0         \n",
            "_________________________________________________________________\n",
            "conv_pw_7 (Conv2D)           (None, 14, 14, 512)       262144    \n",
            "_________________________________________________________________\n",
            "conv_pw_7_bn (BatchNormaliza (None, 14, 14, 512)       2048      \n",
            "_________________________________________________________________\n",
            "conv_pw_7_relu (ReLU)        (None, 14, 14, 512)       0         \n",
            "_________________________________________________________________\n",
            "conv_dw_8 (DepthwiseConv2D)  (None, 14, 14, 512)       4608      \n",
            "_________________________________________________________________\n",
            "conv_dw_8_bn (BatchNormaliza (None, 14, 14, 512)       2048      \n",
            "_________________________________________________________________\n",
            "conv_dw_8_relu (ReLU)        (None, 14, 14, 512)       0         \n",
            "_________________________________________________________________\n",
            "conv_pw_8 (Conv2D)           (None, 14, 14, 512)       262144    \n",
            "_________________________________________________________________\n",
            "conv_pw_8_bn (BatchNormaliza (None, 14, 14, 512)       2048      \n",
            "_________________________________________________________________\n",
            "conv_pw_8_relu (ReLU)        (None, 14, 14, 512)       0         \n",
            "_________________________________________________________________\n",
            "conv_dw_9 (DepthwiseConv2D)  (None, 14, 14, 512)       4608      \n",
            "_________________________________________________________________\n",
            "conv_dw_9_bn (BatchNormaliza (None, 14, 14, 512)       2048      \n",
            "_________________________________________________________________\n",
            "conv_dw_9_relu (ReLU)        (None, 14, 14, 512)       0         \n",
            "_________________________________________________________________\n",
            "conv_pw_9 (Conv2D)           (None, 14, 14, 512)       262144    \n",
            "_________________________________________________________________\n",
            "conv_pw_9_bn (BatchNormaliza (None, 14, 14, 512)       2048      \n",
            "_________________________________________________________________\n",
            "conv_pw_9_relu (ReLU)        (None, 14, 14, 512)       0         \n",
            "_________________________________________________________________\n",
            "conv_dw_10 (DepthwiseConv2D) (None, 14, 14, 512)       4608      \n",
            "_________________________________________________________________\n",
            "conv_dw_10_bn (BatchNormaliz (None, 14, 14, 512)       2048      \n",
            "_________________________________________________________________\n",
            "conv_dw_10_relu (ReLU)       (None, 14, 14, 512)       0         \n",
            "_________________________________________________________________\n",
            "conv_pw_10 (Conv2D)          (None, 14, 14, 512)       262144    \n",
            "_________________________________________________________________\n",
            "conv_pw_10_bn (BatchNormaliz (None, 14, 14, 512)       2048      \n",
            "_________________________________________________________________\n",
            "conv_pw_10_relu (ReLU)       (None, 14, 14, 512)       0         \n",
            "_________________________________________________________________\n",
            "conv_dw_11 (DepthwiseConv2D) (None, 14, 14, 512)       4608      \n",
            "_________________________________________________________________\n",
            "conv_dw_11_bn (BatchNormaliz (None, 14, 14, 512)       2048      \n",
            "_________________________________________________________________\n",
            "conv_dw_11_relu (ReLU)       (None, 14, 14, 512)       0         \n",
            "_________________________________________________________________\n",
            "conv_pw_11 (Conv2D)          (None, 14, 14, 512)       262144    \n",
            "_________________________________________________________________\n",
            "conv_pw_11_bn (BatchNormaliz (None, 14, 14, 512)       2048      \n",
            "_________________________________________________________________\n",
            "conv_pw_11_relu (ReLU)       (None, 14, 14, 512)       0         \n",
            "_________________________________________________________________\n",
            "conv_pad_12 (ZeroPadding2D)  (None, 15, 15, 512)       0         \n",
            "_________________________________________________________________\n",
            "conv_dw_12 (DepthwiseConv2D) (None, 7, 7, 512)         4608      \n",
            "_________________________________________________________________\n",
            "conv_dw_12_bn (BatchNormaliz (None, 7, 7, 512)         2048      \n",
            "_________________________________________________________________\n",
            "conv_dw_12_relu (ReLU)       (None, 7, 7, 512)         0         \n",
            "_________________________________________________________________\n",
            "conv_pw_12 (Conv2D)          (None, 7, 7, 1024)        524288    \n",
            "_________________________________________________________________\n",
            "conv_pw_12_bn (BatchNormaliz (None, 7, 7, 1024)        4096      \n",
            "_________________________________________________________________\n",
            "conv_pw_12_relu (ReLU)       (None, 7, 7, 1024)        0         \n",
            "_________________________________________________________________\n",
            "conv_dw_13 (DepthwiseConv2D) (None, 7, 7, 1024)        9216      \n",
            "_________________________________________________________________\n",
            "conv_dw_13_bn (BatchNormaliz (None, 7, 7, 1024)        4096      \n",
            "_________________________________________________________________\n",
            "conv_dw_13_relu (ReLU)       (None, 7, 7, 1024)        0         \n",
            "_________________________________________________________________\n",
            "conv_pw_13 (Conv2D)          (None, 7, 7, 1024)        1048576   \n",
            "_________________________________________________________________\n",
            "conv_pw_13_bn (BatchNormaliz (None, 7, 7, 1024)        4096      \n",
            "_________________________________________________________________\n",
            "conv_pw_13_relu (ReLU)       (None, 7, 7, 1024)        0         \n",
            "=================================================================\n",
            "Total params: 3,228,864\n",
            "Trainable params: 3,206,976\n",
            "Non-trainable params: 21,888\n",
            "_________________________________________________________________\n"
          ],
          "name": "stdout"
        }
      ]
    },
    {
      "cell_type": "markdown",
      "metadata": {
        "id": "D2I9sPjHGDyG",
        "colab_type": "text"
      },
      "source": [
        "##Fine Tuning Model"
      ]
    },
    {
      "cell_type": "code",
      "metadata": {
        "id": "d2j6LCPR3EiJ",
        "colab_type": "code",
        "colab": {}
      },
      "source": [
        "MobileNet.trainable=False"
      ],
      "execution_count": 0,
      "outputs": []
    },
    {
      "cell_type": "code",
      "metadata": {
        "id": "waYuEmMEGBZL",
        "colab_type": "code",
        "colab": {}
      },
      "source": [
        "x = MobileNet.output\n",
        "x = Flatten(name='flatten')(x)\n",
        "x = Dense(4, activation='softmax', name='predictions')(x)\n",
        "#model = Model(inputs=MobileNet.input, outputs=predictions)\n",
        "updatedModel = Model(MobileNet.input, x)\n",
        "\n"
      ],
      "execution_count": 0,
      "outputs": []
    },
    {
      "cell_type": "code",
      "metadata": {
        "id": "Xqv2ynDkV4IO",
        "colab_type": "code",
        "colab": {}
      },
      "source": [
        "'''for layer in model.layers[:-5]:\n",
        "  layer.trainable= False'''"
      ],
      "execution_count": 0,
      "outputs": []
    },
    {
      "cell_type": "code",
      "metadata": {
        "id": "YXdBw74JHcUE",
        "colab_type": "code",
        "outputId": "7b037ff6-7766-4899-8328-1c03bf01872e",
        "colab": {
          "base_uri": "https://localhost:8080/",
          "height": 1000
        }
      },
      "source": [
        "model.summary()"
      ],
      "execution_count": 0,
      "outputs": [
        {
          "output_type": "stream",
          "text": [
            "_________________________________________________________________\n",
            "Layer (type)                 Output Shape              Param #   \n",
            "=================================================================\n",
            "input_1 (InputLayer)         (None, 224, 224, 3)       0         \n",
            "_________________________________________________________________\n",
            "conv1_pad (ZeroPadding2D)    (None, 225, 225, 3)       0         \n",
            "_________________________________________________________________\n",
            "conv1 (Conv2D)               (None, 112, 112, 32)      864       \n",
            "_________________________________________________________________\n",
            "conv1_bn (BatchNormalization (None, 112, 112, 32)      128       \n",
            "_________________________________________________________________\n",
            "conv1_relu (ReLU)            (None, 112, 112, 32)      0         \n",
            "_________________________________________________________________\n",
            "conv_dw_1 (DepthwiseConv2D)  (None, 112, 112, 32)      288       \n",
            "_________________________________________________________________\n",
            "conv_dw_1_bn (BatchNormaliza (None, 112, 112, 32)      128       \n",
            "_________________________________________________________________\n",
            "conv_dw_1_relu (ReLU)        (None, 112, 112, 32)      0         \n",
            "_________________________________________________________________\n",
            "conv_pw_1 (Conv2D)           (None, 112, 112, 64)      2048      \n",
            "_________________________________________________________________\n",
            "conv_pw_1_bn (BatchNormaliza (None, 112, 112, 64)      256       \n",
            "_________________________________________________________________\n",
            "conv_pw_1_relu (ReLU)        (None, 112, 112, 64)      0         \n",
            "_________________________________________________________________\n",
            "conv_pad_2 (ZeroPadding2D)   (None, 113, 113, 64)      0         \n",
            "_________________________________________________________________\n",
            "conv_dw_2 (DepthwiseConv2D)  (None, 56, 56, 64)        576       \n",
            "_________________________________________________________________\n",
            "conv_dw_2_bn (BatchNormaliza (None, 56, 56, 64)        256       \n",
            "_________________________________________________________________\n",
            "conv_dw_2_relu (ReLU)        (None, 56, 56, 64)        0         \n",
            "_________________________________________________________________\n",
            "conv_pw_2 (Conv2D)           (None, 56, 56, 128)       8192      \n",
            "_________________________________________________________________\n",
            "conv_pw_2_bn (BatchNormaliza (None, 56, 56, 128)       512       \n",
            "_________________________________________________________________\n",
            "conv_pw_2_relu (ReLU)        (None, 56, 56, 128)       0         \n",
            "_________________________________________________________________\n",
            "conv_dw_3 (DepthwiseConv2D)  (None, 56, 56, 128)       1152      \n",
            "_________________________________________________________________\n",
            "conv_dw_3_bn (BatchNormaliza (None, 56, 56, 128)       512       \n",
            "_________________________________________________________________\n",
            "conv_dw_3_relu (ReLU)        (None, 56, 56, 128)       0         \n",
            "_________________________________________________________________\n",
            "conv_pw_3 (Conv2D)           (None, 56, 56, 128)       16384     \n",
            "_________________________________________________________________\n",
            "conv_pw_3_bn (BatchNormaliza (None, 56, 56, 128)       512       \n",
            "_________________________________________________________________\n",
            "conv_pw_3_relu (ReLU)        (None, 56, 56, 128)       0         \n",
            "_________________________________________________________________\n",
            "conv_pad_4 (ZeroPadding2D)   (None, 57, 57, 128)       0         \n",
            "_________________________________________________________________\n",
            "conv_dw_4 (DepthwiseConv2D)  (None, 28, 28, 128)       1152      \n",
            "_________________________________________________________________\n",
            "conv_dw_4_bn (BatchNormaliza (None, 28, 28, 128)       512       \n",
            "_________________________________________________________________\n",
            "conv_dw_4_relu (ReLU)        (None, 28, 28, 128)       0         \n",
            "_________________________________________________________________\n",
            "conv_pw_4 (Conv2D)           (None, 28, 28, 256)       32768     \n",
            "_________________________________________________________________\n",
            "conv_pw_4_bn (BatchNormaliza (None, 28, 28, 256)       1024      \n",
            "_________________________________________________________________\n",
            "conv_pw_4_relu (ReLU)        (None, 28, 28, 256)       0         \n",
            "_________________________________________________________________\n",
            "conv_dw_5 (DepthwiseConv2D)  (None, 28, 28, 256)       2304      \n",
            "_________________________________________________________________\n",
            "conv_dw_5_bn (BatchNormaliza (None, 28, 28, 256)       1024      \n",
            "_________________________________________________________________\n",
            "conv_dw_5_relu (ReLU)        (None, 28, 28, 256)       0         \n",
            "_________________________________________________________________\n",
            "conv_pw_5 (Conv2D)           (None, 28, 28, 256)       65536     \n",
            "_________________________________________________________________\n",
            "conv_pw_5_bn (BatchNormaliza (None, 28, 28, 256)       1024      \n",
            "_________________________________________________________________\n",
            "conv_pw_5_relu (ReLU)        (None, 28, 28, 256)       0         \n",
            "_________________________________________________________________\n",
            "conv_pad_6 (ZeroPadding2D)   (None, 29, 29, 256)       0         \n",
            "_________________________________________________________________\n",
            "conv_dw_6 (DepthwiseConv2D)  (None, 14, 14, 256)       2304      \n",
            "_________________________________________________________________\n",
            "conv_dw_6_bn (BatchNormaliza (None, 14, 14, 256)       1024      \n",
            "_________________________________________________________________\n",
            "conv_dw_6_relu (ReLU)        (None, 14, 14, 256)       0         \n",
            "_________________________________________________________________\n",
            "conv_pw_6 (Conv2D)           (None, 14, 14, 512)       131072    \n",
            "_________________________________________________________________\n",
            "conv_pw_6_bn (BatchNormaliza (None, 14, 14, 512)       2048      \n",
            "_________________________________________________________________\n",
            "conv_pw_6_relu (ReLU)        (None, 14, 14, 512)       0         \n",
            "_________________________________________________________________\n",
            "conv_dw_7 (DepthwiseConv2D)  (None, 14, 14, 512)       4608      \n",
            "_________________________________________________________________\n",
            "conv_dw_7_bn (BatchNormaliza (None, 14, 14, 512)       2048      \n",
            "_________________________________________________________________\n",
            "conv_dw_7_relu (ReLU)        (None, 14, 14, 512)       0         \n",
            "_________________________________________________________________\n",
            "conv_pw_7 (Conv2D)           (None, 14, 14, 512)       262144    \n",
            "_________________________________________________________________\n",
            "conv_pw_7_bn (BatchNormaliza (None, 14, 14, 512)       2048      \n",
            "_________________________________________________________________\n",
            "conv_pw_7_relu (ReLU)        (None, 14, 14, 512)       0         \n",
            "_________________________________________________________________\n",
            "conv_dw_8 (DepthwiseConv2D)  (None, 14, 14, 512)       4608      \n",
            "_________________________________________________________________\n",
            "conv_dw_8_bn (BatchNormaliza (None, 14, 14, 512)       2048      \n",
            "_________________________________________________________________\n",
            "conv_dw_8_relu (ReLU)        (None, 14, 14, 512)       0         \n",
            "_________________________________________________________________\n",
            "conv_pw_8 (Conv2D)           (None, 14, 14, 512)       262144    \n",
            "_________________________________________________________________\n",
            "conv_pw_8_bn (BatchNormaliza (None, 14, 14, 512)       2048      \n",
            "_________________________________________________________________\n",
            "conv_pw_8_relu (ReLU)        (None, 14, 14, 512)       0         \n",
            "_________________________________________________________________\n",
            "conv_dw_9 (DepthwiseConv2D)  (None, 14, 14, 512)       4608      \n",
            "_________________________________________________________________\n",
            "conv_dw_9_bn (BatchNormaliza (None, 14, 14, 512)       2048      \n",
            "_________________________________________________________________\n",
            "conv_dw_9_relu (ReLU)        (None, 14, 14, 512)       0         \n",
            "_________________________________________________________________\n",
            "conv_pw_9 (Conv2D)           (None, 14, 14, 512)       262144    \n",
            "_________________________________________________________________\n",
            "conv_pw_9_bn (BatchNormaliza (None, 14, 14, 512)       2048      \n",
            "_________________________________________________________________\n",
            "conv_pw_9_relu (ReLU)        (None, 14, 14, 512)       0         \n",
            "_________________________________________________________________\n",
            "conv_dw_10 (DepthwiseConv2D) (None, 14, 14, 512)       4608      \n",
            "_________________________________________________________________\n",
            "conv_dw_10_bn (BatchNormaliz (None, 14, 14, 512)       2048      \n",
            "_________________________________________________________________\n",
            "conv_dw_10_relu (ReLU)       (None, 14, 14, 512)       0         \n",
            "_________________________________________________________________\n",
            "conv_pw_10 (Conv2D)          (None, 14, 14, 512)       262144    \n",
            "_________________________________________________________________\n",
            "conv_pw_10_bn (BatchNormaliz (None, 14, 14, 512)       2048      \n",
            "_________________________________________________________________\n",
            "conv_pw_10_relu (ReLU)       (None, 14, 14, 512)       0         \n",
            "_________________________________________________________________\n",
            "conv_dw_11 (DepthwiseConv2D) (None, 14, 14, 512)       4608      \n",
            "_________________________________________________________________\n",
            "conv_dw_11_bn (BatchNormaliz (None, 14, 14, 512)       2048      \n",
            "_________________________________________________________________\n",
            "conv_dw_11_relu (ReLU)       (None, 14, 14, 512)       0         \n",
            "_________________________________________________________________\n",
            "conv_pw_11 (Conv2D)          (None, 14, 14, 512)       262144    \n",
            "_________________________________________________________________\n",
            "conv_pw_11_bn (BatchNormaliz (None, 14, 14, 512)       2048      \n",
            "_________________________________________________________________\n",
            "conv_pw_11_relu (ReLU)       (None, 14, 14, 512)       0         \n",
            "_________________________________________________________________\n",
            "conv_pad_12 (ZeroPadding2D)  (None, 15, 15, 512)       0         \n",
            "_________________________________________________________________\n",
            "conv_dw_12 (DepthwiseConv2D) (None, 7, 7, 512)         4608      \n",
            "_________________________________________________________________\n",
            "conv_dw_12_bn (BatchNormaliz (None, 7, 7, 512)         2048      \n",
            "_________________________________________________________________\n",
            "conv_dw_12_relu (ReLU)       (None, 7, 7, 512)         0         \n",
            "_________________________________________________________________\n",
            "conv_pw_12 (Conv2D)          (None, 7, 7, 1024)        524288    \n",
            "_________________________________________________________________\n",
            "conv_pw_12_bn (BatchNormaliz (None, 7, 7, 1024)        4096      \n",
            "_________________________________________________________________\n",
            "conv_pw_12_relu (ReLU)       (None, 7, 7, 1024)        0         \n",
            "_________________________________________________________________\n",
            "conv_dw_13 (DepthwiseConv2D) (None, 7, 7, 1024)        9216      \n",
            "_________________________________________________________________\n",
            "flatten (Flatten)            (None, 50176)             0         \n",
            "_________________________________________________________________\n",
            "predictions (Dense)          (None, 4)                 200708    \n",
            "=================================================================\n",
            "Total params: 2,372,804\n",
            "Trainable params: 211,972\n",
            "Non-trainable params: 2,160,832\n",
            "_________________________________________________________________\n"
          ],
          "name": "stdout"
        }
      ]
    },
    {
      "cell_type": "markdown",
      "metadata": {
        "id": "OYQ6f_jnGG4M",
        "colab_type": "text"
      },
      "source": [
        "##Compile Model"
      ]
    },
    {
      "cell_type": "code",
      "metadata": {
        "id": "J2Pxy48NGBRq",
        "colab_type": "code",
        "colab": {}
      },
      "source": [
        "updatedModel.compile(optimizer='rmsprop', loss='categorical_crossentropy', metrics=['acc'])"
      ],
      "execution_count": 0,
      "outputs": []
    },
    {
      "cell_type": "code",
      "metadata": {
        "id": "GDgU5OxGGBKM",
        "colab_type": "code",
        "colab": {}
      },
      "source": [
        ""
      ],
      "execution_count": 0,
      "outputs": []
    },
    {
      "cell_type": "markdown",
      "metadata": {
        "id": "-HQ7l_75Wr8T",
        "colab_type": "text"
      },
      "source": [
        "##Fitting Model"
      ]
    },
    {
      "cell_type": "code",
      "metadata": {
        "id": "SofjkrPpGBBz",
        "colab_type": "code",
        "outputId": "3b7ec0c8-6488-4c26-d7f2-06677199f14c",
        "colab": {
          "base_uri": "https://localhost:8080/",
          "height": 731
        }
      },
      "source": [
        "Mdatagen = ImageDataGenerator(\n",
        "    featurewise_center=True,\n",
        "    featurewise_std_normalization=True,\n",
        "    rotation_range=20,\n",
        "    width_shift_range=0.2,\n",
        "    height_shift_range=0.2,\n",
        "    horizontal_flip=True)\n",
        "# compute quantities required for featurewise normalization\n",
        "# (std, mean, and principal components if ZCA whitening is applied)\n",
        "Mdatagen.fit(X_train)\n",
        "# fits the model on batches with real-time data augmentation:\n",
        "\n",
        "\n",
        "updatedModel.fit_generator(Mdatagen.flow(X_train, y_train, batch_size=32),\n",
        "                    steps_per_epoch=len(X_train) / 32, epochs=20)\n",
        "\n",
        "test_score = updatedModel.evaluate(X_test, y_test)\n",
        "print('Test loss {:.4f}, accuracy {:.2f}%'.format(test_score[0], test_score[1] * 100))\n"
      ],
      "execution_count": 0,
      "outputs": [
        {
          "output_type": "stream",
          "text": [
            "Epoch 1/20\n",
            "6/5 [==============================] - 68s 11s/step - loss: 9.7227 - acc: 0.2893\n",
            "Epoch 2/20\n",
            "6/5 [==============================] - 61s 10s/step - loss: 9.6848 - acc: 0.3800\n",
            "Epoch 3/20\n",
            "6/5 [==============================] - 61s 10s/step - loss: 9.9479 - acc: 0.3678\n",
            "Epoch 4/20\n",
            "6/5 [==============================] - 61s 10s/step - loss: 9.0204 - acc: 0.4371\n",
            "Epoch 5/20\n",
            "6/5 [==============================] - 60s 10s/step - loss: 9.3938 - acc: 0.4110\n",
            "Epoch 6/20\n",
            "6/5 [==============================] - 61s 10s/step - loss: 9.1001 - acc: 0.4261\n",
            "Epoch 7/20\n",
            "6/5 [==============================] - 61s 10s/step - loss: 10.6608 - acc: 0.3212\n",
            "Epoch 8/20\n",
            "6/5 [==============================] - 61s 10s/step - loss: 10.2204 - acc: 0.3620\n",
            "Epoch 9/20\n",
            "6/5 [==============================] - 61s 10s/step - loss: 9.3503 - acc: 0.4165\n",
            "Epoch 10/20\n",
            "6/5 [==============================] - 61s 10s/step - loss: 10.3378 - acc: 0.3461\n",
            "Epoch 11/20\n",
            "6/5 [==============================] - 61s 10s/step - loss: 9.6428 - acc: 0.3957\n",
            "Epoch 12/20\n",
            "6/5 [==============================] - 61s 10s/step - loss: 9.3775 - acc: 0.4058\n",
            "Epoch 13/20\n",
            "6/5 [==============================] - 61s 10s/step - loss: 8.3570 - acc: 0.4638\n",
            "Epoch 14/20\n",
            "6/5 [==============================] - 61s 10s/step - loss: 9.9169 - acc: 0.3586\n",
            "Epoch 15/20\n",
            "6/5 [==============================] - 61s 10s/step - loss: 9.0101 - acc: 0.4052\n",
            "Epoch 16/20\n",
            "6/5 [==============================] - 61s 10s/step - loss: 8.0618 - acc: 0.4820\n",
            "Epoch 17/20\n",
            "6/5 [==============================] - 61s 10s/step - loss: 7.9890 - acc: 0.4942\n",
            "Epoch 18/20\n",
            "6/5 [==============================] - 61s 10s/step - loss: 8.7976 - acc: 0.4464\n",
            "Epoch 19/20\n",
            "6/5 [==============================] - 60s 10s/step - loss: 8.8766 - acc: 0.4420\n",
            "Epoch 20/20\n",
            "6/5 [==============================] - 61s 10s/step - loss: 8.7743 - acc: 0.4371\n",
            "64/64 [==============================] - 8s 123ms/step\n",
            "Test loss 11.8367, accuracy 26.56%\n"
          ],
          "name": "stdout"
        }
      ]
    },
    {
      "cell_type": "markdown",
      "metadata": {
        "id": "jVHtJseWIzTu",
        "colab_type": "text"
      },
      "source": [
        "##Confusion Matrix"
      ]
    },
    {
      "cell_type": "code",
      "metadata": {
        "id": "Sc9r7d7IGAxm",
        "colab_type": "code",
        "colab": {}
      },
      "source": [
        "predictions =  updatedModel.predict(X_test)"
      ],
      "execution_count": 0,
      "outputs": []
    },
    {
      "cell_type": "code",
      "metadata": {
        "id": "QV_zu4bCI980",
        "colab_type": "code",
        "outputId": "f285e0d9-4ba5-4a08-a223-33acf6358527",
        "colab": {
          "base_uri": "https://localhost:8080/",
          "height": 85
        }
      },
      "source": [
        "from sklearn import  metrics\n",
        "matrix = metrics.confusion_matrix(y_test.argmax(axis=1), predictions.argmax(axis=1))\n",
        "print(matrix)"
      ],
      "execution_count": 0,
      "outputs": [
        {
          "output_type": "stream",
          "text": [
            "[[ 0 16  0  0]\n",
            " [ 0 17  0  0]\n",
            " [ 0 15  0  0]\n",
            " [ 0 16  0  0]]\n"
          ],
          "name": "stdout"
        }
      ]
    },
    {
      "cell_type": "code",
      "metadata": {
        "id": "6AqEnjBYJAd3",
        "colab_type": "code",
        "outputId": "23b613eb-bfae-4a9c-bc9a-ef991a692c21",
        "colab": {
          "base_uri": "https://localhost:8080/",
          "height": 286
        }
      },
      "source": [
        "sns.heatmap(matrix,annot=True,fmt='.5g')"
      ],
      "execution_count": 0,
      "outputs": [
        {
          "output_type": "execute_result",
          "data": {
            "text/plain": [
              "<matplotlib.axes._subplots.AxesSubplot at 0x7f7e436628d0>"
            ]
          },
          "metadata": {
            "tags": []
          },
          "execution_count": 55
        },
        {
          "output_type": "display_data",
          "data": {
            "image/png": "[encoded data removed]",
            "text/plain": [
              "<Figure size 432x288 with 2 Axes>"
            ]
          },
          "metadata": {
            "tags": []
          }
        }
      ]
    },
    {
      "cell_type": "code",
      "metadata": {
        "id": "4sTwHIBMJIi2",
        "colab_type": "code",
        "colab": {}
      },
      "source": [
        "predictions"
      ],
      "execution_count": 0,
      "outputs": []
    },
    {
      "cell_type": "code",
      "metadata": {
        "id": "EQpbSQntJa6A",
        "colab_type": "code",
        "colab": {}
      },
      "source": [
        ""
      ],
      "execution_count": 0,
      "outputs": []
    },
    {
      "cell_type": "markdown",
      "metadata": {
        "id": "7iuNRjQHyPRe",
        "colab_type": "text"
      },
      "source": [
        "#POSE ESTIMATION"
      ]
    },
    {
      "cell_type": "code",
      "metadata": {
        "id": "HGOVwdiayR24",
        "colab_type": "code",
        "colab": {}
      },
      "source": [
        "# Specify the paths for the 2 files\n",
        "protoFile =    \"/content/gdrive/My Drive/project/openpose-master/models/pose/mpi/pose_deploy_linevec_faster_4_stages.prototxt\"\n",
        "weightsFile =  \"/content/gdrive/My Drive/project/openpose-master/pose_iter_160000.caffemodel\"\n",
        " \n",
        "# Read the network into Memory\n",
        "net = cv2.dnn.readNetFromCaffe(protoFile, weightsFile)"
      ],
      "execution_count": 0,
      "outputs": []
    },
    {
      "cell_type": "code",
      "metadata": {
        "id": "XcqFlKNHzESo",
        "colab_type": "code",
        "colab": {}
      },
      "source": [
        "# Read image\n",
        "frame = cv2.imread(\"/content/gdrive/My Drive/project/BEAST1/Fear/F12FE.bmp\")\n",
        " \n",
        "# Specify the input image dimensions\n",
        "\n",
        "frameCopy = np.copy(frame)\n",
        "frameWidth = frame.shape[1]\n",
        "frameHeight = frame.shape[0]\n",
        "threshold = 0.1\n",
        " \n",
        "# Prepare the frame to be fed to the network\n",
        "inpBlob = cv2.dnn.blobFromImage(frame, 1.0 / 255, (inWidth, inHeight), (0, 0, 0), swapRB=False, crop=False)\n",
        " \n",
        "# Set the prepared object as the input blob of the network\n",
        "net.setInput(inpBlob)\n",
        "\n",
        "\n",
        "output = net.forward()\n",
        "\n",
        "\n",
        "H = output.shape[2]\n",
        "W = output.shape[3]\n",
        "# Empty list to store the detected keypoints\n",
        "points = []\n",
        "for i in range(15):\n",
        "    # confidence map of corresponding body's part.\n",
        "    probMap = output[0, i, :, :]\n",
        " \n",
        "    # Find global maxima of the probMap.\n",
        "    minVal, prob, minLoc, point = cv2.minMaxLoc(probMap)\n",
        " \n",
        "    # Scale the point to fit on the original image\n",
        "    x = (frameWidth * point[0]) / W\n",
        "    y = (frameHeight * point[1]) / H\n",
        " \n",
        "    if prob > threshold :\n",
        "        cv2.circle(frame, (int(x), int(y)), 5, (0, 255, 255), thickness=-1, lineType=cv2.FILLED)\n",
        "        #cv2.putText(frame, \"{}\".format(i), (int(x), int(y)), cv2.FONT_HERSHEY_SIMPLEX, 0.5, (0, 0, 255), 3, lineType=cv2.LINE_AA)\n",
        " \n",
        "        # Add the point to the list if the probability is greater than the threshold\n",
        "        points.append((int(x), int(y)))\n",
        "    else :\n",
        "        points.append(None)\n",
        "\n",
        "\n",
        "POSE_PAIRS = [[0,1], [1,2], [2,3], [3,4], [1,5], [5,6], [6,7], [1,14], [14,8], [8,9], [9,10], [14,11], [11,12], [12,13] ]\n",
        "\n",
        "for pair in POSE_PAIRS:\n",
        "    partA = pair[0]\n",
        "    partB = pair[1]\n",
        " \n",
        "    if points[partA] and points[partB]:\n",
        "        cv2.line(frameCopy, points[partA], points[partB], (0, 255, 0), 3)\n"
      ],
      "execution_count": 0,
      "outputs": []
    },
    {
      "cell_type": "code",
      "metadata": {
        "id": "WL0d6Q2MzrfW",
        "colab_type": "code",
        "colab": {}
      },
      "source": [
        ""
      ],
      "execution_count": 0,
      "outputs": []
    },
    {
      "cell_type": "code",
      "metadata": {
        "id": "eNYF3VdZG8JB",
        "colab_type": "code",
        "colab": {
          "base_uri": "https://localhost:8080/",
          "height": 327
        },
        "outputId": "c035bcf3-7126-4520-81bc-521a276fc8e8"
      },
      "source": [
        "cv2_imshow(frame)\n"
      ],
      "execution_count": 95,
      "outputs": [
        {
          "output_type": "display_data",
          "data": {
            "image/png": "[encoded data removed]",
            "text/plain": [
              "<PIL.Image.Image image mode=RGB size=177x310 at 0x7FAAE65C5B00>"
            ]
          },
          "metadata": {
            "tags": []
          }
        }
      ]
    },
    {
      "cell_type": "code",
      "metadata": {
        "id": "P9mLtDeA1TfW",
        "colab_type": "code",
        "colab": {}
      },
      "source": [
        "POSE_PAIRS = [[0,1], [1,2], [2,3], [3,4], [1,5], [5,6], [6,7], [1,14], [14,8], [8,9], [9,10], [14,11], [11,12], [12,13] ]\n",
        "\n",
        "for pair in POSE_PAIRS:\n",
        "    partA = pair[0]\n",
        "    partB = pair[1]\n",
        " \n",
        "    if points[partA] and points[partB]:\n",
        "        cv2.line(frameCopy, points[partA], points[partB], (0, 255, 0), 3)"
      ],
      "execution_count": 0,
      "outputs": []
    },
    {
      "cell_type": "markdown",
      "metadata": {
        "id": "EocPlWYKYrNQ",
        "colab_type": "text"
      },
      "source": [
        "##plots"
      ]
    },
    {
      "cell_type": "code",
      "metadata": {
        "id": "JAxcpxeJJ_Bv",
        "colab_type": "code",
        "colab": {
          "base_uri": "https://localhost:8080/",
          "height": 637
        },
        "outputId": "9116020d-9f0d-4333-953b-e1ebf419791d"
      },
      "source": [
        "cv2_imshow(frame)\n",
        "\n",
        "cv2_imshow(frameCopy)\n"
      ],
      "execution_count": 85,
      "outputs": [
        {
          "output_type": "display_data",
          "data": {
            "image/png": "[encoded data removed]",
            "text/plain": [
              "<PIL.Image.Image image mode=RGB size=202x310 at 0x7FAA9C1422E8>"
            ]
          },
          "metadata": {
            "tags": []
          }
        },
        {
          "output_type": "display_data",
          "data": {
            "image/png": "[encoded data removed]",
            "text/plain": [
              "<PIL.Image.Image image mode=RGB size=202x310 at 0x7FAA9C1425F8>"
            ]
          },
          "metadata": {
            "tags": []
          }
        }
      ]
    },
    {
      "cell_type": "code",
      "metadata": {
        "id": "8-X5BNNhKRl3",
        "colab_type": "code",
        "colab": {
          "base_uri": "https://localhost:8080/",
          "height": 287
        },
        "outputId": "59bff192-6a60-4f8f-e826-846a0cf98046"
      },
      "source": [
        ""
      ],
      "execution_count": 87,
      "outputs": [
        {
          "output_type": "execute_result",
          "data": {
            "text/plain": [
              "<matplotlib.image.AxesImage at 0x7faa995ceb38>"
            ]
          },
          "metadata": {
            "tags": []
          },
          "execution_count": 87
        },
        {
          "output_type": "display_data",
          "data": {
            "image/png": "[encoded data removed]",
            "text/plain": [
              "<Figure size 432x288 with 1 Axes>"
            ]
          },
          "metadata": {
            "tags": []
          }
        }
      ]
    },
    {
      "cell_type": "code",
      "metadata": {
        "id": "R_qQWXjCL_zi",
        "colab_type": "code",
        "colab": {
          "base_uri": "https://localhost:8080/",
          "height": 637
        },
        "outputId": "f46f8aa3-11eb-427c-d56b-3b9e85beac9b"
      },
      "source": [
        "cv2_imshow(frame)\n",
        "\n",
        "cv2_imshow(frameCopy)\n"
      ],
      "execution_count": 97,
      "outputs": [
        {
          "output_type": "display_data",
          "data": {
            "image/png": "[encoded data removed]",
            "text/plain": [
              "<PIL.Image.Image image mode=RGB size=177x310 at 0x7FAA97C512E8>"
            ]
          },
          "metadata": {
            "tags": []
          }
        },
        {
          "output_type": "display_data",
          "data": {
            "image/png": "[encoded data removed]",
            "text/plain": [
              "<PIL.Image.Image image mode=RGB size=177x310 at 0x7FAA97C7C9E8>"
            ]
          },
          "metadata": {
            "tags": []
          }
        }
      ]
    },
    {
      "cell_type": "code",
      "metadata": {
        "id": "FnP8N-A3QRM5",
        "colab_type": "code",
        "colab": {}
      },
      "source": [
        ""
      ],
      "execution_count": 0,
      "outputs": []
    },
    {
      "cell_type": "markdown",
      "metadata": {
        "id": "EMARfLohSGZ3",
        "colab_type": "text"
      },
      "source": [
        "##Placing 3D models on Images"
      ]
    },
    {
      "cell_type": "code",
      "metadata": {
        "id": "NQht5-EdSHkB",
        "colab_type": "code",
        "colab": {}
      },
      "source": [
        "#http://www.robots.ox.ac.uk/~vgg/data/pose_evaluation/\n",
        "#http://human-pose.mpi-inf.mpg.de/"
      ],
      "execution_count": 0,
      "outputs": []
    },
    {
      "cell_type": "code",
      "metadata": {
        "id": "hwq_ZVo3XiI8",
        "colab_type": "code",
        "colab": {}
      },
      "source": [
        ""
      ],
      "execution_count": 0,
      "outputs": []
    },
    {
      "cell_type": "code",
      "metadata": {
        "id": "7v4z38G4TLvZ",
        "colab_type": "code",
        "colab": {
          "base_uri": "https://localhost:8080/",
          "height": 90
        },
        "outputId": "d6452c05-b3fe-48b1-9b5a-28417a3c844b"
      },
      "source": [
        "listdir(\"/content/gdrive/My Drive/project/BEASTskeleton/Anger/\")\n",
        "\n",
        "DATADIR = \"/content/gdrive/My Drive/project/BEASTskeleton/\"\n",
        "skeleton_data = []\n",
        "\n",
        "def create_skeleton_data():\n",
        "    for category in CATEGORIES:  # \n",
        "\n",
        "        path = os.path.join(DATADIR,category)  # create path to Emotion categories\n",
        "        class_num = CATEGORIES.index(category)  # get the classification  (0 or a 1). 0=dog 1=cat\n",
        "\n",
        "        for img in tqdm(os.listdir(path)):  # iterate over each image per dogs and cats\n",
        "            \n",
        "                #img_array = cv2.imread(os.path.join(path,img)) \n",
        "                img_array = cv2.imread(os.path.join(path,img) )  # convert to array\n",
        "                #img_array = cv2.imread(os.path.join(path,img) ,cv2.IMREAD_GRAYSCALE)  # convert to array\n",
        "                new_array = cv2.resize(img_array, (224, 224))  # resize to normalize data size\n",
        "                #new_array = cv2.resize(img_array, (138, 310))  # resize to normalize data size\n",
        "                \n",
        "                          \n",
        "                \n",
        "                # Read image\n",
        "                frame = new_array\n",
        "\n",
        "                # Specify the input image dimensions\n",
        "\n",
        "                frameCopy = np.copy(frame)\n",
        "                frameWidth = frame.shape[1]\n",
        "                frameHeight = frame.shape[0]\n",
        "                threshold = 0.1\n",
        "\n",
        "                # Prepare the frame to be fed to the network\n",
        "                inpBlob = cv2.dnn.blobFromImage(frame, 1.0 / 255, (inWidth, inHeight), (0, 0, 0), swapRB=False, crop=False)\n",
        "\n",
        "                # Set the prepared object as the input blob of the network\n",
        "                net.setInput(inpBlob)\n",
        "\n",
        "\n",
        "                output = net.forward()              \n",
        "                H = output.shape[2]\n",
        "                W = output.shape[3]\n",
        "                # Empty list to store the detected keypoints\n",
        "                points = []\n",
        "                for i in range(15):\n",
        "                    # confidence map of corresponding body's part.\n",
        "                    probMap = output[0, i, :, :]\n",
        "\n",
        "                    # Find global maxima of the probMap.\n",
        "                    minVal, prob, minLoc, point = cv2.minMaxLoc(probMap)\n",
        "\n",
        "                    # Scale the point to fit on the original image\n",
        "                    x = (frameWidth * point[0]) / W\n",
        "                    y = (frameHeight * point[1]) / H\n",
        "\n",
        "                    if prob > threshold :\n",
        "                        cv2.circle(frame, (int(x), int(y)), 5, (0, 255, 255), thickness=-1, lineType=cv2.FILLED)\n",
        "                        #cv2.putText(frame, \"{}\".format(i), (int(x), int(y)), cv2.FONT_HERSHEY_SIMPLEX, 0.5, (0, 0, 255), 3, lineType=cv2.LINE_AA)\n",
        "\n",
        "                        # Add the point to the list if the probability is greater than the threshold\n",
        "                        points.append((int(x), int(y)))\n",
        "                    else :\n",
        "                        points.append(None)\n",
        "\n",
        "\n",
        "                POSE_PAIRS = [[0,1], [1,2], [2,3], [3,4], [1,5], [5,6], [6,7], [1,14], [14,8], [8,9], [9,10], [14,11], [11,12], [12,13] ]\n",
        "\n",
        "                for pair in POSE_PAIRS:\n",
        "                    partA = pair[0]\n",
        "                    partB = pair[1]\n",
        "\n",
        "                    if points[partA] and points[partB]:\n",
        "                        cv2.line(frameCopy, points[partA], points[partB], (0, 255, 0), 3)\n",
        "\n",
        "            \n",
        "                \n",
        "                skeleton_data.append([frameCopy, class_num])  # add this to our training_data\n",
        "            #except Exception as e:  # in the interest in keeping the output clean...\n",
        "            #   pass\n",
        "            #except OSError as e:\n",
        "            #    print(\"OSErrroBad img most likely\", e, os.path.join(path,img))\n",
        "            #except Exception as e:\n",
        "            #    print(\"general exception\", e, os.path.join(path,img))\n",
        "\n",
        "create_skeleton_data()\n",
        "\n",
        "#print(len(training_data))\n",
        "\n"
      ],
      "execution_count": 116,
      "outputs": [
        {
          "output_type": "stream",
          "text": [
            "100%|██████████| 64/64 [02:03<00:00,  1.98s/it]\n",
            "100%|██████████| 67/67 [02:11<00:00,  1.96s/it]\n",
            "100%|██████████| 61/61 [01:59<00:00,  1.96s/it]\n",
            "100%|██████████| 62/62 [02:00<00:00,  2.00s/it]\n"
          ],
          "name": "stderr"
        }
      ]
    },
    {
      "cell_type": "code",
      "metadata": {
        "id": "6TJuvKXCdIR9",
        "colab_type": "code",
        "colab": {
          "base_uri": "https://localhost:8080/",
          "height": 35
        },
        "outputId": "d9d80344-23f3-4779-ed77-d535d1034d88"
      },
      "source": [
        "skeleton_data[149][1]"
      ],
      "execution_count": 147,
      "outputs": [
        {
          "output_type": "execute_result",
          "data": {
            "text/plain": [
              "2"
            ]
          },
          "metadata": {
            "tags": []
          },
          "execution_count": 147
        }
      ]
    },
    {
      "cell_type": "code",
      "metadata": {
        "id": "Na0aPdLrWRnf",
        "colab_type": "code",
        "colab": {}
      },
      "source": [
        "sk_Features = []\n",
        "sk_y = []\n",
        "\n",
        "for features,label in training_data:\n",
        "    sk_Features.append(features)\n",
        "    sk_y.append(label)\n",
        "\n",
        "    \n",
        "from numpy import array\n",
        "from numpy import argmax\n",
        "from keras.utils import to_categorical\n",
        "# define example\n",
        "\n",
        "sk_y = array(sk_y)\n",
        "sk_y = to_categorical(sk_y)"
      ],
      "execution_count": 0,
      "outputs": []
    },
    {
      "cell_type": "code",
      "metadata": {
        "id": "AgJa1x_xj93x",
        "colab_type": "code",
        "colab": {
          "base_uri": "https://localhost:8080/",
          "height": 35
        },
        "outputId": "7c6fa24a-a77d-4bcb-adf2-fe4490fd7e17"
      },
      "source": [
        "sk_y[0]"
      ],
      "execution_count": 166,
      "outputs": [
        {
          "output_type": "execute_result",
          "data": {
            "text/plain": [
              "array([0., 0., 1., 0.], dtype=float32)"
            ]
          },
          "metadata": {
            "tags": []
          },
          "execution_count": 166
        }
      ]
    },
    {
      "cell_type": "code",
      "metadata": {
        "id": "XVVU_g6nj90t",
        "colab_type": "code",
        "colab": {
          "base_uri": "https://localhost:8080/",
          "height": 908
        },
        "outputId": "17796f4e-0d06-412a-efdc-ed5f30498a0d"
      },
      "source": [
        "sk_X[0]"
      ],
      "execution_count": 151,
      "outputs": [
        {
          "output_type": "execute_result",
          "data": {
            "text/plain": [
              "array([[[134, 134, 134],\n",
              "        [135, 135, 135],\n",
              "        [135, 135, 135],\n",
              "        ...,\n",
              "        [ 89,  89,  89],\n",
              "        [ 89,  89,  89],\n",
              "        [ 88,  88,  88]],\n",
              "\n",
              "       [[123, 123, 123],\n",
              "        [124, 124, 124],\n",
              "        [124, 124, 124],\n",
              "        ...,\n",
              "        [ 94,  94,  94],\n",
              "        [ 94,  94,  94],\n",
              "        [ 94,  94,  94]],\n",
              "\n",
              "       [[104, 104, 104],\n",
              "        [103, 103, 103],\n",
              "        [103, 103, 103],\n",
              "        ...,\n",
              "        [120, 120, 120],\n",
              "        [119, 119, 119],\n",
              "        [118, 118, 118]],\n",
              "\n",
              "       ...,\n",
              "\n",
              "       [[197, 197, 197],\n",
              "        [197, 197, 197],\n",
              "        [199, 199, 199],\n",
              "        ...,\n",
              "        [161, 161, 161],\n",
              "        [161, 161, 161],\n",
              "        [160, 160, 160]],\n",
              "\n",
              "       [[197, 197, 197],\n",
              "        [197, 197, 197],\n",
              "        [198, 198, 198],\n",
              "        ...,\n",
              "        [161, 161, 161],\n",
              "        [161, 161, 161],\n",
              "        [160, 160, 160]],\n",
              "\n",
              "       [[198, 198, 198],\n",
              "        [196, 196, 196],\n",
              "        [196, 196, 196],\n",
              "        ...,\n",
              "        [161, 161, 161],\n",
              "        [159, 159, 159],\n",
              "        [160, 160, 160]]], dtype=uint8)"
            ]
          },
          "metadata": {
            "tags": []
          },
          "execution_count": 151
        }
      ]
    },
    {
      "cell_type": "code",
      "metadata": {
        "id": "oocwQvgMj9p3",
        "colab_type": "code",
        "colab": {}
      },
      "source": [
        ""
      ],
      "execution_count": 0,
      "outputs": []
    },
    {
      "cell_type": "code",
      "metadata": {
        "id": "bdxZXV6wiNbt",
        "colab_type": "code",
        "colab": {}
      },
      "source": [
        "sk_X = np.array(sk_Features).reshape(-3, 224, 224, 3)\n",
        "from sklearn.model_selection import train_test_split\n",
        "skX_train, skX_test, sky_train, sky_test = train_test_split(sk_X, sk_y, stratify=sk_y, test_size=0.25, random_state=42)"
      ],
      "execution_count": 0,
      "outputs": []
    },
    {
      "cell_type": "code",
      "metadata": {
        "id": "0qiKqMHIj1ZH",
        "colab_type": "code",
        "colab": {
          "base_uri": "https://localhost:8080/",
          "height": 326
        },
        "outputId": "ce1a3a75-a9b7-4b59-a58d-c391768c6259"
      },
      "source": [
        "model_copy = keras.models.clone_model(trainer)\n",
        "model_copy.summary()"
      ],
      "execution_count": 160,
      "outputs": [
        {
          "output_type": "stream",
          "text": [
            "_________________________________________________________________\n",
            "Layer (type)                 Output Shape              Param #   \n",
            "=================================================================\n",
            "vgg16 (Model)                (None, 7, 7, 512)         14714688  \n",
            "_________________________________________________________________\n",
            "flatten_1 (Flatten)          (None, 25088)             0         \n",
            "_________________________________________________________________\n",
            "dense_1 (Dense)              (None, 1024)              25691136  \n",
            "_________________________________________________________________\n",
            "dropout_1 (Dropout)          (None, 1024)              0         \n",
            "_________________________________________________________________\n",
            "dense_2 (Dense)              (None, 4)                 4100      \n",
            "=================================================================\n",
            "Total params: 40,409,924\n",
            "Trainable params: 32,774,660\n",
            "Non-trainable params: 7,635,264\n",
            "_________________________________________________________________\n"
          ],
          "name": "stdout"
        }
      ]
    },
    {
      "cell_type": "markdown",
      "metadata": {
        "id": "Qb_bRejLlVDQ",
        "colab_type": "text"
      },
      "source": [
        "##Fitting Data"
      ]
    },
    {
      "cell_type": "code",
      "metadata": {
        "id": "MIZm8hjWlBn4",
        "colab_type": "code",
        "colab": {
          "base_uri": "https://localhost:8080/",
          "height": 781
        },
        "outputId": "643c2eff-186a-444e-a369-ecd1a1c69662"
      },
      "source": [
        "model_copy.compile(loss='categorical_crossentropy',\n",
        "              optimizer=optimizers.RMSprop(lr=1e-4),\n",
        "              metrics=['acc'])\n",
        "\n",
        "datagenx = ImageDataGenerator(\n",
        "    featurewise_center=True,\n",
        "    featurewise_std_normalization=True,\n",
        "    rotation_range=20,\n",
        "    width_shift_range=0.2,\n",
        "    height_shift_range=0.2,\n",
        "    horizontal_flip=True)\n",
        "\n",
        "\n",
        "# compute quantities required for featurewise normalization\n",
        "# (std, mean, and principal components if ZCA whitening is applied)\n",
        "datagenx.fit(skX_train)\n",
        "\n",
        "# fits the model on batches with real-time data augmentation:\n",
        "\n",
        "model_copy.fit_generator(datagenx.flow(skX_train, sky_train, batch_size=32),\n",
        "                    steps_per_epoch=len(skX_train) / 32, epochs=20)\n",
        "\n",
        "test_score = model_copy.evaluate(skX_test, sky_test)\n",
        "print('Test loss {:.4f}, accuracy {:.2f}%'.format(test_score[0], test_score[1] * 100))"
      ],
      "execution_count": 168,
      "outputs": [
        {
          "output_type": "stream",
          "text": [
            "Epoch 1/20\n",
            "6/5 [==============================] - 128s 21s/step - loss: 1.4074 - acc: 0.2307\n",
            "Epoch 2/20\n",
            "6/5 [==============================] - 123s 20s/step - loss: 1.3899 - acc: 0.2353\n",
            "Epoch 3/20\n",
            "6/5 [==============================] - 122s 20s/step - loss: 1.3880 - acc: 0.2162\n",
            "Epoch 4/20\n",
            "6/5 [==============================] - 122s 20s/step - loss: 1.3884 - acc: 0.2534\n",
            "Epoch 5/20\n",
            "6/5 [==============================] - 123s 20s/step - loss: 1.3867 - acc: 0.3009\n",
            "Epoch 6/20\n",
            "6/5 [==============================] - 122s 20s/step - loss: 1.3876 - acc: 0.2629\n",
            "Epoch 7/20\n",
            "6/5 [==============================] - 122s 20s/step - loss: 1.3884 - acc: 0.2417\n",
            "Epoch 8/20\n",
            "6/5 [==============================] - 122s 20s/step - loss: 1.3875 - acc: 0.2586\n",
            "Epoch 9/20\n",
            "6/5 [==============================] - 122s 20s/step - loss: 1.3915 - acc: 0.2012\n",
            "Epoch 10/20\n",
            "6/5 [==============================] - 123s 20s/step - loss: 1.3890 - acc: 0.2481\n",
            "Epoch 11/20\n",
            "6/5 [==============================] - 122s 20s/step - loss: 1.3900 - acc: 0.2316\n",
            "Epoch 12/20\n",
            "6/5 [==============================] - 122s 20s/step - loss: 1.3881 - acc: 0.2534\n",
            "Epoch 13/20\n",
            "6/5 [==============================] - 122s 20s/step - loss: 1.3905 - acc: 0.2678\n",
            "Epoch 14/20\n",
            "6/5 [==============================] - 122s 20s/step - loss: 1.3914 - acc: 0.2156\n",
            "Epoch 15/20\n",
            "6/5 [==============================] - 122s 20s/step - loss: 1.3864 - acc: 0.2261\n",
            "Epoch 16/20\n",
            "6/5 [==============================] - 122s 20s/step - loss: 1.3900 - acc: 0.2908\n",
            "Epoch 17/20\n",
            "6/5 [==============================] - 123s 20s/step - loss: 1.3836 - acc: 0.2478\n",
            "Epoch 18/20\n",
            "6/5 [==============================] - 123s 20s/step - loss: 1.3883 - acc: 0.2368\n",
            "Epoch 19/20\n",
            "6/5 [==============================] - 123s 20s/step - loss: 1.3847 - acc: 0.2782\n",
            "Epoch 20/20\n",
            "6/5 [==============================] - 123s 20s/step - loss: 1.3890 - acc: 0.2620\n",
            "64/64 [==============================] - 32s 501ms/step\n",
            "Test loss 12.3404, accuracy 23.44%\n"
          ],
          "name": "stdout"
        }
      ]
    },
    {
      "cell_type": "code",
      "metadata": {
        "id": "c03CvpjzmCGM",
        "colab_type": "code",
        "colab": {}
      },
      "source": [
        ""
      ],
      "execution_count": 0,
      "outputs": []
    }
  ]
}