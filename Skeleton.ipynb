{
  "nbformat": 4,
  "nbformat_minor": 0,
  "metadata": {
    "colab": {
      "name": "Skeleton.ipynb",
      "version": "0.3.2",
      "provenance": [],
      "collapsed_sections": [],
      "include_colab_link": true
    },
    "kernelspec": {
      "name": "python3",
      "display_name": "Python 3"
    },
    "accelerator": "GPU"
  },
  "cells": [
    {
      "cell_type": "markdown",
      "metadata": {
        "id": "view-in-github",
        "colab_type": "text"
      },
      "source": [
        "<a href=\"https://colab.research.google.com/github/Torough/BEASTDL/blob/master/Skeleton.ipynb\" target=\"_parent\"><img src=\"https://colab.research.google.com/assets/colab-badge.svg\" alt=\"Open In Colab\"/></a>"
      ]
    },
    {
      "cell_type": "code",
      "metadata": {
        "id": "_mW1_88-m6kB",
        "colab_type": "code",
        "outputId": "7e3dd0cb-40b4-4edf-df7a-45b8c6b347a5",
        "colab": {
          "base_uri": "https://localhost:8080/",
          "height": 122
        }
      },
      "source": [
        "from google.colab import drive\n",
        "drive.mount('/content/gdrive'\n",
        "           )"
      ],
      "execution_count": 0,
      "outputs": [
        {
          "output_type": "stream",
          "text": [
            "Go to this URL in a browser: https://accounts.google.com/o/oauth2/auth?client_id=947318989803-6bn6qk8qdgf4n4g3pfee6491hc0brc4i.apps.googleusercontent.com&redirect_uri=urn%3Aietf%3Awg%3Aoauth%3A2.0%3Aoob&scope=email%20https%3A%2F%2Fwww.googleapis.com%2Fauth%2Fdocs.test%20https%3A%2F%2Fwww.googleapis.com%2Fauth%2Fdrive%20https%3A%2F%2Fwww.googleapis.com%2Fauth%2Fdrive.photos.readonly%20https%3A%2F%2Fwww.googleapis.com%2Fauth%2Fpeopleapi.readonly&response_type=code\n",
            "\n",
            "Enter your authorization code:\n",
            "··········\n",
            "Mounted at /content/gdrive\n"
          ],
          "name": "stdout"
        }
      ]
    },
    {
      "cell_type": "code",
      "metadata": {
        "id": "iOUHqvvVm-E-",
        "colab_type": "code",
        "outputId": "277e5445-d2b5-4c3b-86e8-56d401a8d104",
        "colab": {
          "base_uri": "https://localhost:8080/",
          "height": 34
        }
      },
      "source": [
        "import os\n",
        "import numpy as np\n",
        "import seaborn as sns\n",
        "import matplotlib.pyplot as plt\n",
        "import sys\n",
        "import sklearn\n",
        "\n",
        "import random\n",
        "import keras\n",
        "import sys, cv2, glob, os, time\n",
        "from tqdm import tqdm\n",
        "from sklearn import metrics, svm, metrics\n",
        "\n",
        "from sklearn.model_selection import StratifiedKFold\n",
        "from sklearn.metrics import accuracy_score\n",
        "from keras import backend as K\n",
        "from keras import models\n",
        "from keras import layers\n",
        "from keras import optimizers\n",
        "from keras.models import Sequential, Model\n",
        "from numpy import array\n",
        "from numpy import argmax\n",
        "from keras.utils import to_categorical\n",
        "from keras.layers import Conv2D, Dense, Flatten, Input, BatchNormalization, Activation, Dropout\n",
        "\n",
        "from keras.callbacks import ModelCheckpoint, EarlyStopping, TensorBoard\n",
        "\n",
        "\n",
        "from keras.layers import  MaxPooling2D, GlobalAveragePooling2D\n",
        "from keras.optimizers import Adam\n",
        "from keras.applications.vgg16 import VGG16\n",
        "from keras.applications.vgg19 import VGG19\n",
        "from keras.applications.resnet50 import ResNet50\n",
        "from keras.applications.mobilenet import MobileNet\n",
        "\n",
        "\n",
        "from os import listdir\n",
        "from PIL import Image\n",
        "from keras.preprocessing.image import load_img, img_to_array, ImageDataGenerator\n",
        "import copy"
      ],
      "execution_count": 0,
      "outputs": [
        {
          "output_type": "stream",
          "text": [
            "Using TensorFlow backend.\n"
          ],
          "name": "stderr"
        }
      ]
    },
    {
      "cell_type": "code",
      "metadata": {
        "id": "XRpRRCzWnNKH",
        "colab_type": "code",
        "outputId": "e6bb9000-54a2-41c7-de70-fc2f42cfac01",
        "colab": {
          "base_uri": "https://localhost:8080/",
          "height": 85
        }
      },
      "source": [
        "\n",
        "\n",
        "\n",
        "\n",
        "\n",
        "protoFile =    \"/content/gdrive/My Drive/project/openpose-master/models/pose/mpi/pose_deploy_linevec_faster_4_stages.prototxt\"\n",
        "weightsFile =  \"/content/gdrive/My Drive/project/openpose-master/pose_iter_160000.caffemodel\"\n",
        " \n",
        "# Read the network into Memory\n",
        "net = cv2.dnn.readNetFromCaffe(protoFile, weightsFile)\n",
        "\n",
        "\n",
        "\n",
        "\n",
        "\n",
        "CATEGORIES = [\"Anger\", \"Fear\", \"Happy\", \"Sad\"]\n",
        "\n",
        "DATADIR = \"/content/gdrive/My Drive/project/BEASTskeleton/\"\n",
        "skeleton_data = []\n",
        "inWidth = 138\n",
        "inHeight = 310 \n",
        "\n",
        "def create_skeleton_data():\n",
        "    for category in CATEGORIES:  # \n",
        "\n",
        "        path = os.path.join(DATADIR,category)  # create path to Emotion categories\n",
        "        class_num = CATEGORIES.index(category)  # get the classification  (0 or a 1). 0=dog 1=cat\n",
        "\n",
        "        for img in tqdm(os.listdir(path)):  # iterate over each image per dogs and cats\n",
        "            \n",
        "                #img_array = cv2.imread(os.path.join(path,img)) \n",
        "                img_array = cv2.imread(os.path.join(path,img) )  # convert to array\n",
        "                #img_array = cv2.imread(os.path.join(path,img) ,cv2.IMREAD_GRAYSCALE)  # convert to array\n",
        "                new_array = cv2.resize(img_array, (224, 224))  # resize to normalize data size\n",
        "                #new_array = cv2.resize(img_array, (138, 310))  # resize to normalize data size\n",
        "                \n",
        "                          \n",
        "                \n",
        "                # Read image\n",
        "                frame = new_array\n",
        "\n",
        "                # Specify the input image dimensions\n",
        "\n",
        "                frameCopy = np.copy(frame)\n",
        "                frameWidth = frame.shape[1]\n",
        "                frameHeight = frame.shape[0]\n",
        "                threshold = 0.1\n",
        "\n",
        "                # Prepare the frame to be fed to the network\n",
        "                inpBlob = cv2.dnn.blobFromImage(frame, 1.0 / 255, (inWidth, inHeight), (0, 0, 0), swapRB=False, crop=False)\n",
        "\n",
        "                # Set the prepared object as the input blob of the network\n",
        "                net.setInput(inpBlob)\n",
        "\n",
        "\n",
        "                output = net.forward()              \n",
        "                H = output.shape[2]\n",
        "                W = output.shape[3]\n",
        "                # Empty list to store the detected keypoints\n",
        "                points = []\n",
        "                for i in range(15):\n",
        "                    # confidence map of corresponding body's part.\n",
        "                    probMap = output[0, i, :, :]\n",
        "\n",
        "                    # Find global maxima of the probMap.\n",
        "                    minVal, prob, minLoc, point = cv2.minMaxLoc(probMap)\n",
        "\n",
        "                    # Scale the point to fit on the original image\n",
        "                    x = (frameWidth * point[0]) / W\n",
        "                    y = (frameHeight * point[1]) / H\n",
        "\n",
        "                    if prob > threshold :\n",
        "                        cv2.circle(frame, (int(x), int(y)), 5, (0, 255, 255), thickness=-1, lineType=cv2.FILLED)\n",
        "                        #cv2.putText(frame, \"{}\".format(i), (int(x), int(y)), cv2.FONT_HERSHEY_SIMPLEX, 0.5, (0, 0, 255), 3, lineType=cv2.LINE_AA)\n",
        "\n",
        "                        # Add the point to the list if the probability is greater than the threshold\n",
        "                        points.append((int(x), int(y)))\n",
        "                    else :\n",
        "                        points.append(None)\n",
        "\n",
        "\n",
        "                POSE_PAIRS = [[0,1], [1,2], [2,3], [3,4], [1,5], [5,6], [6,7], [1,14], [14,8], [8,9], [9,10], [14,11], [11,12], [12,13] ]\n",
        "\n",
        "                for pair in POSE_PAIRS:\n",
        "                    partA = pair[0]\n",
        "                    partB = pair[1]\n",
        "\n",
        "                    if points[partA] and points[partB]:\n",
        "                        cv2.line(frameCopy, points[partA], points[partB], (0, 255, 0), 3)\n",
        "\n",
        "            \n",
        "                \n",
        "                skeleton_data.append([frameCopy, class_num])  # add this to our training_data\n",
        "            #except Exception as e:  # in the interest in keeping the output clean...\n",
        "            #   pass\n",
        "            #except OSError as e:\n",
        "            #    print(\"OSErrroBad img most likely\", e, os.path.join(path,img))\n",
        "            #except Exception as e:\n",
        "            #    print(\"general exception\", e, os.path.join(path,img))\n",
        "\n",
        "create_skeleton_data()\n",
        "\n",
        "#print(len(training_data))\n"
      ],
      "execution_count": 0,
      "outputs": [
        {
          "output_type": "stream",
          "text": [
            "100%|██████████| 64/64 [02:09<00:00,  2.01s/it]\n",
            "100%|██████████| 67/67 [02:14<00:00,  2.01s/it]\n",
            "100%|██████████| 61/61 [02:03<00:00,  2.03s/it]\n",
            "100%|██████████| 62/62 [02:04<00:00,  2.02s/it]\n"
          ],
          "name": "stderr"
        }
      ]
    },
    {
      "cell_type": "code",
      "metadata": {
        "id": "N5UYcTGqnhDu",
        "colab_type": "code",
        "outputId": "5ec8d864-b938-4d23-b8e9-0f9a3ccdfad7",
        "colab": {
          "base_uri": "https://localhost:8080/",
          "height": 340
        }
      },
      "source": [
        "this = VGG16(weights='imagenet',include_top=False, input_shape=(224, 224, 3))\n",
        "\n",
        "for layer in this.layers[:-4]:\n",
        "    layer.trainable = False\n",
        " \n",
        "# Check the trainable status of the individual layers\n",
        "for layer in this.layers:\n",
        "    print(layer, layer.trainable)\n",
        "    \n",
        "\n",
        "# Create the model\n",
        "trainer = models.Sequential()\n",
        " \n",
        "# Add the vgg convolutional base model\n",
        "trainer.add(this)\n",
        " \n",
        "# Add new layers\n",
        "trainer.add(layers.Flatten())\n",
        "trainer.add(layers.Dense(1024, activation='relu'))\n",
        "trainer.add(layers.Dropout(0.5))\n",
        "trainer.add(layers.Dense(4, activation='softmax'))\n",
        "\n",
        "\n",
        "\n",
        "trainer.compile(loss='categorical_crossentropy',\n",
        "              optimizer=optimizers.RMSprop(lr=1e-4),\n",
        "              metrics=['acc'])\n"
      ],
      "execution_count": 0,
      "outputs": [
        {
          "output_type": "stream",
          "text": [
            "<keras.engine.input_layer.InputLayer object at 0x7f752a33e5c0> False\n",
            "<keras.layers.convolutional.Conv2D object at 0x7f752a33e470> False\n",
            "<keras.layers.convolutional.Conv2D object at 0x7f752a33eb70> False\n",
            "<keras.layers.pooling.MaxPooling2D object at 0x7f752a2ecbe0> False\n",
            "<keras.layers.convolutional.Conv2D object at 0x7f752a2ec630> False\n",
            "<keras.layers.convolutional.Conv2D object at 0x7f752a30db38> False\n",
            "<keras.layers.pooling.MaxPooling2D object at 0x7f752a320da0> False\n",
            "<keras.layers.convolutional.Conv2D object at 0x7f752a320400> False\n",
            "<keras.layers.convolutional.Conv2D object at 0x7f752a2d03c8> False\n",
            "<keras.layers.convolutional.Conv2D object at 0x7f752a2637b8> False\n",
            "<keras.layers.pooling.MaxPooling2D object at 0x7f752a2796d8> False\n",
            "<keras.layers.convolutional.Conv2D object at 0x7f752a279828> False\n",
            "<keras.layers.convolutional.Conv2D object at 0x7f752a228c88> False\n",
            "<keras.layers.convolutional.Conv2D object at 0x7f752a240f98> False\n",
            "<keras.layers.pooling.MaxPooling2D object at 0x7f752a1ef1d0> False\n",
            "<keras.layers.convolutional.Conv2D object at 0x7f752a254ac8> True\n",
            "<keras.layers.convolutional.Conv2D object at 0x7f752a207eb8> True\n",
            "<keras.layers.convolutional.Conv2D object at 0x7f752a21c978> True\n",
            "<keras.layers.pooling.MaxPooling2D object at 0x7f752a1b5f60> True\n"
          ],
          "name": "stdout"
        }
      ]
    },
    {
      "cell_type": "code",
      "metadata": {
        "id": "mGDNaUznn4zg",
        "colab_type": "code",
        "colab": {}
      },
      "source": [
        "def aug(model):\n",
        "  History = model.fit_generator(train_gen,                                \n",
        "                    steps_per_epoch=len(X_train) / 32, validation_data = val_datagen, \n",
        "                    validation_steps=32, epochs=30)\n",
        "  return History"
      ],
      "execution_count": 0,
      "outputs": []
    },
    {
      "cell_type": "code",
      "metadata": {
        "id": "9TSnaCVbqDLl",
        "colab_type": "code",
        "colab": {}
      },
      "source": [
        "def no_aug(model):\n",
        "  History = model.fit( X_train,y_train, validation_split=0.3, epochs=30)\n",
        "  \n",
        "  return History"
      ],
      "execution_count": 0,
      "outputs": []
    },
    {
      "cell_type": "code",
      "metadata": {
        "id": "6gdnG7qXqFSy",
        "colab_type": "code",
        "colab": {}
      },
      "source": [
        "def plot_confusion_matrix(classifier):\n",
        "  predictions = classifier.predict(X_test)\n",
        "  \n",
        "  matrix = metrics.confusion_matrix(y_test.argmax(axis=1), predictions.argmax(axis=1)) \n",
        "  return sns.heatmap(matrix,annot=True,fmt='.5g')"
      ],
      "execution_count": 0,
      "outputs": []
    },
    {
      "cell_type": "code",
      "metadata": {
        "id": "xq1eUvP3qHQ6",
        "colab_type": "code",
        "colab": {}
      },
      "source": [
        "def scores(classifier):\n",
        "  predictions = classifier.predict(X_test)\n",
        "  \n",
        "  test_score = classifier.evaluate(X_test, y_test)\n",
        "  print('Test loss {:.4f}, accuracy {:.2f}%'.format(test_score[0], test_score[1] * 100))\n",
        "  \n",
        "  print('=========================================================================================')\n",
        "  \n",
        "  print(\"Classification report for classifier %s:\\n%s\\n\"\n",
        "      % (classifier, metrics.classification_report(y_test.argmax(axis=1), predictions.argmax(axis=1))))\n",
        "  \n",
        "  print('=========================================================================================')\n",
        "  \n",
        "  matrix = metrics.confusion_matrix(y_test.argmax(axis=1), predictions.argmax(axis=1))\n",
        "  #print(\"Confusion matrix:\\n%s\" % metrics.confusion_matrix(y_test, predictions))\n",
        "  print(matrix)"
      ],
      "execution_count": 0,
      "outputs": []
    },
    {
      "cell_type": "code",
      "metadata": {
        "id": "ACZyOb_YqJUq",
        "colab_type": "code",
        "colab": {}
      },
      "source": [
        "def graph(history):\n",
        "  plt.plot(history.history['acc'])\n",
        "  plt.plot(history.history['val_acc'])\n",
        "  plt.title('model accuracy')\n",
        "  plt.ylabel('accuracy')\n",
        "  plt.xlabel('epoch')\n",
        "  plt.legend(['train', 'test'], loc='upper left')\n",
        "  plt.show()\n",
        "  # summarize history for loss\n",
        "  plt.plot(history.history['loss'])\n",
        "  plt.plot(history.history['val_loss'])\n",
        "  plt.title('model loss')\n",
        "  plt.ylabel('loss')\n",
        "  plt.xlabel('epoch')\n",
        "  plt.legend(['train', 'test'], loc='upper left')\n",
        "  plt.show()"
      ],
      "execution_count": 0,
      "outputs": []
    },
    {
      "cell_type": "code",
      "metadata": {
        "id": "GYyvBeayy949",
        "colab_type": "code",
        "colab": {}
      },
      "source": [
        "datagen = ImageDataGenerator(\n",
        "    validation_split=0.2,\n",
        "    featurewise_center=True,\n",
        "    featurewise_std_normalization=True,\n",
        "    rotation_range=20,\n",
        "    width_shift_range=0.2,\n",
        "    height_shift_range=0.2,\n",
        "    horizontal_flip=True)\n",
        "\n",
        "train_gen = datagen.flow(\n",
        "    x=X_train, y=y_train,\n",
        "    subset='training',\n",
        "    #class_mode = 'categorical'\n",
        "    \n",
        "                        )\n",
        " \n",
        "val_datagen = datagen.flow(\n",
        "    x=X_train, y=y_train,\n",
        "    subset='validation',\n",
        "    #class_mode = 'categorical'\n",
        "                        )\n",
        "   \n",
        "datagen.fit(X_train)"
      ],
      "execution_count": 0,
      "outputs": []
    },
    {
      "cell_type": "code",
      "metadata": {
        "id": "lwVrg7lqqNRr",
        "colab_type": "code",
        "colab": {}
      },
      "source": [
        "Features = []\n",
        "y = []\n",
        "\n",
        "for features,label in skeleton_data:\n",
        "    Features.append(features)\n",
        "    y.append(label)\n",
        "    \n",
        "    \n",
        "#Resizing Image Data\n",
        "X = np.array(Features).reshape(-3,224, 224 , 3)\n",
        "#one Hot Encoding\n",
        "y = to_categorical(y)  "
      ],
      "execution_count": 0,
      "outputs": []
    },
    {
      "cell_type": "code",
      "metadata": {
        "id": "EPp3gO9GqymK",
        "colab_type": "code",
        "colab": {}
      },
      "source": [
        "X = np.array(Features)"
      ],
      "execution_count": 0,
      "outputs": []
    },
    {
      "cell_type": "code",
      "metadata": {
        "id": "2k0A7FJJqfMM",
        "colab_type": "code",
        "outputId": "161fcb58-31ee-4b9e-8c60-a9491e11fa07",
        "colab": {
          "base_uri": "https://localhost:8080/",
          "height": 34
        }
      },
      "source": [
        "X.shape"
      ],
      "execution_count": 0,
      "outputs": [
        {
          "output_type": "execute_result",
          "data": {
            "text/plain": [
              "(254, 310, 138, 3)"
            ]
          },
          "metadata": {
            "tags": []
          },
          "execution_count": 24
        }
      ]
    },
    {
      "cell_type": "code",
      "metadata": {
        "id": "4N8Rm1Nps59i",
        "colab_type": "code",
        "colab": {}
      },
      "source": [
        "from sklearn.model_selection import train_test_split\n",
        "X_train, X_test, y_train, y_test = train_test_split(X, y, stratify=y, test_size=0.25, random_state=42)\n"
      ],
      "execution_count": 0,
      "outputs": []
    },
    {
      "cell_type": "code",
      "metadata": {
        "id": "pZElXot3zIMj",
        "colab_type": "code",
        "outputId": "ecd08303-3e95-4b51-b9ec-a17e3a8fdcd1",
        "colab": {
          "base_uri": "https://localhost:8080/",
          "height": 1000
        }
      },
      "source": [
        "Skeleton_aug = aug(trainer)"
      ],
      "execution_count": 0,
      "outputs": [
        {
          "output_type": "stream",
          "text": [
            "W0818 04:00:07.603889 140144055474048 deprecation.py:323] From /usr/local/lib/python3.6/dist-packages/tensorflow/python/ops/math_grad.py:1250: add_dispatch_support.<locals>.wrapper (from tensorflow.python.ops.array_ops) is deprecated and will be removed in a future version.\n",
            "Instructions for updating:\n",
            "Use tf.where in 2.0, which has the same broadcast rule as np.where\n"
          ],
          "name": "stderr"
        },
        {
          "output_type": "stream",
          "text": [
            "Epoch 1/30\n",
            "6/5 [==============================] - 22s 4s/step - loss: 2.6021 - acc: 0.2949 - val_loss: 1.2535 - val_acc: 0.3766\n",
            "Epoch 2/30\n",
            "6/5 [==============================] - 10s 2s/step - loss: 1.2621 - acc: 0.3975 - val_loss: 1.3178 - val_acc: 0.3224\n",
            "Epoch 3/30\n",
            "6/5 [==============================] - 10s 2s/step - loss: 1.1101 - acc: 0.4790 - val_loss: 0.8664 - val_acc: 0.6579\n",
            "Epoch 4/30\n",
            "6/5 [==============================] - 10s 2s/step - loss: 0.9005 - acc: 0.6048 - val_loss: 0.8551 - val_acc: 0.6628\n",
            "Epoch 5/30\n",
            "6/5 [==============================] - 10s 2s/step - loss: 0.9069 - acc: 0.6090 - val_loss: 0.6618 - val_acc: 0.7286\n",
            "Epoch 6/30\n",
            "6/5 [==============================] - 10s 2s/step - loss: 0.6351 - acc: 0.7096 - val_loss: 0.5143 - val_acc: 0.8010\n",
            "Epoch 7/30\n",
            "6/5 [==============================] - 10s 2s/step - loss: 0.6837 - acc: 0.7066 - val_loss: 0.5006 - val_acc: 0.8043\n",
            "Epoch 8/30\n",
            "6/5 [==============================] - 10s 2s/step - loss: 0.4616 - acc: 0.8136 - val_loss: 1.2044 - val_acc: 0.5049\n",
            "Epoch 9/30\n",
            "6/5 [==============================] - 10s 2s/step - loss: 0.6146 - acc: 0.7612 - val_loss: 0.6557 - val_acc: 0.7220\n",
            "Epoch 10/30\n",
            "6/5 [==============================] - 10s 2s/step - loss: 0.4682 - acc: 0.8133 - val_loss: 0.4241 - val_acc: 0.8224\n",
            "Epoch 11/30\n",
            "6/5 [==============================] - 10s 2s/step - loss: 0.4684 - acc: 0.8181 - val_loss: 0.5436 - val_acc: 0.7681\n",
            "Epoch 12/30\n",
            "6/5 [==============================] - 10s 2s/step - loss: 0.3442 - acc: 0.8608 - val_loss: 0.4573 - val_acc: 0.8388\n",
            "Epoch 13/30\n",
            "6/5 [==============================] - 10s 2s/step - loss: 0.2484 - acc: 0.8817 - val_loss: 0.3557 - val_acc: 0.8487\n",
            "Epoch 14/30\n",
            "6/5 [==============================] - 10s 2s/step - loss: 0.3367 - acc: 0.8450 - val_loss: 0.6539 - val_acc: 0.7615\n",
            "Epoch 15/30\n",
            "6/5 [==============================] - 10s 2s/step - loss: 0.2669 - acc: 0.9067 - val_loss: 0.6500 - val_acc: 0.8026\n",
            "Epoch 16/30\n",
            "6/5 [==============================] - 10s 2s/step - loss: 0.3489 - acc: 0.8735 - val_loss: 0.5726 - val_acc: 0.7714\n",
            "Epoch 17/30\n",
            "6/5 [==============================] - 10s 2s/step - loss: 0.5586 - acc: 0.8151 - val_loss: 0.4191 - val_acc: 0.8224\n",
            "Epoch 18/30\n",
            "6/5 [==============================] - 10s 2s/step - loss: 0.2216 - acc: 0.9169 - val_loss: 0.4048 - val_acc: 0.8487\n",
            "Epoch 19/30\n",
            "6/5 [==============================] - 10s 2s/step - loss: 0.1849 - acc: 0.9161 - val_loss: 1.5323 - val_acc: 0.7385\n",
            "Epoch 20/30\n",
            "6/5 [==============================] - 10s 2s/step - loss: 0.4031 - acc: 0.8479 - val_loss: 0.4383 - val_acc: 0.8355\n",
            "Epoch 21/30\n",
            "6/5 [==============================] - 10s 2s/step - loss: 0.1747 - acc: 0.9319 - val_loss: 0.4253 - val_acc: 0.8405\n",
            "Epoch 22/30\n",
            "6/5 [==============================] - 10s 2s/step - loss: 0.1006 - acc: 0.9671 - val_loss: 0.4865 - val_acc: 0.8586\n",
            "Epoch 23/30\n",
            "6/5 [==============================] - 10s 2s/step - loss: 0.1512 - acc: 0.9446 - val_loss: 0.4707 - val_acc: 0.8141\n",
            "Epoch 24/30\n",
            "6/5 [==============================] - 10s 2s/step - loss: 0.2629 - acc: 0.9109 - val_loss: 0.5117 - val_acc: 0.8207\n",
            "Epoch 25/30\n",
            "6/5 [==============================] - 10s 2s/step - loss: 0.1635 - acc: 0.9504 - val_loss: 0.3849 - val_acc: 0.8520\n",
            "Epoch 26/30\n",
            "6/5 [==============================] - 10s 2s/step - loss: 0.0884 - acc: 0.9738 - val_loss: 0.6887 - val_acc: 0.7714\n",
            "Epoch 27/30\n",
            "6/5 [==============================] - 10s 2s/step - loss: 0.1815 - acc: 0.9326 - val_loss: 0.4235 - val_acc: 0.8668\n",
            "Epoch 28/30\n",
            "6/5 [==============================] - 10s 2s/step - loss: 0.0529 - acc: 0.9723 - val_loss: 0.4907 - val_acc: 0.8717\n",
            "Epoch 29/30\n",
            "6/5 [==============================] - 10s 2s/step - loss: 0.3680 - acc: 0.9042 - val_loss: 0.4569 - val_acc: 0.8569\n",
            "Epoch 30/30\n",
            "6/5 [==============================] - 10s 2s/step - loss: 0.0884 - acc: 0.9880 - val_loss: 0.4731 - val_acc: 0.8520\n"
          ],
          "name": "stdout"
        }
      ]
    },
    {
      "cell_type": "code",
      "metadata": {
        "id": "7NaSp3O8zJXy",
        "colab_type": "code",
        "outputId": "cb57a1c8-cc82-4157-bd06-63b3c3deaee3",
        "colab": {
          "base_uri": "https://localhost:8080/",
          "height": 626
        }
      },
      "source": [
        "plot_confusion_matrix(trainer)\n",
        "\n",
        "scores(trainer)"
      ],
      "execution_count": 0,
      "outputs": [
        {
          "output_type": "stream",
          "text": [
            "64/64 [==============================] - 1s 9ms/step\n",
            "Test loss 1.5784, accuracy 89.06%\n",
            "=========================================================================================\n",
            "Classification report for classifier <keras.engine.sequential.Sequential object at 0x7f75779554a8>:\n",
            "              precision    recall  f1-score   support\n",
            "\n",
            "           0       0.76      1.00      0.86        16\n",
            "           1       1.00      0.59      0.74        17\n",
            "           2       0.88      1.00      0.94        15\n",
            "           3       1.00      1.00      1.00        16\n",
            "\n",
            "    accuracy                           0.89        64\n",
            "   macro avg       0.91      0.90      0.89        64\n",
            "weighted avg       0.91      0.89      0.88        64\n",
            "\n",
            "\n",
            "=========================================================================================\n",
            "[[16  0  0  0]\n",
            " [ 5 10  2  0]\n",
            " [ 0  0 15  0]\n",
            " [ 0  0  0 16]]\n"
          ],
          "name": "stdout"
        },
        {
          "output_type": "display_data",
          "data": {
            "image/png": "[encoded data removed]",
            "text/plain": [
              "<Figure size 432x288 with 2 Axes>"
            ]
          },
          "metadata": {
            "tags": []
          }
        }
      ]
    },
    {
      "cell_type": "code",
      "metadata": {
        "id": "7kRD85Cu5T7E",
        "colab_type": "code",
        "outputId": "bdf6e166-7cd9-48c7-f883-485e098d8bce",
        "colab": {
          "base_uri": "https://localhost:8080/",
          "height": 573
        }
      },
      "source": [
        "graph(Skeleton_aug)"
      ],
      "execution_count": 0,
      "outputs": [
        {
          "output_type": "display_data",
          "data": {
            "image/png": "[encoded data removed]",
            "text/plain": [
              "<Figure size 432x288 with 1 Axes>"
            ]
          },
          "metadata": {
            "tags": []
          }
        },
        {
          "output_type": "display_data",
          "data": {
            "image/png": "[encoded data removed]",
            "text/plain": [
              "<Figure size 432x288 with 1 Axes>"
            ]
          },
          "metadata": {
            "tags": []
          }
        }
      ]
    },
    {
      "cell_type": "code",
      "metadata": {
        "id": "8HyWEPY-5Z6Q",
        "colab_type": "code",
        "colab": {}
      },
      "source": [
        ""
      ],
      "execution_count": 0,
      "outputs": []
    },
    {
      "cell_type": "code",
      "metadata": {
        "id": "n7yjOkXG57zr",
        "colab_type": "code",
        "colab": {}
      },
      "source": [
        ""
      ],
      "execution_count": 0,
      "outputs": []
    },
    {
      "cell_type": "code",
      "metadata": {
        "id": "nDy53o0j57Za",
        "colab_type": "code",
        "outputId": "96b099a8-ccc5-4fbc-aad1-38ae7ec544a6",
        "colab": {
          "base_uri": "https://localhost:8080/",
          "height": 1000
        }
      },
      "source": [
        "Skeleton_naug = no_aug(trainer)"
      ],
      "execution_count": 0,
      "outputs": [
        {
          "output_type": "stream",
          "text": [
            "Train on 133 samples, validate on 57 samples\n",
            "Epoch 1/30\n",
            "133/133 [==============================] - 6s 49ms/step - loss: 11.9990 - acc: 0.2256 - val_loss: 13.8559 - val_acc: 0.1404\n",
            "Epoch 2/30\n",
            "133/133 [==============================] - 2s 16ms/step - loss: 10.2904 - acc: 0.3459 - val_loss: 8.2004 - val_acc: 0.4912\n",
            "Epoch 3/30\n",
            "133/133 [==============================] - 2s 16ms/step - loss: 11.0344 - acc: 0.3008 - val_loss: 12.6529 - val_acc: 0.1930\n",
            "Epoch 4/30\n",
            "133/133 [==============================] - 2s 16ms/step - loss: 10.4140 - acc: 0.3383 - val_loss: 11.2624 - val_acc: 0.2807\n",
            "Epoch 5/30\n",
            "133/133 [==============================] - 2s 16ms/step - loss: 10.7973 - acc: 0.3158 - val_loss: 11.6282 - val_acc: 0.2456\n",
            "Epoch 6/30\n",
            "133/133 [==============================] - 2s 16ms/step - loss: 10.4633 - acc: 0.3233 - val_loss: 10.4411 - val_acc: 0.3333\n",
            "Epoch 7/30\n",
            "133/133 [==============================] - 2s 16ms/step - loss: 10.0780 - acc: 0.3684 - val_loss: 10.4870 - val_acc: 0.2982\n",
            "Epoch 8/30\n",
            "133/133 [==============================] - 2s 16ms/step - loss: 9.7654 - acc: 0.3759 - val_loss: 11.5608 - val_acc: 0.1930\n",
            "Epoch 9/30\n",
            "133/133 [==============================] - 2s 16ms/step - loss: 10.0140 - acc: 0.3609 - val_loss: 10.1418 - val_acc: 0.3333\n",
            "Epoch 10/30\n",
            "133/133 [==============================] - 2s 16ms/step - loss: 9.7025 - acc: 0.3910 - val_loss: 9.8459 - val_acc: 0.3333\n",
            "Epoch 11/30\n",
            "133/133 [==============================] - 2s 16ms/step - loss: 9.5758 - acc: 0.4060 - val_loss: 9.8808 - val_acc: 0.3333\n",
            "Epoch 12/30\n",
            "133/133 [==============================] - 2s 16ms/step - loss: 9.7048 - acc: 0.3910 - val_loss: 10.0400 - val_acc: 0.3333\n",
            "Epoch 13/30\n",
            "133/133 [==============================] - 2s 16ms/step - loss: 9.0317 - acc: 0.4361 - val_loss: 12.2906 - val_acc: 0.1930\n",
            "Epoch 14/30\n",
            "133/133 [==============================] - 2s 16ms/step - loss: 5.5054 - acc: 0.4962 - val_loss: 1.5471 - val_acc: 0.6842\n",
            "Epoch 15/30\n",
            "133/133 [==============================] - 2s 16ms/step - loss: 1.0153 - acc: 0.7143 - val_loss: 1.0594 - val_acc: 0.7368\n",
            "Epoch 16/30\n",
            "133/133 [==============================] - 2s 16ms/step - loss: 0.4612 - acc: 0.8120 - val_loss: 1.7430 - val_acc: 0.6316\n",
            "Epoch 17/30\n",
            "133/133 [==============================] - 2s 16ms/step - loss: 0.1361 - acc: 0.9474 - val_loss: 2.1376 - val_acc: 0.5263\n",
            "Epoch 18/30\n",
            "133/133 [==============================] - 2s 16ms/step - loss: 0.4139 - acc: 0.8571 - val_loss: 1.4257 - val_acc: 0.6491\n",
            "Epoch 19/30\n",
            "133/133 [==============================] - 2s 16ms/step - loss: 0.3254 - acc: 0.9549 - val_loss: 1.4123 - val_acc: 0.7018\n",
            "Epoch 20/30\n",
            "133/133 [==============================] - 2s 16ms/step - loss: 0.1749 - acc: 0.9398 - val_loss: 0.6838 - val_acc: 0.8246\n",
            "Epoch 21/30\n",
            "133/133 [==============================] - 2s 16ms/step - loss: 0.2497 - acc: 0.9248 - val_loss: 1.1530 - val_acc: 0.6667\n",
            "Epoch 22/30\n",
            "133/133 [==============================] - 2s 16ms/step - loss: 0.1813 - acc: 0.9323 - val_loss: 1.2657 - val_acc: 0.7193\n",
            "Epoch 23/30\n",
            "133/133 [==============================] - 2s 16ms/step - loss: 0.0275 - acc: 0.9925 - val_loss: 1.3046 - val_acc: 0.7193\n",
            "Epoch 24/30\n",
            "133/133 [==============================] - 2s 16ms/step - loss: 0.0033 - acc: 1.0000 - val_loss: 1.2071 - val_acc: 0.7544\n",
            "Epoch 25/30\n",
            "133/133 [==============================] - 2s 16ms/step - loss: 0.0132 - acc: 1.0000 - val_loss: 1.2413 - val_acc: 0.7895\n",
            "Epoch 26/30\n",
            "133/133 [==============================] - 2s 16ms/step - loss: 0.0026 - acc: 1.0000 - val_loss: 1.2279 - val_acc: 0.7719\n",
            "Epoch 27/30\n",
            "133/133 [==============================] - 2s 16ms/step - loss: 0.0024 - acc: 1.0000 - val_loss: 1.5207 - val_acc: 0.6842\n",
            "Epoch 28/30\n",
            "133/133 [==============================] - 2s 16ms/step - loss: 4.4912e-04 - acc: 1.0000 - val_loss: 1.5577 - val_acc: 0.6842\n",
            "Epoch 29/30\n",
            "133/133 [==============================] - 2s 16ms/step - loss: 0.0022 - acc: 1.0000 - val_loss: 1.4359 - val_acc: 0.7719\n",
            "Epoch 30/30\n",
            "133/133 [==============================] - 2s 16ms/step - loss: 0.1774 - acc: 0.9549 - val_loss: 2.3985 - val_acc: 0.6316\n"
          ],
          "name": "stdout"
        }
      ]
    },
    {
      "cell_type": "code",
      "metadata": {
        "id": "mE0f1TnB6Ea6",
        "colab_type": "code",
        "outputId": "fb87623d-30ec-4907-c704-9887d74c024e",
        "colab": {
          "base_uri": "https://localhost:8080/",
          "height": 626
        }
      },
      "source": [
        "plot_confusion_matrix(trainer)\n",
        "\n",
        "scores(trainer)"
      ],
      "execution_count": 0,
      "outputs": [
        {
          "output_type": "stream",
          "text": [
            "64/64 [==============================] - 1s 9ms/step\n",
            "Test loss 0.9350, accuracy 75.00%\n",
            "=========================================================================================\n",
            "Classification report for classifier <keras.engine.sequential.Sequential object at 0x7f752a33e550>:\n",
            "              precision    recall  f1-score   support\n",
            "\n",
            "           0       0.78      0.44      0.56        16\n",
            "           1       0.56      0.82      0.67        17\n",
            "           2       0.86      0.80      0.83        15\n",
            "           3       0.94      0.94      0.94        16\n",
            "\n",
            "    accuracy                           0.75        64\n",
            "   macro avg       0.78      0.75      0.75        64\n",
            "weighted avg       0.78      0.75      0.75        64\n",
            "\n",
            "\n",
            "=========================================================================================\n",
            "[[ 7  8  0  1]\n",
            " [ 1 14  2  0]\n",
            " [ 0  3 12  0]\n",
            " [ 1  0  0 15]]\n"
          ],
          "name": "stdout"
        },
        {
          "output_type": "display_data",
          "data": {
            "image/png": "[encoded data removed]",
            "text/plain": [
              "<Figure size 432x288 with 2 Axes>"
            ]
          },
          "metadata": {
            "tags": []
          }
        }
      ]
    },
    {
      "cell_type": "code",
      "metadata": {
        "id": "8X97BHni6Zbz",
        "colab_type": "code",
        "outputId": "f590ab3d-f46e-44b9-d138-dfc99fe6a659",
        "colab": {
          "base_uri": "https://localhost:8080/",
          "height": 573
        }
      },
      "source": [
        "graph(Skeleton_naug)"
      ],
      "execution_count": 0,
      "outputs": [
        {
          "output_type": "display_data",
          "data": {
            "image/png": "[encoded data removed]",
            "text/plain": [
              "<Figure size 432x288 with 1 Axes>"
            ]
          },
          "metadata": {
            "tags": []
          }
        },
        {
          "output_type": "display_data",
          "data": {
            "image/png": "[encoded data removed]",
            "text/plain": [
              "<Figure size 432x288 with 1 Axes>"
            ]
          },
          "metadata": {
            "tags": []
          }
        }
      ]
    },
    {
      "cell_type": "code",
      "metadata": {
        "id": "ROO7H8Ls6djz",
        "colab_type": "code",
        "colab": {}
      },
      "source": [
        ""
      ],
      "execution_count": 0,
      "outputs": []
    }
  ]
}